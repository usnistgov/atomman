{
 "cells": [
  {
   "cell_type": "markdown",
   "metadata": {},
   "source": [
    "# Introduction to atomman: Potential class\n",
    "\n",
    "__Lucas M. Hale__, [lucas.hale@nist.gov](mailto:lucas.hale@nist.gov?Subject=ipr-demo), _Materials Science and Engineering Division, NIST_.\n",
    "\n",
    "Notebook last updated: 2018-04-05\n",
    "    \n",
    "[Disclaimers](http://www.nist.gov/public_affairs/disclaimer.cfm)"
   ]
  },
  {
   "cell_type": "markdown",
   "metadata": {},
   "source": [
    "<a id='section1'></a>"
   ]
  },
  {
   "cell_type": "markdown",
   "metadata": {},
   "source": [
    "## 1. Introduction\n",
    "\n",
    "The Potential class is a Python interpretation of the potential_LAMMPS data model record format. The potential_LAMMPS data models contain metadata associated with the LAMMPS input command lines associated with properly running a simulation with the indicated potential. Together, the potential_LAMMPS data model and the Potential class make it easy to design simulations that can be easily executed across multiple potentials of any LAMMPS pair style.\n",
    "\n",
    "Complete potential_LAMMPS data models in JSON and the associated potential parameter files for many potentials can be [downloaded from the iprPy github](https://github.com/usnistgov/iprPy/tree/master/library/potential_LAMMPS)."
   ]
  },
  {
   "cell_type": "markdown",
   "metadata": {},
   "source": [
    "**Library Imports**"
   ]
  },
  {
   "cell_type": "code",
   "execution_count": 1,
   "metadata": {},
   "outputs": [
    {
     "name": "stdout",
     "output_type": "stream",
     "text": [
      "atomman version = 1.2.0\n"
     ]
    }
   ],
   "source": [
    "# Standard libraries\n",
    "from __future__ import (absolute_import, print_function,\n",
    "                        division, unicode_literals)\n",
    "import os\n",
    "\n",
    "# http://www.numpy.org/\n",
    "import numpy as np             \n",
    "\n",
    "# https://github.com/usnistgov/atomman\n",
    "import atomman as am            \n",
    "import atomman.lammps as lmp\n",
    "import atomman.unitconvert as uc\n",
    "\n",
    "# Show atomman version\n",
    "print('atomman version =', am.__version__)"
   ]
  },
  {
   "cell_type": "markdown",
   "metadata": {},
   "source": [
    "## 2. Class Basics <a id='section2'></a>\n",
    "\n",
    "The atomman.Potential class is a Python interpretation of the potential_LAMMPS data model record format.  A Potential object is initialized by reading in a data model as either a [DataModelDict](https://github.com/usnistgov/DataModelDict), or JSON or XML content."
   ]
  },
  {
   "cell_type": "markdown",
   "metadata": {},
   "source": [
    "### 2.1.Demonstration data model <a id='section2.1'></a>\n",
    "\n",
    "This is a demonstration data model record for an eam/alloy style potential.  See [Section 5](#section5). for more details on the data model record format and examples for other pair styles."
   ]
  },
  {
   "cell_type": "code",
   "execution_count": 2,
   "metadata": {},
   "outputs": [],
   "source": [
    "# Define data model record in JSON format\n",
    "eam_alloy_json = \"\"\"{\n",
    "    \"potential-LAMMPS\": {\n",
    "        \"key\": \"a45a7731-d115-4079-b6f5-aa700c5b5c56\",\n",
    "        \"id\": \"EAM-demo--LAMMPS--v1\",\n",
    "        \"potential\": {\n",
    "            \"key\": \"820738a9-f556-468b-9041-9d98351ff751\",\n",
    "            \"id\": \"EAM-demo\"\n",
    "        },\n",
    "        \"units\": \"metal\",\n",
    "        \"atom_style\": \"atomic\",\n",
    "        \"atom\": [\n",
    "            {\n",
    "                \"element\": \"Ni\",\n",
    "                \"mass\": 58.6934\n",
    "            },\n",
    "            {\n",
    "                \"element\": \"Al\",\n",
    "                \"mass\": 26.981539\n",
    "            },\n",
    "            {\n",
    "                \"element\": \"Co\",\n",
    "                \"mass\": 58.9332\n",
    "            }\n",
    "        ],\n",
    "        \"pair_style\": {\n",
    "            \"type\": \"eam/alloy\"\n",
    "        },\n",
    "        \"pair_coeff\": {\n",
    "            \"term\": [\n",
    "                {\n",
    "                    \"file\": \"file.eam.alloy\"\n",
    "                },\n",
    "                {\n",
    "                    \"symbols\": \"True\"\n",
    "                }\n",
    "            ]\n",
    "        }\n",
    "    }\n",
    "}\"\"\""
   ]
  },
  {
   "cell_type": "markdown",
   "metadata": {},
   "source": [
    "### 2.2. Load a data model with Potential <a id='section2.2'></a>\n",
    "\n",
    "A Potential object is initialized by loading a data model.\n",
    "\n",
    "Parameters\n",
    "\n",
    "- **model** (*DataModelDict, str, or file-like object*) The potential_LAMMPS data model content to load.\n",
    "\n",
    "- **pot_dir** (*str, optional*) directory location for any artifacts (eg. .eam.alloy files) associated with the potential. A value of None (default) indicates to use the working directory where the simulation will be ran."
   ]
  },
  {
   "cell_type": "code",
   "execution_count": 3,
   "metadata": {},
   "outputs": [],
   "source": [
    "potential = lmp.Potential(eam_alloy_json)"
   ]
  },
  {
   "cell_type": "markdown",
   "metadata": {},
   "source": [
    "Alternatively, a data model can be loaded by an existing Potential object with the load() method.  It has the same parameters as the class initializer."
   ]
  },
  {
   "cell_type": "code",
   "execution_count": 4,
   "metadata": {},
   "outputs": [],
   "source": [
    "potential.load(eam_alloy_json, pot_dir='potential_folder')"
   ]
  },
  {
   "cell_type": "markdown",
   "metadata": {},
   "source": [
    "### 2.3. Potential identifiers <a id='section2.3'></a>\n",
    "\n",
    "Each potential_LAMMPS record has multiple terms to uniquely identify the potential model and implementation. \n",
    "\n",
    "- **potkey** (*str*) uuid4 hash-key for the potential model, i.e. the published mathematical form.  This is permanent once assigned.\n",
    "\n",
    "- **potid** (*str*) human-readable unique identifier for the potential model derived from year, author, element model information.  This ideally is permanent, but may change based on updated publication information.\n",
    "\n",
    "- **key** (*str*) uuid hash-key for the LAMMPS potential implementation, i.e. the specific potential parameter file(s) and/or LAMMPS pair_style/pair_coeff command lines used.  This is permament once assigned.\n",
    "\n",
    "- **id** (*str*) human-readable identifier for the LAMMPS potential implementation derived from the potid, source and version.  This may change if potid changes.\n",
    "\n",
    "Another way to think about it is that potkey and potid name the potential, while key and id name the version."
   ]
  },
  {
   "cell_type": "code",
   "execution_count": 5,
   "metadata": {},
   "outputs": [
    {
     "name": "stdout",
     "output_type": "stream",
     "text": [
      "potential.potkey -> 820738a9-f556-468b-9041-9d98351ff751\n",
      "potential.potid ->  EAM-demo\n",
      "potential.key ->    a45a7731-d115-4079-b6f5-aa700c5b5c56\n",
      "potential.id ->     EAM-demo--LAMMPS--v1\n"
     ]
    }
   ],
   "source": [
    "print(\"potential.potkey ->\", potential.potkey)\n",
    "print(\"potential.potid -> \", potential.potid)\n",
    "print(\"potential.key ->   \", potential.key)\n",
    "print(\"potential.id ->    \", potential.id)"
   ]
  },
  {
   "cell_type": "markdown",
   "metadata": {},
   "source": [
    "The string representation of the Potential returns its id."
   ]
  },
  {
   "cell_type": "code",
   "execution_count": 6,
   "metadata": {},
   "outputs": [
    {
     "name": "stdout",
     "output_type": "stream",
     "text": [
      "EAM-demo--LAMMPS--v1\n"
     ]
    }
   ],
   "source": [
    "print(potential)"
   ]
  },
  {
   "cell_type": "markdown",
   "metadata": {},
   "source": [
    "### 2.4. Other attributes <a id='section2.4'></a>\n",
    "\n",
    "- **atom_style** (*str*) LAMMPS atom_style option for the potential.\n",
    "\n",
    "- **pair_style** (*str*) LAMMPS pair_style option for the potential.\n",
    "\n",
    "- **pot_dir** (*str*) the directory containing files associated with the potential.\n",
    "\n",
    "- **symbols** (*list*) list of all atom-model symbols for the potential.\n",
    "\n",
    "- **units** (*str*) LAMMPS units option for the potential."
   ]
  },
  {
   "cell_type": "code",
   "execution_count": 7,
   "metadata": {},
   "outputs": [
    {
     "name": "stdout",
     "output_type": "stream",
     "text": [
      "potential.atom_style -> atomic\n",
      "potential.pair_style -> eam/alloy\n",
      "potential.units ->      metal\n",
      "potential.symbols ->    ['Ni', 'Al', 'Co']\n",
      "potential.pot_dir ->    potential_folder\n"
     ]
    }
   ],
   "source": [
    "print(\"potential.atom_style ->\", potential.atom_style)\n",
    "print(\"potential.pair_style ->\", potential.pair_style)\n",
    "print(\"potential.units ->     \", potential.units)\n",
    "print(\"potential.symbols ->   \", potential.symbols)\n",
    "print(\"potential.pot_dir ->   \", potential.pot_dir)"
   ]
  },
  {
   "cell_type": "markdown",
   "metadata": {},
   "source": [
    "The pot_dir can also be changed at any time."
   ]
  },
  {
   "cell_type": "code",
   "execution_count": 8,
   "metadata": {},
   "outputs": [
    {
     "name": "stdout",
     "output_type": "stream",
     "text": [
      "potential.pot_dir ->  new_potential_folder\n"
     ]
    }
   ],
   "source": [
    "potential.pot_dir = 'new_potential_folder'\n",
    "\n",
    "print(\"potential.pot_dir -> \", potential.pot_dir)"
   ]
  },
  {
   "cell_type": "markdown",
   "metadata": {},
   "source": [
    "## 3. Elements and Masses <a id='section3'></a>\n",
    "\n",
    "Information about the elements and masses associated with each atom-model symbol can also be retrieved using the elements() and masses() methods.  Both methods have the same parameters.\n",
    "\n",
    "**NOTE:** The Potential class makes a distinction between symbols and elements.  The symbols are the tags used by LAMMPS to identify which atom-model listed in a parameter file to use.  These typically coincide with the elements the models represent, but this is not always the case as some potential styles allow multiple interaction models to be defined for the same elements.  Differentiating between symbols and elements allows for the Potential class to handle these types of potentials as well.\n",
    "\n",
    "\n",
    "Parameters\n",
    "\n",
    "- **symbols** (*str or list, optional*) a list of the potential's symbol models to retrieve values for. If value is None (default) then Potential.symbols is used."
   ]
  },
  {
   "cell_type": "markdown",
   "metadata": {},
   "source": [
    "Calling the methods without parameters uses all symbols."
   ]
  },
  {
   "cell_type": "code",
   "execution_count": 9,
   "metadata": {},
   "outputs": [
    {
     "name": "stdout",
     "output_type": "stream",
     "text": [
      "potential.symbols ->    ['Ni', 'Al', 'Co']\n",
      "potential.elements() -> ['Ni', 'Al', 'Co']\n",
      "potential.masses() ->   [58.6934, 26.981539, 58.9332]\n"
     ]
    }
   ],
   "source": [
    "# Calling methods without parameters uses all symbols\n",
    "print(\"potential.symbols ->   \", potential.symbols)\n",
    "print(\"potential.elements() ->\", potential.elements())\n",
    "print(\"potential.masses() ->  \", potential.masses())"
   ]
  },
  {
   "cell_type": "markdown",
   "metadata": {},
   "source": [
    "Calling the methods with symbols gives values for that particular set."
   ]
  },
  {
   "cell_type": "code",
   "execution_count": 10,
   "metadata": {},
   "outputs": [
    {
     "name": "stdout",
     "output_type": "stream",
     "text": [
      "potential.elements('Ni') -> ['Ni']\n",
      "potential.masses('Ni') -> [58.6934]\n",
      "\n",
      "potential.elements(['Al', 'Al', 'Co', 'Al']) -> ['Al', 'Al', 'Co', 'Al']\n",
      "potential.masses(['Al', 'Al', 'Co', 'Al']) ->   [26.981539, 26.981539, 58.9332, 26.981539]\n",
      "\n"
     ]
    }
   ],
   "source": [
    "# Calling methods with symbols uses that particular set\n",
    "print(\"potential.elements('Ni') ->\", potential.elements('Ni'))\n",
    "print(\"potential.masses('Ni') ->\", potential.masses('Ni'))\n",
    "print()\n",
    "\n",
    "print(\"potential.elements(['Al', 'Al', 'Co', 'Al']) ->\", potential.elements(['Al', 'Al', 'Co', 'Al']))\n",
    "print(\"potential.masses(['Al', 'Al', 'Co', 'Al']) ->  \", potential.masses(['Al', 'Al', 'Co', 'Al']))\n",
    "print()"
   ]
  },
  {
   "cell_type": "markdown",
   "metadata": {},
   "source": [
    "## 4. Generate LAMMPS commands <a id='section4'></a>\n",
    "\n",
    "The LAMMPS input command lines for using the potential can also be autogenerated using the pair_info() method.\n",
    "\n",
    "Parameters\n",
    "\n",
    "- **symbols** (*str or list, optional*) a list of the potential's symbol models to associate with integer atom types of a system. If value is None (default) then Potential.symbols is used.\n",
    "\n",
    "**NOTE:** For pair_styles hybrid and hybrid/overlay, the list of symbols given as parameters must include all defined atom model interactions."
   ]
  },
  {
   "cell_type": "markdown",
   "metadata": {},
   "source": [
    "Without symbols gives LAMMPS commands for all symbols in the same order as the data model."
   ]
  },
  {
   "cell_type": "code",
   "execution_count": 11,
   "metadata": {},
   "outputs": [
    {
     "name": "stdout",
     "output_type": "stream",
     "text": [
      "potential.pair_info() ->\n",
      "mass 1 58.693400\n",
      "mass 2 26.981539\n",
      "mass 3 58.933200\n",
      "\n",
      "pair_style eam/alloy\n",
      "pair_coeff * * new_potential_folder\\file.eam.alloy Ni Al Co\n",
      "\n"
     ]
    }
   ],
   "source": [
    "print('potential.pair_info() ->')\n",
    "print(potential.pair_info())"
   ]
  },
  {
   "cell_type": "markdown",
   "metadata": {},
   "source": [
    "Give a list of symbols to dynamically generate commands based on the elements in the associated atomic system."
   ]
  },
  {
   "cell_type": "code",
   "execution_count": 12,
   "metadata": {},
   "outputs": [
    {
     "name": "stdout",
     "output_type": "stream",
     "text": [
      "potential.pair_info('Ni') ->\n",
      "mass 1 58.693400\n",
      "\n",
      "pair_style eam/alloy\n",
      "pair_coeff * * new_potential_folder\\file.eam.alloy Ni\n",
      "\n"
     ]
    }
   ],
   "source": [
    "print(\"potential.pair_info('Ni') ->\")\n",
    "print(potential.pair_info('Ni'))"
   ]
  },
  {
   "cell_type": "code",
   "execution_count": 13,
   "metadata": {},
   "outputs": [
    {
     "name": "stdout",
     "output_type": "stream",
     "text": [
      "potential.pair_info(['Al', 'Al', 'Co', 'Al']) ->\n",
      "mass 1 26.981539\n",
      "mass 2 26.981539\n",
      "mass 3 58.933200\n",
      "mass 4 26.981539\n",
      "\n",
      "pair_style eam/alloy\n",
      "pair_coeff * * new_potential_folder\\file.eam.alloy Al Al Co Al\n",
      "\n"
     ]
    }
   ],
   "source": [
    "print(\"potential.pair_info(['Al', 'Al', 'Co', 'Al']) ->\")\n",
    "print(potential.pair_info(['Al', 'Al', 'Co', 'Al']))"
   ]
  },
  {
   "cell_type": "markdown",
   "metadata": {},
   "source": [
    "## 5. potential_LAMMPS Data Model <a id='section5'></a>\n",
    "\n",
    "This section describes the structure of the potential_LAMMPS data model and provides some examples for different LAMMPS pair styles."
   ]
  },
  {
   "cell_type": "markdown",
   "metadata": {},
   "source": [
    "### 5.1. potential_LAMMPS data model schema <a id='section5'></a>\n",
    "\n",
    "The potential_LAMMPS data model is consistent with a json/xml structure. The root element of the model is __\"potential-LAMMPS\"__.\n",
    "\n",
    "Elements: \n",
    "\n",
    "- __\"key\"__ : a uuid hash-key that uniquely identifies the potential implementation.  Corresponds to the Potential.key attribute.\n",
    "\n",
    "- __\"id\"__ : a human-readable identifier that uniquely identifies the potential implementation.  Corresponds to the Potential.id attribute.\n",
    "\n",
    "- __\"potential\"__ : contains metadata associated with the potential model.\n",
    "\n",
    "- __\"units\"__ : the LAMMPS units option to use with the potential.  Corresponds to the Potential.units attribute.\n",
    "\n",
    "- __\"atom_style\"__ : the LAMMPS atom_style option to use with the potential.  Corresponds to the Potential.atom_style attribute.\n",
    "\n",
    "- __\"atom\"__ : provides information relating to the atom-models defined in the potential.\n",
    "\n",
    "- __\"pair_style\"__ : classifies the terms that appear in the LAMMPS pair_style command associated with the potential.\n",
    "\n",
    "- __\"pair_coeff\"__ : classifies the terms that appear in the LAMMPS pair_coeff command associated with the potential.\n",
    "\n",
    "- __\"command\"__ : classifies the terms that appear in any other LAMMPS command associated with the potential."
   ]
  },
  {
   "cell_type": "markdown",
   "metadata": {},
   "source": [
    "#### 5.1.1. The \"potential\" branch <a id='section5.1.1'></a>\n",
    "\n",
    "The __\"potential\"__ branch gives metadata associated with the potential model that the LAMMPS implementation is based on. The potential model is the concept (mathematical expression) of a potential, and multiple implementations of the same potential model may exist. \n",
    "\n",
    "Subelements:\n",
    "\n",
    "- __\"key\"__ : a uuid hash-key that uniquely identifies the potential model.  Corresponds to the Potential.potkey attribute.\n",
    "\n",
    "- __\"id\"__ : a human-readable identifier that uniquely identifies the potential model.   Corresponds to the Potential.potid attribute."
   ]
  },
  {
   "cell_type": "code",
   "execution_count": 14,
   "metadata": {},
   "outputs": [
    {
     "name": "stdout",
     "output_type": "stream",
     "text": [
      "{\n",
      "    \"potential\": {\n",
      "        \"key\": <uuid>, \n",
      "        \"id\": <name>\n",
      "    }\n",
      "}\n"
     ]
    }
   ],
   "source": [
    "print(\"\"\"{\n",
    "    \"potential\": {\n",
    "        \"key\": <uuid>, \n",
    "        \"id\": <name>\n",
    "    }\n",
    "}\"\"\")"
   ]
  },
  {
   "cell_type": "markdown",
   "metadata": {},
   "source": [
    "#### 5.1.2. The \"atom\" branch <a id='section5.1.2'></a>\n",
    "\n",
    "The __\"atom\"__ branch of the data model provides a list of the atom-models described by the potential.\n",
    "\n",
    "Subelements:\n",
    "\n",
    "- __\"element\"__: chemical element tag associated with the atom-model. If not given, it is set equal to the __\"symbol\"__ value.\n",
    "\n",
    "- __\"symbol\"__: unique symbol associated with the atom-model. If not given, it is set equal to the __\"element\"__ value.\n",
    "\n",
    "- __\"mass\"__: element mass associated with the element/atom-model. If not given, it is set equal to the standard atomic mass value associated with the element given by __\"element\"__. "
   ]
  },
  {
   "cell_type": "code",
   "execution_count": 15,
   "metadata": {},
   "outputs": [
    {
     "name": "stdout",
     "output_type": "stream",
     "text": [
      "{\n",
      "    \"atom\": {\n",
      "        \"element\": <element-tag>,\n",
      "        \"symbol\": <atom-model-name>,\n",
      "        \"mass\": <element-mass>\n",
      "    }\n",
      "}\n"
     ]
    }
   ],
   "source": [
    "# Single-element potentials\n",
    "print(\"\"\"{\n",
    "    \"atom\": {\n",
    "        \"element\": <element-tag>,\n",
    "        \"symbol\": <atom-model-name>,\n",
    "        \"mass\": <element-mass>\n",
    "    }\n",
    "}\"\"\")"
   ]
  },
  {
   "cell_type": "code",
   "execution_count": 16,
   "metadata": {},
   "outputs": [
    {
     "name": "stdout",
     "output_type": "stream",
     "text": [
      "{\n",
      "    \"atom\": [\n",
      "        {\n",
      "            \"element\": <element-tag>,\n",
      "            \"symbol\": <atom-model-name>,\n",
      "            \"mass\": <element-mass>\n",
      "        },\n",
      "        {\n",
      "            \"element\": <element-tag>,\n",
      "            \"symbol\": <atom-model-name>,\n",
      "            \"mass\": <element-mass>\n",
      "        }\n",
      "    ]\n",
      "}\n"
     ]
    }
   ],
   "source": [
    "# Multi-element potentials\n",
    "print(\"\"\"{\n",
    "    \"atom\": [\n",
    "        {\n",
    "            \"element\": <element-tag>,\n",
    "            \"symbol\": <atom-model-name>,\n",
    "            \"mass\": <element-mass>\n",
    "        },\n",
    "        {\n",
    "            \"element\": <element-tag>,\n",
    "            \"symbol\": <atom-model-name>,\n",
    "            \"mass\": <element-mass>\n",
    "        }\n",
    "    ]\n",
    "}\"\"\")"
   ]
  },
  {
   "cell_type": "markdown",
   "metadata": {},
   "source": [
    "#### 5.1.3. The \"pair_style\" branch <a id='section5.1.3'></a>\n",
    "\n",
    "The __\"pair_style\"__ branch of the data model characterizes the terms that appear in the LAMMPS pair_style command for the potential.\n",
    "\n",
    "Subelements:\n",
    "\n",
    "- __\"type\"__ : the specific LAMMPS pair_style option for the potential.  Corresponds to the Potential.pair_style attribute.\n",
    "\n",
    "- __\"term\"__ : a list characterizing any additional terms that appear in the pair_style command line. The available subelements are the same as the ones available in the __\"term\"__ branch of __\"pair_coeff\"__.\n",
    "    "
   ]
  },
  {
   "cell_type": "code",
   "execution_count": 17,
   "metadata": {},
   "outputs": [
    {
     "name": "stdout",
     "output_type": "stream",
     "text": [
      "{\n",
      "    \"pair_style\": {\n",
      "        \"type\": <pair_style-type>,\n",
      "        \"term\": [\n",
      "            {\n",
      "                \"parameter\": <number>\n",
      "            },\n",
      "            {\n",
      "                \"option\": <string>\n",
      "            }\n",
      "        ]\n",
      "    } \n",
      "}\n"
     ]
    }
   ],
   "source": [
    "print(\"\"\"{\n",
    "    \"pair_style\": {\n",
    "        \"type\": <pair_style-type>,\n",
    "        \"term\": [\n",
    "            {\n",
    "                \"parameter\": <number>\n",
    "            },\n",
    "            {\n",
    "                \"option\": <string>\n",
    "            }\n",
    "        ]\n",
    "    } \n",
    "}\"\"\")"
   ]
  },
  {
   "cell_type": "markdown",
   "metadata": {},
   "source": [
    "#### 5.1.4. The \"pair_coeff\" branch <a id='section5.1.4'></a>\n",
    "\n",
    "The __\"pair_coeff\"__ branch of the data model characterizes the terms that appear in the LAMMPS pair_coeff command lines for the potential. Multiple __\"pair_coeff\"__ values can be given.\n",
    "\n",
    "Subelements:\n",
    "\n",
    "- __\"interaction\"__ : an __\"interaction\"__ branch that outlines the atom-model interactions associated with a pair_coeff command line. \n",
    "    - __\"symbol\"__ : a list of the atom-model symbols that the interaction is associated with.\n",
    "\n",
    "- __\"term\"__ : a __\"term\"__ branch that characterizes all the terms that appear in a pair_coeff command line.\n",
    "    - __\"option\"__ : a string option value.\n",
    "    - __\"parameter\"__ : a numerical parameter value.\n",
    "    - __\"file\"__ : a file name. Used by potential styles that read parameters from external files, like eam/alloy. \n",
    "    - __\"symbols\"__ : Boolean indicating to show a list of the atom-model symbols to use. Used by potential styles that read parameters from external potential files, like eam/alloy. \n",
    "    - __\"symbolsList\"__ : Boolean indicating to show a list of the unique atom-model symbols to use.  Don't use!\n",
    "    \n",
    "Different types of pair_styles have slightly different rules with interpreting the __\"pair_coeff\"__ branch.\n",
    "\n",
    "- For two-body style potentials, every unique atom-model pair has its own __\"pair_coeff\"__ element. __\"interaction\"__-__\"symbol\"__ must have two values indicating the atom-model pair, eg. [\"Ag\", \"Ag\"] for the Ag-Ag interaction and [\"Ag\", \"Cu\"] for Ag-Cu and Cu-Ag interactions. __\"interaction\"__ is optional if there is only one pair interaction, i.e. an elemental pair potential.\n",
    "\n",
    "- For many-body style potentials, __\"interaction\"__ is optional as all atom-model interactions are accessed using the same pair_coeff command line.\n",
    "\n",
    "- For hybrid style potentials, __\"interaction\"__-__\"symbol\"__ lists all atom-model symbols associated with the particular sub-style. It will have two values for pair sub-styles, but can be of any length for many-body sub-styles."
   ]
  },
  {
   "cell_type": "code",
   "execution_count": 18,
   "metadata": {},
   "outputs": [
    {
     "name": "stdout",
     "output_type": "stream",
     "text": [
      "{\n",
      "    \"pair_coeff\": [\n",
      "        {\n",
      "            \"interaction\": {\n",
      "                \"symbol\": [\n",
      "                    <atom-model-name>,\n",
      "                    <atom-model-name>\n",
      "                ]\n",
      "            }\n",
      "            \"term\": [\n",
      "                {\n",
      "                    \"parameter\": <number>\n",
      "                },\n",
      "                {\n",
      "                    \"parameter\": <number>\n",
      "                },\n",
      "                {\n",
      "                    \"parameter\": <number>\n",
      "                },\n",
      "                {\n",
      "                    \"option\": <string>\n",
      "                }\n",
      "            ]\n",
      "        },\n",
      "        {\n",
      "            \"interaction\": {\n",
      "                \"symbol\": [\n",
      "                    <atom-model-name>,\n",
      "                    <atom-model-name>\n",
      "                ]\n",
      "            }\n",
      "            \"term\": [\n",
      "                {\n",
      "                    \"parameter\": <number>\n",
      "                },\n",
      "                {\n",
      "                    \"parameter\": <number>\n",
      "                },\n",
      "                {\n",
      "                    \"parameter\": <number>\n",
      "                },\n",
      "                {\n",
      "                    \"option\": <string>\n",
      "                }\n",
      "            ]\n",
      "        }        \n",
      "    } \n",
      "}\n"
     ]
    }
   ],
   "source": [
    "# pair_coeff example for two-body style potentials \n",
    "print(\"\"\"{\n",
    "    \"pair_coeff\": [\n",
    "        {\n",
    "            \"interaction\": {\n",
    "                \"symbol\": [\n",
    "                    <atom-model-name>,\n",
    "                    <atom-model-name>\n",
    "                ]\n",
    "            }\n",
    "            \"term\": [\n",
    "                {\n",
    "                    \"parameter\": <number>\n",
    "                },\n",
    "                {\n",
    "                    \"parameter\": <number>\n",
    "                },\n",
    "                {\n",
    "                    \"parameter\": <number>\n",
    "                },\n",
    "                {\n",
    "                    \"option\": <string>\n",
    "                }\n",
    "            ]\n",
    "        },\n",
    "        {\n",
    "            \"interaction\": {\n",
    "                \"symbol\": [\n",
    "                    <atom-model-name>,\n",
    "                    <atom-model-name>\n",
    "                ]\n",
    "            }\n",
    "            \"term\": [\n",
    "                {\n",
    "                    \"parameter\": <number>\n",
    "                },\n",
    "                {\n",
    "                    \"parameter\": <number>\n",
    "                },\n",
    "                {\n",
    "                    \"parameter\": <number>\n",
    "                },\n",
    "                {\n",
    "                    \"option\": <string>\n",
    "                }\n",
    "            ]\n",
    "        }        \n",
    "    } \n",
    "}\"\"\")"
   ]
  },
  {
   "cell_type": "code",
   "execution_count": 19,
   "metadata": {},
   "outputs": [
    {
     "name": "stdout",
     "output_type": "stream",
     "text": [
      "{\n",
      "    \"pair_coeff\": {\n",
      "        \"term\": [\n",
      "            {\n",
      "                \"file\": <file-path>\n",
      "            },\n",
      "            {\n",
      "                \"option\": <string>\n",
      "            },\n",
      "            {\n",
      "                \"file\": <file-path>\n",
      "            },\n",
      "            {\n",
      "                \"symbols\": true\n",
      "            }\n",
      "        ]\n",
      "    } \n",
      "}\n"
     ]
    }
   ],
   "source": [
    "# pair_coeff example for many-body potentials with library and parameter files\n",
    "print(\"\"\"{\n",
    "    \"pair_coeff\": {\n",
    "        \"term\": [\n",
    "            {\n",
    "                \"file\": <file-path>\n",
    "            },\n",
    "            {\n",
    "                \"option\": <string>\n",
    "            },\n",
    "            {\n",
    "                \"file\": <file-path>\n",
    "            },\n",
    "            {\n",
    "                \"symbols\": true\n",
    "            }\n",
    "        ]\n",
    "    } \n",
    "}\"\"\")"
   ]
  },
  {
   "cell_type": "markdown",
   "metadata": {},
   "source": [
    "#### 5.1.5. The \"command\" branch <a id='section5.1.5'></a>\n",
    "\n",
    "The __\"command\"__ branch of the data model characterizes the terms that appear in any other LAMMPS command lines that are required for properly running the potential. This is needed for specifying such things as a fix qeq/comb for COMB potentials.\n",
    "\n",
    "Subelements:\n",
    "\n",
    "- __\"term\"__ : a __\"term\"__ branch that characterizes all the terms that appear in the command line.\n",
    "    - __\"option\"__ : a string option value.\n",
    "    - __\"parameter\"__ : a numerical parameter value.\n",
    "    - __\"file\"__ : a file name.\n",
    "    - __\"symbols\"__ : Boolean indicating to show a list of the atom-model symbols to use. \n",
    "    - __\"symbolsList\"__ : Boolean indicating to show a list of the unique atom-model symbols to use. "
   ]
  },
  {
   "cell_type": "code",
   "execution_count": 20,
   "metadata": {},
   "outputs": [
    {
     "name": "stdout",
     "output_type": "stream",
     "text": [
      "{\n",
      "    \"command\": {\n",
      "        \"term\": [\n",
      "            {\n",
      "                \"option\": <string>\n",
      "            },\n",
      "            {\n",
      "                \"option\": <string>\n",
      "            },\n",
      "            {\n",
      "                \"parameter\": <number>\n",
      "            },\n",
      "            {\n",
      "                \"parameter\": <number>\n",
      "            }                \n",
      "        ]\n",
      "    }\n",
      "}\n"
     ]
    }
   ],
   "source": [
    "print(\"\"\"{\n",
    "    \"command\": {\n",
    "        \"term\": [\n",
    "            {\n",
    "                \"option\": <string>\n",
    "            },\n",
    "            {\n",
    "                \"option\": <string>\n",
    "            },\n",
    "            {\n",
    "                \"parameter\": <number>\n",
    "            },\n",
    "            {\n",
    "                \"parameter\": <number>\n",
    "            }                \n",
    "        ]\n",
    "    }\n",
    "}\"\"\")"
   ]
  },
  {
   "cell_type": "markdown",
   "metadata": {},
   "source": [
    "### 5.2. Example data models <a id='section5.2'></a>\n",
    "\n",
    "__WARNING!__ These are not real potentials! They are only meant to provide a demonstration for different potential styles."
   ]
  },
  {
   "cell_type": "markdown",
   "metadata": {},
   "source": [
    "#### 5.2.1. Lennard-Jones and other two-body style potentials <a id='section5.2.1'></a>"
   ]
  },
  {
   "cell_type": "code",
   "execution_count": 21,
   "metadata": {},
   "outputs": [
    {
     "name": "stdout",
     "output_type": "stream",
     "text": [
      "{\n",
      "    \"potential-LAMMPS\": {\n",
      "        \"key\": \"7102f7ec-3612-4665-ad7e-60de508b5f37\",\n",
      "        \"id\": \"lj_cut-demo--LAMMPS--v1\",\n",
      "        \"potential\": {\n",
      "            \"key\": \"ebf17ffa-a5e7-41c5-8e6d-8e00eb7f5068\",\n",
      "            \"id\": \"lj_cut-demo\"\n",
      "        },\n",
      "        \"units\": \"lj\",\n",
      "        \"atom_style\": \"atomic\",\n",
      "        \"atom\": [\n",
      "            {\n",
      "                \"element\": \"He\"\n",
      "            },\n",
      "            {\n",
      "                \"element\": \"Ar\"\n",
      "            }\n",
      "        ],\n",
      "        \"pair_style\": {\n",
      "            \"type\": \"lj/cut\",\n",
      "            \"term\": {\n",
      "                \"parameter\": 10.0\n",
      "            }\n",
      "        },\n",
      "        \"pair_coeff\": [\n",
      "            {\n",
      "                \"interaction\": {\n",
      "                    \"symbol\": [\n",
      "                        \"He\",\n",
      "                        \"He\"\n",
      "                    ]\n",
      "                },\n",
      "                \"term\": [\n",
      "                    {\n",
      "                        \"parameter\": 1.0\n",
      "                    },\n",
      "                    {\n",
      "                        \"parameter\": 1.0\n",
      "                    }\n",
      "                ]\n",
      "            },\n",
      "            {\n",
      "                \"interaction\": {\n",
      "                    \"symbol\": [\n",
      "                        \"Ar\",\n",
      "                        \"Ar\"\n",
      "                    ]\n",
      "                },\n",
      "                \"term\": [\n",
      "                    {\n",
      "                        \"parameter\": 2.0\n",
      "                    },\n",
      "                    {\n",
      "                        \"parameter\": 2.0\n",
      "                    }\n",
      "                ]\n",
      "            },\n",
      "            {\n",
      "                \"interaction\": {\n",
      "                    \"symbol\": [\n",
      "                        \"He\",\n",
      "                        \"Ar\"\n",
      "                    ]\n",
      "                },\n",
      "                \"term\": [\n",
      "                    {\n",
      "                        \"parameter\": 1.0\n",
      "                    },\n",
      "                    {\n",
      "                        \"parameter\": 2.0\n",
      "                    }\n",
      "                ]\n",
      "            }            \n",
      "        ]\n",
      "    }\n",
      "}\n"
     ]
    }
   ],
   "source": [
    "print(\"\"\"{\n",
    "    \"potential-LAMMPS\": {\n",
    "        \"key\": \"7102f7ec-3612-4665-ad7e-60de508b5f37\",\n",
    "        \"id\": \"lj_cut-demo--LAMMPS--v1\",\n",
    "        \"potential\": {\n",
    "            \"key\": \"ebf17ffa-a5e7-41c5-8e6d-8e00eb7f5068\",\n",
    "            \"id\": \"lj_cut-demo\"\n",
    "        },\n",
    "        \"units\": \"lj\",\n",
    "        \"atom_style\": \"atomic\",\n",
    "        \"atom\": [\n",
    "            {\n",
    "                \"element\": \"He\"\n",
    "            },\n",
    "            {\n",
    "                \"element\": \"Ar\"\n",
    "            }\n",
    "        ],\n",
    "        \"pair_style\": {\n",
    "            \"type\": \"lj/cut\",\n",
    "            \"term\": {\n",
    "                \"parameter\": 10.0\n",
    "            }\n",
    "        },\n",
    "        \"pair_coeff\": [\n",
    "            {\n",
    "                \"interaction\": {\n",
    "                    \"symbol\": [\n",
    "                        \"He\",\n",
    "                        \"He\"\n",
    "                    ]\n",
    "                },\n",
    "                \"term\": [\n",
    "                    {\n",
    "                        \"parameter\": 1.0\n",
    "                    },\n",
    "                    {\n",
    "                        \"parameter\": 1.0\n",
    "                    }\n",
    "                ]\n",
    "            },\n",
    "            {\n",
    "                \"interaction\": {\n",
    "                    \"symbol\": [\n",
    "                        \"Ar\",\n",
    "                        \"Ar\"\n",
    "                    ]\n",
    "                },\n",
    "                \"term\": [\n",
    "                    {\n",
    "                        \"parameter\": 2.0\n",
    "                    },\n",
    "                    {\n",
    "                        \"parameter\": 2.0\n",
    "                    }\n",
    "                ]\n",
    "            },\n",
    "            {\n",
    "                \"interaction\": {\n",
    "                    \"symbol\": [\n",
    "                        \"He\",\n",
    "                        \"Ar\"\n",
    "                    ]\n",
    "                },\n",
    "                \"term\": [\n",
    "                    {\n",
    "                        \"parameter\": 1.0\n",
    "                    },\n",
    "                    {\n",
    "                        \"parameter\": 2.0\n",
    "                    }\n",
    "                ]\n",
    "            }            \n",
    "        ]\n",
    "    }\n",
    "}\"\"\")"
   ]
  },
  {
   "cell_type": "markdown",
   "metadata": {},
   "source": [
    "#### 5.2.2. eam/alloy and other many-body potentials from single parameter files <a id='section5.2.2'></a>\n",
    "\n",
    "**NOTE:** Data models for the original eam pair_style are different (see [Section 5.2.6.](#section5.2.6))!"
   ]
  },
  {
   "cell_type": "code",
   "execution_count": 22,
   "metadata": {},
   "outputs": [
    {
     "name": "stdout",
     "output_type": "stream",
     "text": [
      "{\n",
      "    \"potential-LAMMPS\": {\n",
      "        \"key\": \"a45a7731-d115-4079-b6f5-aa700c5b5c56\",\n",
      "        \"id\": \"EAM-demo--LAMMPS--v1\",\n",
      "        \"potential\": {\n",
      "            \"key\": \"820738a9-f556-468b-9041-9d98351ff751\",\n",
      "            \"id\": \"EAM-demo\"\n",
      "        },\n",
      "        \"units\": \"metal\",\n",
      "        \"atom_style\": \"atomic\",\n",
      "        \"atom\": [\n",
      "            {\n",
      "                \"element\": \"Ni\",\n",
      "                \"mass\": 58.6934\n",
      "            },\n",
      "            {\n",
      "                \"element\": \"Al\",\n",
      "                \"mass\": 26.981539\n",
      "            },\n",
      "            {\n",
      "                \"element\": \"Co\",\n",
      "                \"mass\": 58.9332\n",
      "            }\n",
      "        ],\n",
      "        \"pair_style\": {\n",
      "            \"type\": \"eam/alloy\"\n",
      "        },\n",
      "        \"pair_coeff\": {\n",
      "            \"term\": [\n",
      "                {\n",
      "                    \"file\": \"file.eam.alloy\"\n",
      "                },\n",
      "                {\n",
      "                    \"symbols\": \"True\"\n",
      "                }\n",
      "            ]\n",
      "        }\n",
      "    }\n",
      "}\n"
     ]
    }
   ],
   "source": [
    "print(\"\"\"{\n",
    "    \"potential-LAMMPS\": {\n",
    "        \"key\": \"a45a7731-d115-4079-b6f5-aa700c5b5c56\",\n",
    "        \"id\": \"EAM-demo--LAMMPS--v1\",\n",
    "        \"potential\": {\n",
    "            \"key\": \"820738a9-f556-468b-9041-9d98351ff751\",\n",
    "            \"id\": \"EAM-demo\"\n",
    "        },\n",
    "        \"units\": \"metal\",\n",
    "        \"atom_style\": \"atomic\",\n",
    "        \"atom\": [\n",
    "            {\n",
    "                \"element\": \"Ni\",\n",
    "                \"mass\": 58.6934\n",
    "            },\n",
    "            {\n",
    "                \"element\": \"Al\",\n",
    "                \"mass\": 26.981539\n",
    "            },\n",
    "            {\n",
    "                \"element\": \"Co\",\n",
    "                \"mass\": 58.9332\n",
    "            }\n",
    "        ],\n",
    "        \"pair_style\": {\n",
    "            \"type\": \"eam/alloy\"\n",
    "        },\n",
    "        \"pair_coeff\": {\n",
    "            \"term\": [\n",
    "                {\n",
    "                    \"file\": \"file.eam.alloy\"\n",
    "                },\n",
    "                {\n",
    "                    \"symbols\": \"True\"\n",
    "                }\n",
    "            ]\n",
    "        }\n",
    "    }\n",
    "}\"\"\")"
   ]
  },
  {
   "cell_type": "markdown",
   "metadata": {},
   "source": [
    "#### 5.2.3. COMB and other potentials requiring additional commands <a id='section5.2.3'></a>"
   ]
  },
  {
   "cell_type": "code",
   "execution_count": 23,
   "metadata": {},
   "outputs": [
    {
     "name": "stdout",
     "output_type": "stream",
     "text": [
      "{\n",
      "    \"potential-LAMMPS\": {\n",
      "        \"key\": \"c6623d40-a3f2-4b2f-948a-3b277f174116\",\n",
      "        \"id\": \"COMB-demo--LAMMPS--v2\",\n",
      "        \"potential\": {\n",
      "            \"key\": \"5ec2aac4-3dd4-4f5c-afb4-21749577c038\",\n",
      "            \"id\": \"COMB-demo\"\n",
      "        },\n",
      "        \"units\": \"nano\",\n",
      "        \"atom_style\": \"charge\",\n",
      "        \"atom\": [\n",
      "            {\n",
      "                \"element\": \"O\"\n",
      "            },\n",
      "            {\n",
      "                \"element\": \"Cu\"\n",
      "            },\n",
      "            {\n",
      "                \"element\": \"Ni\"\n",
      "            }\n",
      "        ],\n",
      "        \"pair_style\": {\n",
      "            \"type\": \"comb\",\n",
      "            \"term\": {\n",
      "                \"option\": \"polar_off\"\n",
      "            }\n",
      "        },\n",
      "        \"pair_coeff\": {\n",
      "            \"term\": [\n",
      "                {\n",
      "                    \"file\": \"file.comb\"\n",
      "                },\n",
      "                {\n",
      "                    \"symbols\": true\n",
      "                }\n",
      "            ]\n",
      "        },\n",
      "        \"command\": {\n",
      "            \"term\": [\n",
      "                {\n",
      "                    \"option\": \"fix\"\n",
      "                },\n",
      "                {\n",
      "                    \"option\": \"qeq/comb\"\n",
      "                },\n",
      "                {\n",
      "                    \"parameter\": 10\n",
      "                },\n",
      "                {\n",
      "                    \"parameter\": 0.0001\n",
      "                }                \n",
      "            ]\n",
      "        }\n",
      "    }\n",
      "}\n"
     ]
    }
   ],
   "source": [
    "print(\"\"\"{\n",
    "    \"potential-LAMMPS\": {\n",
    "        \"key\": \"c6623d40-a3f2-4b2f-948a-3b277f174116\",\n",
    "        \"id\": \"COMB-demo--LAMMPS--v2\",\n",
    "        \"potential\": {\n",
    "            \"key\": \"5ec2aac4-3dd4-4f5c-afb4-21749577c038\",\n",
    "            \"id\": \"COMB-demo\"\n",
    "        },\n",
    "        \"units\": \"nano\",\n",
    "        \"atom_style\": \"charge\",\n",
    "        \"atom\": [\n",
    "            {\n",
    "                \"element\": \"O\"\n",
    "            },\n",
    "            {\n",
    "                \"element\": \"Cu\"\n",
    "            },\n",
    "            {\n",
    "                \"element\": \"Ni\"\n",
    "            }\n",
    "        ],\n",
    "        \"pair_style\": {\n",
    "            \"type\": \"comb\",\n",
    "            \"term\": {\n",
    "                \"option\": \"polar_off\"\n",
    "            }\n",
    "        },\n",
    "        \"pair_coeff\": {\n",
    "            \"term\": [\n",
    "                {\n",
    "                    \"file\": \"file.comb\"\n",
    "                },\n",
    "                {\n",
    "                    \"symbols\": true\n",
    "                }\n",
    "            ]\n",
    "        },\n",
    "        \"command\": {\n",
    "            \"term\": [\n",
    "                {\n",
    "                    \"option\": \"fix\"\n",
    "                },\n",
    "                {\n",
    "                    \"option\": \"qeq/comb\"\n",
    "                },\n",
    "                {\n",
    "                    \"parameter\": 10\n",
    "                },\n",
    "                {\n",
    "                    \"parameter\": 0.0001\n",
    "                }                \n",
    "            ]\n",
    "        }\n",
    "    }\n",
    "}\"\"\")"
   ]
  },
  {
   "cell_type": "markdown",
   "metadata": {},
   "source": [
    "#### 5.2.4. MEAM and other many-body potentials with library and parameter files <a id='section5.2.4'></a>"
   ]
  },
  {
   "cell_type": "code",
   "execution_count": 24,
   "metadata": {},
   "outputs": [
    {
     "name": "stdout",
     "output_type": "stream",
     "text": [
      "{\n",
      "    \"potential-LAMMPS\": {\n",
      "        \"key\": \"ac63aa71-808c-47e7-b80b-991a50870f35\",\n",
      "        \"id\": \"MEAM-demo--LAMMPS--v1\",\n",
      "        \"potential\": {\n",
      "            \"key\": \"9546264a-06b8-451a-9920-f8a17cc6917b\",\n",
      "            \"id\": \"MEAM-demo\"\n",
      "        },\n",
      "        \"units\": \"metal\",\n",
      "        \"atom_style\": \"atom\",\n",
      "        \"atom\": [\n",
      "            {\n",
      "                \"element\": \"Cu\",\n",
      "                \"symbol\": \"CuD\"\n",
      "            },\n",
      "            {\n",
      "                \"element\": \"Al\",\n",
      "                \"symbol\": \"AlD\"\n",
      "            },\n",
      "            {\n",
      "                \"element\": \"Fe\",\n",
      "                \"symbol\": \"FeD\"\n",
      "            }\n",
      "        ],\n",
      "        \"pair_style\": {\n",
      "            \"type\": \"meam\"\n",
      "        },\n",
      "        \"pair_coeff\": {\n",
      "            \"term\": [\n",
      "                {\n",
      "                    \"file\": \"library.meam\"\n",
      "                },\n",
      "                {\n",
      "                    \"option\": \"CuD AlD FeD\"\n",
      "                },\n",
      "                {\n",
      "                    \"file\": \"potential.meam\"\n",
      "                },\n",
      "                {\n",
      "                    \"symbols\": true\n",
      "                }\n",
      "            ]\n",
      "        }\n",
      "    }\n",
      "}\n"
     ]
    }
   ],
   "source": [
    "print(\"\"\"{\n",
    "    \"potential-LAMMPS\": {\n",
    "        \"key\": \"ac63aa71-808c-47e7-b80b-991a50870f35\",\n",
    "        \"id\": \"MEAM-demo--LAMMPS--v1\",\n",
    "        \"potential\": {\n",
    "            \"key\": \"9546264a-06b8-451a-9920-f8a17cc6917b\",\n",
    "            \"id\": \"MEAM-demo\"\n",
    "        },\n",
    "        \"units\": \"metal\",\n",
    "        \"atom_style\": \"atom\",\n",
    "        \"atom\": [\n",
    "            {\n",
    "                \"element\": \"Cu\",\n",
    "                \"symbol\": \"CuD\"\n",
    "            },\n",
    "            {\n",
    "                \"element\": \"Al\",\n",
    "                \"symbol\": \"AlD\"\n",
    "            },\n",
    "            {\n",
    "                \"element\": \"Fe\",\n",
    "                \"symbol\": \"FeD\"\n",
    "            }\n",
    "        ],\n",
    "        \"pair_style\": {\n",
    "            \"type\": \"meam\"\n",
    "        },\n",
    "        \"pair_coeff\": {\n",
    "            \"term\": [\n",
    "                {\n",
    "                    \"file\": \"library.meam\"\n",
    "                },\n",
    "                {\n",
    "                    \"option\": \"CuD AlD FeD\"\n",
    "                },\n",
    "                {\n",
    "                    \"file\": \"potential.meam\"\n",
    "                },\n",
    "                {\n",
    "                    \"symbols\": true\n",
    "                }\n",
    "            ]\n",
    "        }\n",
    "    }\n",
    "}\"\"\")"
   ]
  },
  {
   "cell_type": "markdown",
   "metadata": {},
   "source": [
    "#### 5.2.5. hybrid-style potentials <a id='section5.2.5'></a>"
   ]
  },
  {
   "cell_type": "code",
   "execution_count": 25,
   "metadata": {},
   "outputs": [
    {
     "name": "stdout",
     "output_type": "stream",
     "text": [
      "{\n",
      "    \"potential-LAMMPS\": {\n",
      "        \"key\": \"7687807f-6355-4bef-bdc3-dc0dc944e106\",\n",
      "        \"id\": \"hybrid-demo--LAMMPS--v3\",\n",
      "        \"potential\": {\n",
      "            \"key\": \"14226c15-561c-44d4-96ad-ad51304a3606\",\n",
      "            \"id\": \"hybrid-demo\"\n",
      "        },\n",
      "        \"units\": \"metal\",\n",
      "        \"atom_style\": \"atom\",\n",
      "        \"atom\": [\n",
      "            {\n",
      "                \"element\": \"Cu\"\n",
      "            },\n",
      "            {\n",
      "                \"element\": \"H\"\n",
      "            }\n",
      "        ],\n",
      "        \"pair_style\": {\n",
      "            \"type\": \"hybrid\",\n",
      "            \"term\": [\n",
      "                {\n",
      "                    \"option\": \"eam/alloy\"\n",
      "                },\n",
      "                {\n",
      "                    \"option\": \"lj/cut\"\n",
      "                },\n",
      "                {\n",
      "                    \"parameter\": 5.0\n",
      "                }\n",
      "            ]\n",
      "        },\n",
      "        \"pair_coeff\": [\n",
      "            {\n",
      "                \"interaction\": {\n",
      "                    \"symbol\": [\n",
      "                        \"Cu\"\n",
      "                    ]\n",
      "                },\n",
      "                \"term\": [\n",
      "                    {\n",
      "                        \"option\": \"eam/alloy\"\n",
      "                    },\n",
      "                    {\n",
      "                        \"file\": \"cu.eam.alloy\"\n",
      "                    },\n",
      "                    {\n",
      "                        \"symbols\": true\n",
      "                    }\n",
      "                ]\n",
      "            },\n",
      "            {\n",
      "                \"interaction\": {\n",
      "                    \"symbol\": [\n",
      "                        \"Cu\",\n",
      "                        \"H\"\n",
      "                    ]\n",
      "                },\n",
      "                \"term\": [\n",
      "                    {\n",
      "                        \"option\": \"lj/cut\"\n",
      "                    },\n",
      "                    {\n",
      "                        \"parameter\": 3.5\n",
      "                    },\n",
      "                    {\n",
      "                        \"parameter\": 3.0\n",
      "                    }\n",
      "                ]\n",
      "            },\n",
      "            {\n",
      "                \"interaction\": {\n",
      "                    \"symbol\": [\n",
      "                        \"H\",\n",
      "                        \"H\"\n",
      "                    ]\n",
      "                },\n",
      "                \"term\": [\n",
      "                    {\n",
      "                        \"option\": \"lj/cut\"\n",
      "                    },\n",
      "                    {\n",
      "                        \"parameter\": 1.2\n",
      "                    },\n",
      "                    {\n",
      "                        \"parameter\": 2.4\n",
      "                    }\n",
      "                ]\n",
      "            }\n",
      "        ]\n",
      "    }\n",
      "}\n"
     ]
    }
   ],
   "source": [
    "print(\"\"\"{\n",
    "    \"potential-LAMMPS\": {\n",
    "        \"key\": \"7687807f-6355-4bef-bdc3-dc0dc944e106\",\n",
    "        \"id\": \"hybrid-demo--LAMMPS--v3\",\n",
    "        \"potential\": {\n",
    "            \"key\": \"14226c15-561c-44d4-96ad-ad51304a3606\",\n",
    "            \"id\": \"hybrid-demo\"\n",
    "        },\n",
    "        \"units\": \"metal\",\n",
    "        \"atom_style\": \"atom\",\n",
    "        \"atom\": [\n",
    "            {\n",
    "                \"element\": \"Cu\"\n",
    "            },\n",
    "            {\n",
    "                \"element\": \"H\"\n",
    "            }\n",
    "        ],\n",
    "        \"pair_style\": {\n",
    "            \"type\": \"hybrid\",\n",
    "            \"term\": [\n",
    "                {\n",
    "                    \"option\": \"eam/alloy\"\n",
    "                },\n",
    "                {\n",
    "                    \"option\": \"lj/cut\"\n",
    "                },\n",
    "                {\n",
    "                    \"parameter\": 5.0\n",
    "                }\n",
    "            ]\n",
    "        },\n",
    "        \"pair_coeff\": [\n",
    "            {\n",
    "                \"interaction\": {\n",
    "                    \"symbol\": [\n",
    "                        \"Cu\"\n",
    "                    ]\n",
    "                },\n",
    "                \"term\": [\n",
    "                    {\n",
    "                        \"option\": \"eam/alloy\"\n",
    "                    },\n",
    "                    {\n",
    "                        \"file\": \"cu.eam.alloy\"\n",
    "                    },\n",
    "                    {\n",
    "                        \"symbols\": true\n",
    "                    }\n",
    "                ]\n",
    "            },\n",
    "            {\n",
    "                \"interaction\": {\n",
    "                    \"symbol\": [\n",
    "                        \"Cu\",\n",
    "                        \"H\"\n",
    "                    ]\n",
    "                },\n",
    "                \"term\": [\n",
    "                    {\n",
    "                        \"option\": \"lj/cut\"\n",
    "                    },\n",
    "                    {\n",
    "                        \"parameter\": 3.5\n",
    "                    },\n",
    "                    {\n",
    "                        \"parameter\": 3.0\n",
    "                    }\n",
    "                ]\n",
    "            },\n",
    "            {\n",
    "                \"interaction\": {\n",
    "                    \"symbol\": [\n",
    "                        \"H\",\n",
    "                        \"H\"\n",
    "                    ]\n",
    "                },\n",
    "                \"term\": [\n",
    "                    {\n",
    "                        \"option\": \"lj/cut\"\n",
    "                    },\n",
    "                    {\n",
    "                        \"parameter\": 1.2\n",
    "                    },\n",
    "                    {\n",
    "                        \"parameter\": 2.4\n",
    "                    }\n",
    "                ]\n",
    "            }\n",
    "        ]\n",
    "    }\n",
    "}\"\"\")"
   ]
  },
  {
   "cell_type": "markdown",
   "metadata": {},
   "source": [
    "#### 5.2.6. Original eam pair_style <a id='section5.2.6'></a>"
   ]
  },
  {
   "cell_type": "code",
   "execution_count": 26,
   "metadata": {},
   "outputs": [
    {
     "name": "stdout",
     "output_type": "stream",
     "text": [
      "{\n",
      "    \"potential-LAMMPS\": {\n",
      "        \"key\": \"3c437986-882f-4e23-bc39-6e12dcdba364\", \n",
      "        \"id\": \"eam-demo--LAMMPS--v2\", \n",
      "        \"potential\": {\n",
      "            \"key\": \"5e92413c-8542-49c4-9608-b91ea5c12701\", \n",
      "            \"id\": \"eam-demo\"\n",
      "        }, \n",
      "        \"units\": \"metal\", \n",
      "        \"atom_style\": \"atomic\", \n",
      "        \"atom\": [\n",
      "            {\n",
      "                \"element\": \"Cu\", \n",
      "                \"mass\": 63.55\n",
      "            }, \n",
      "            {\n",
      "                \"element\": \"Ni\", \n",
      "                \"mass\": 58.71\n",
      "            }\n",
      "        ], \n",
      "        \"pair_style\": {\n",
      "            \"type\": \"eam\"\n",
      "        }, \n",
      "        \"pair_coeff\": [\n",
      "            {\n",
      "                \"interaction\": {\n",
      "                    \"symbol\": [\n",
      "                        \"Cu\", \n",
      "                        \"Cu\"\n",
      "                    ]\n",
      "                }, \n",
      "                \"term\": {\n",
      "                    \"file\": \"Cu.eam\"\n",
      "                }\n",
      "            }, \n",
      "            {\n",
      "                \"interaction\": {\n",
      "                    \"symbol\": [\n",
      "                        \"Ni\", \n",
      "                        \"Ni\"\n",
      "                    ]\n",
      "                }, \n",
      "                \"term\": {\n",
      "                    \"file\": \"Ni.eam\"\n",
      "                }\n",
      "            }\n",
      "        ]\n",
      "    }\n",
      "}\n"
     ]
    }
   ],
   "source": [
    "print(\"\"\"{\n",
    "    \"potential-LAMMPS\": {\n",
    "        \"key\": \"3c437986-882f-4e23-bc39-6e12dcdba364\", \n",
    "        \"id\": \"eam-demo--LAMMPS--v2\", \n",
    "        \"potential\": {\n",
    "            \"key\": \"5e92413c-8542-49c4-9608-b91ea5c12701\", \n",
    "            \"id\": \"eam-demo\"\n",
    "        }, \n",
    "        \"units\": \"metal\", \n",
    "        \"atom_style\": \"atomic\", \n",
    "        \"atom\": [\n",
    "            {\n",
    "                \"element\": \"Cu\", \n",
    "                \"mass\": 63.55\n",
    "            }, \n",
    "            {\n",
    "                \"element\": \"Ni\", \n",
    "                \"mass\": 58.71\n",
    "            }\n",
    "        ], \n",
    "        \"pair_style\": {\n",
    "            \"type\": \"eam\"\n",
    "        }, \n",
    "        \"pair_coeff\": [\n",
    "            {\n",
    "                \"interaction\": {\n",
    "                    \"symbol\": [\n",
    "                        \"Cu\", \n",
    "                        \"Cu\"\n",
    "                    ]\n",
    "                }, \n",
    "                \"term\": {\n",
    "                    \"file\": \"Cu.eam\"\n",
    "                }\n",
    "            }, \n",
    "            {\n",
    "                \"interaction\": {\n",
    "                    \"symbol\": [\n",
    "                        \"Ni\", \n",
    "                        \"Ni\"\n",
    "                    ]\n",
    "                }, \n",
    "                \"term\": {\n",
    "                    \"file\": \"Ni.eam\"\n",
    "                }\n",
    "            }\n",
    "        ]\n",
    "    }\n",
    "}\"\"\")"
   ]
  }
 ],
 "metadata": {
  "kernelspec": {
   "display_name": "Python 3",
   "language": "python",
   "name": "python3"
  },
  "language_info": {
   "codemirror_mode": {
    "name": "ipython",
    "version": 3
   },
   "file_extension": ".py",
   "mimetype": "text/x-python",
   "name": "python",
   "nbconvert_exporter": "python",
   "pygments_lexer": "ipython3",
   "version": "3.6.4"
  }
 },
 "nbformat": 4,
 "nbformat_minor": 1
}
