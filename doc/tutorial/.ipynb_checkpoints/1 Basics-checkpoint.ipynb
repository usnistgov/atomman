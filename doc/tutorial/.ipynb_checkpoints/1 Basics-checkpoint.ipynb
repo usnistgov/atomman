{
 "cells": [
  {
   "cell_type": "markdown",
   "metadata": {
    "deletable": true,
    "editable": true
   },
   "source": [
    "# Introduction to atomman\n",
    "\n",
    "- - -"
   ]
  },
  {
   "cell_type": "markdown",
   "metadata": {
    "deletable": true,
    "editable": true
   },
   "source": [
    "__Lucas M. Hale__, [lucas.hale@nist.gov](mailto:lucas.hale@nist.gov?Subject=ipr-demo), _Materials Science and Engineering Division, NIST_.\n",
    "\n",
    "__Chandler A. Becker__, [chandler.becker@nist.gov](mailto:chandler.becker@nist.gov?Subject=ipr-demo), _Office of Data and Informatics, NIST_.\n",
    "\n",
    "__Zachary T. Trautt__, [zachary.trautt@nist.gov](mailto:zachary.trautt@nist.gov?Subject=ipr-demo), _Materials Measurement Science Division, NIST_.\n",
    "\n",
    "Version: 2017-04-19\n",
    "\n",
    "[Disclaimers](http://www.nist.gov/public_affairs/disclaimer.cfm) \n",
    " \n",
    "- - -"
   ]
  },
  {
   "cell_type": "markdown",
   "metadata": {
    "deletable": true,
    "editable": true
   },
   "source": [
    "## Introduction\n",
    "\n",
    "This Notebook provides an introduction to creating and manipulating atomistic systems using atomman. It provides a working demonstration of how the code works. Links are also given to the in-depth Notebooks related to the specific actions mentioned here.\n",
    "\n",
    "- - -"
   ]
  },
  {
   "cell_type": "markdown",
   "metadata": {
    "deletable": true,
    "editable": true
   },
   "source": [
    "Library Imports"
   ]
  },
  {
   "cell_type": "code",
   "execution_count": 1,
   "metadata": {
    "collapsed": false,
    "deletable": true,
    "editable": true
   },
   "outputs": [],
   "source": [
    "#Standard libraries\n",
    "from __future__ import print_function\n",
    "import os\n",
    "from copy import deepcopy\n",
    "\n",
    "#http://www.numpy.org/\n",
    "import numpy as np    \n",
    "\n",
    "#https://github.com/usnistgov/atomman\n",
    "import atomman as am        \n",
    "import atomman.unitconvert as uc"
   ]
  },
  {
   "cell_type": "markdown",
   "metadata": {
    "deletable": true,
    "editable": true
   },
   "source": [
    "## 0. Unit conversions\n",
    "\n",
    "Unit conversions are handled by the [atomman.unitconvert](../reference/atomman.unitconvert.ipynb) module. By default, atomman assumes that the working units of values are consistent with:\n",
    "\n",
    "- length in Angstroms\n",
    "\n",
    "- mass in atomic mass unit\n",
    "\n",
    "- energy in electron volts\n",
    "\n",
    "- charge in electron charge\n",
    "\n",
    "- temperature in Kelvin"
   ]
  },
  {
   "cell_type": "markdown",
   "metadata": {
    "deletable": true,
    "editable": true
   },
   "source": [
    "[set_in_units](atomman.unitconvert.set_in_units.ipynb) converts values from the specified units to the working units"
   ]
  },
  {
   "cell_type": "code",
   "execution_count": 2,
   "metadata": {
    "collapsed": false,
    "deletable": true,
    "editable": true
   },
   "outputs": [
    {
     "name": "stdout",
     "output_type": "stream",
     "text": [
      "15240000000.0 Angstroms\n"
     ]
    }
   ],
   "source": [
    "five_feet = uc.set_in_units(5, 'foot')\n",
    "print(five_feet, 'Angstroms')"
   ]
  },
  {
   "cell_type": "markdown",
   "metadata": {
    "deletable": true,
    "editable": true
   },
   "source": [
    "[get_in_units](atomman.unitconvert.get_in_units.ipynb) converts values from the working units to the specified units"
   ]
  },
  {
   "cell_type": "code",
   "execution_count": 3,
   "metadata": {
    "collapsed": false,
    "deletable": true,
    "editable": true
   },
   "outputs": [
    {
     "name": "stdout",
     "output_type": "stream",
     "text": [
      "60.0 inches\n"
     ]
    }
   ],
   "source": [
    "print(uc.get_in_units(five_feet, 'inch'), 'inches')"
   ]
  },
  {
   "cell_type": "markdown",
   "metadata": {
    "deletable": true,
    "editable": true
   },
   "source": [
    "Complex unit expressions can be used, for instance \n",
    "\n",
    "    pg/(um*us^2) = 1000 Pa = kPa"
   ]
  },
  {
   "cell_type": "code",
   "execution_count": 4,
   "metadata": {
    "collapsed": false,
    "deletable": true,
    "editable": true
   },
   "outputs": [
    {
     "name": "stdout",
     "output_type": "stream",
     "text": [
      "5.0 kPa\n"
     ]
    }
   ],
   "source": [
    "#Set in complex units\n",
    "pressure = uc.set_in_units(5, 'pg / (um * us^2)')\n",
    "\n",
    "#Print in kPa\n",
    "print(uc.get_in_units(pressure, 'kPa'), 'kPa')"
   ]
  },
  {
   "cell_type": "markdown",
   "metadata": {
    "deletable": true,
    "editable": true
   },
   "source": [
    "## 1. Generate a System\n",
    "\n",
    "An [atomman.System](../reference/atomman.System.ipynb) can be generated from scratch by combining an [atomman.Atoms](../reference/atomman.Atoms.ipynb) object and an [atomman.Box](../reference/atomman.Box.ipynb) object."
   ]
  },
  {
   "cell_type": "markdown",
   "metadata": {
    "deletable": true,
    "editable": true
   },
   "source": [
    "### 1.1 Create an Atoms object\n",
    "\n",
    "The [atomman.Atoms](../reference/atomman.Atoms.ipynb) class contains the per-atom properties for all of the atoms. \n",
    "\n",
    "By default, each Atoms instance has two per-atom properties: \n",
    "\n",
    "- __atype__ is an integer atomic type\n",
    "\n",
    "- __pos__ is the 3D vector position.  \n",
    "\n",
    "Other properties can be freely assigned to all atoms at any time with any name. "
   ]
  },
  {
   "cell_type": "markdown",
   "metadata": {
    "deletable": true,
    "editable": true
   },
   "source": [
    "Create an Atoms object consistent with a simple face-centered cell and all atoms of the same type"
   ]
  },
  {
   "cell_type": "code",
   "execution_count": 5,
   "metadata": {
    "collapsed": false,
    "deletable": true,
    "editable": true
   },
   "outputs": [
    {
     "name": "stdout",
     "output_type": "stream",
     "text": [
      "     id |   atype |  pos[0] |  pos[1] |  pos[2]\n",
      "      0 |       1 |   0.000 |   0.000 |   0.000\n",
      "      1 |       1 |   0.500 |   0.500 |   0.000\n",
      "      2 |       1 |   0.500 |   0.000 |   0.500\n",
      "      3 |       1 |   0.000 |   0.500 |   0.500\n"
     ]
    }
   ],
   "source": [
    "atype = [1,1,1,1]\n",
    "pos = [[0.0, 0.0, 0.0], \n",
    "       [0.5, 0.5, 0.0], \n",
    "       [0.5, 0.0, 0.5], \n",
    "       [0.0, 0.5, 0.5]]\n",
    "\n",
    "atoms = am.Atoms(natoms=4, prop={'atype':atype, 'pos':pos})\n",
    "print(atoms)"
   ]
  },
  {
   "cell_type": "markdown",
   "metadata": {
    "deletable": true,
    "editable": true
   },
   "source": [
    "### 1.2 Create a Box object\n",
    "\n",
    "The [atomman.Box](../reference/atomman.Box.ipynb) class represents a generic parallelopid in space as four vectors: the vectors for the three independent box directions, and an origin position vector.  It can be created using lattice parameters, LAMMPS box terms, or by explicitly giving the underlying vectors. "
   ]
  },
  {
   "cell_type": "markdown",
   "metadata": {
    "deletable": true,
    "editable": true
   },
   "source": [
    "Create a cubic box"
   ]
  },
  {
   "cell_type": "code",
   "execution_count": 6,
   "metadata": {
    "collapsed": false,
    "deletable": true,
    "editable": true
   },
   "outputs": [
    {
     "name": "stdout",
     "output_type": "stream",
     "text": [
      "avect =  [ 4.050,  0.000,  0.000]\n",
      "bvect =  [ 0.000,  4.050,  0.000]\n",
      "cvect =  [ 0.000,  0.000,  4.050]\n",
      "origin = [ 0.000,  0.000,  0.000]\n"
     ]
    }
   ],
   "source": [
    "box = am.Box(a=4.05, b=4.05, c=4.05)\n",
    "print(box)"
   ]
  },
  {
   "cell_type": "markdown",
   "metadata": {
    "deletable": true,
    "editable": true
   },
   "source": [
    "### 1.3 Create a System by combining Atoms and Box\n",
    "\n",
    "A [atomman.System](../reference/atomman.System.ipynb) is then constructed by combining the [atomman.Atoms](../reference/atomman.Atoms.ipynb) and [atomman.Box](../reference/atomman.Box.ipynb).  The term [pbc](../reference/atomman.pbc.ipynb) is a tuple of three Boolean values indicating which directions are periodic (True). The argument \"scale=True\" scales the Atoms' pos values according to the Box definition. "
   ]
  },
  {
   "cell_type": "code",
   "execution_count": 7,
   "metadata": {
    "collapsed": false,
    "deletable": true,
    "editable": true
   },
   "outputs": [
    {
     "name": "stdout",
     "output_type": "stream",
     "text": [
      "avect =  [ 4.050,  0.000,  0.000]\n",
      "bvect =  [ 0.000,  4.050,  0.000]\n",
      "cvect =  [ 0.000,  0.000,  4.050]\n",
      "origin = [ 0.000,  0.000,  0.000]\n",
      "natoms = 4\n",
      "natypes = 1\n",
      "     id |   atype |  pos[0] |  pos[1] |  pos[2]\n",
      "      0 |       1 |   0.000 |   0.000 |   0.000\n",
      "      1 |       1 |   2.025 |   2.025 |   0.000\n",
      "      2 |       1 |   2.025 |   0.000 |   2.025\n",
      "      3 |       1 |   0.000 |   2.025 |   2.025\n"
     ]
    }
   ],
   "source": [
    "system = am.System(atoms=atoms, box=box, pbc=(True, True, True), scale=True)\n",
    "print(system)"
   ]
  },
  {
   "cell_type": "markdown",
   "metadata": {
    "deletable": true,
    "editable": true
   },
   "source": [
    "### 1.4. Load a System from a file\n",
    "\n",
    "The [atomman.load](../reference/atomman.load.ipynb) function generates a system by reading in data from an external format. The load function supports\n",
    "\n",
    "- CIF files\n",
    "- POSCAR files\n",
    "- LAMMPS data and dump files\n",
    "- json/xml atomic-system data models\n",
    "- ase.Atoms objects\n",
    "- pymatgen.Structure objects "
   ]
  },
  {
   "cell_type": "markdown",
   "metadata": {
    "deletable": true,
    "editable": true
   },
   "source": [
    "Create a LAMMPS dump file \"fcc.dump\""
   ]
  },
  {
   "cell_type": "code",
   "execution_count": 8,
   "metadata": {
    "collapsed": false,
    "deletable": true,
    "editable": true
   },
   "outputs": [],
   "source": [
    "with open('fcc.dump', 'w') as f:\n",
    "    f.write(\"\"\"\n",
    "ITEM: TIMESTEP\n",
    "0\n",
    "ITEM: NUMBER OF ATOMS\n",
    "4\n",
    "ITEM: BOX BOUNDS pp pp pp\n",
    "0.000000 4.050000\n",
    "0.000000 4.050000\n",
    "0.000000 4.050000\n",
    "ITEM: ATOMS id type x y z\n",
    "1 1 0.0000000000000e+00 0.0000000000000e+00 0.0000000000000e+00\n",
    "2 1 2.0250000000000e+00 2.0250000000000e+00 0.0000000000000e+00\n",
    "3 1 2.0250000000000e+00 0.0000000000000e+00 2.0250000000000e+00\n",
    "4 1 0.0000000000000e+00 2.0250000000000e+00 2.0250000000000e+00\"\"\")"
   ]
  },
  {
   "cell_type": "markdown",
   "metadata": {
    "deletable": true,
    "editable": true
   },
   "source": [
    "Load from \"fcc.dump\" and show the system info"
   ]
  },
  {
   "cell_type": "code",
   "execution_count": 9,
   "metadata": {
    "collapsed": false,
    "deletable": true,
    "editable": true
   },
   "outputs": [
    {
     "name": "stdout",
     "output_type": "stream",
     "text": [
      "avect =  [ 4.050,  0.000,  0.000]\n",
      "bvect =  [ 0.000,  4.050,  0.000]\n",
      "cvect =  [ 0.000,  0.000,  4.050]\n",
      "origin = [ 0.000,  0.000,  0.000]\n",
      "natoms = 4\n",
      "natypes = 1\n",
      "     id |   atype |  pos[0] |  pos[1] |  pos[2]\n",
      "      0 |       1 |   0.000 |   0.000 |   0.000\n",
      "      1 |       1 |   2.025 |   2.025 |   0.000\n",
      "      2 |       1 |   2.025 |   0.000 |   2.025\n",
      "      3 |       1 |   0.000 |   2.025 |   2.025\n"
     ]
    }
   ],
   "source": [
    "new_system, symbols = am.load('atom_dump', 'fcc.dump')\n",
    "print(new_system)"
   ]
  },
  {
   "cell_type": "markdown",
   "metadata": {
    "deletable": true,
    "editable": true
   },
   "source": [
    "## 2. System Manipulations\n",
    "\n",
    "Atomman has a number of built-in System manipulation tools."
   ]
  },
  {
   "cell_type": "markdown",
   "metadata": {
    "deletable": true,
    "editable": true
   },
   "source": [
    "### 2.1 Rotating a System\n",
    "\n",
    "The [atomman.rotate](../rotate/atomman.rotate.ipynb) and [atomman.rotate_cubic](../rotate/atomman.rotate_cubic.ipynb) functions allow for a system to be rotated using a 3x3 array of right-handed orthogonal vectors. "
   ]
  },
  {
   "cell_type": "markdown",
   "metadata": {
    "deletable": true,
    "editable": true
   },
   "source": [
    "Define axes for rotation (cubic crystallographic axes directions)"
   ]
  },
  {
   "cell_type": "code",
   "execution_count": 10,
   "metadata": {
    "collapsed": true,
    "deletable": true,
    "editable": true
   },
   "outputs": [],
   "source": [
    "axes = np.array([[ 1, 1, 0],\n",
    "                 [-1, 1, 0], \n",
    "                 [ 0, 0, 1]])"
   ]
  },
  {
   "cell_type": "markdown",
   "metadata": {
    "deletable": true,
    "editable": true
   },
   "source": [
    "[atomman.rotate](../rotate/atomman.rotate.ipynb) returns a new System with Box vectors and atom positions transformed by axes. This transformation does not alter the box in any way."
   ]
  },
  {
   "cell_type": "code",
   "execution_count": 11,
   "metadata": {
    "collapsed": false,
    "deletable": true,
    "editable": true
   },
   "outputs": [
    {
     "name": "stdout",
     "output_type": "stream",
     "text": [
      "avect =  [ 2.864, -2.864,  0.000]\n",
      "bvect =  [ 2.864,  2.864,  0.000]\n",
      "cvect =  [ 0.000,  0.000,  4.050]\n",
      "origin = [ 0.000,  0.000,  0.000]\n",
      "natoms = 4\n",
      "natypes = 1\n",
      "     id |   atype |  pos[0] |  pos[1] |  pos[2]\n",
      "      0 |       1 |   0.000 |   0.000 |   0.000\n",
      "      1 |       1 |   2.864 |   0.000 |   0.000\n",
      "      2 |       1 |   1.432 |  -1.432 |   2.025\n",
      "      3 |       1 |   1.432 |   1.432 |   2.025\n"
     ]
    }
   ],
   "source": [
    "print(am.rotate(system, axes))"
   ]
  },
  {
   "cell_type": "markdown",
   "metadata": {
    "deletable": true,
    "editable": true
   },
   "source": [
    "[atomman.rotate_cubic](../rotate/atomman.rotate_cubic.ipynb) returns a new orthogonal System by rotating a cubic system and expanding the Box size to ensure atoms remain consistent across periodic boundaries."
   ]
  },
  {
   "cell_type": "code",
   "execution_count": 12,
   "metadata": {
    "collapsed": false,
    "deletable": true,
    "editable": true
   },
   "outputs": [
    {
     "name": "stdout",
     "output_type": "stream",
     "text": [
      "avect =  [ 5.728,  0.000,  0.000]\n",
      "bvect =  [ 0.000,  5.728,  0.000]\n",
      "cvect =  [ 0.000,  0.000,  4.050]\n",
      "origin = [ 0.000,  0.000,  0.000]\n",
      "natoms = 8\n",
      "natypes = 1\n",
      "     id |   atype |  pos[0] |  pos[1] |  pos[2]\n",
      "      0 |       1 |   0.000 |   2.864 |   0.000\n",
      "      1 |       1 |   0.000 |   0.000 |   0.000\n",
      "      2 |       1 |   2.864 |   0.000 |   0.000\n",
      "      3 |       1 |   1.432 |   1.432 |   2.025\n",
      "      4 |       1 |   1.432 |   4.296 |   2.025\n",
      "      5 |       1 |   2.864 |   2.864 |   0.000\n",
      "      6 |       1 |   4.296 |   1.432 |   2.025\n",
      "      7 |       1 |   4.296 |   4.296 |   2.025\n"
     ]
    }
   ],
   "source": [
    "print(am.rotate_cubic(system, axes))"
   ]
  },
  {
   "cell_type": "markdown",
   "metadata": {
    "deletable": true,
    "editable": true
   },
   "source": [
    "### 2.2. Multiplying the size of a System\n",
    "\n",
    "A larger System (i.e. supercell) can be generated using the [atomman.supersize](../reference/atomman.supersize.ipynb) function or the [atomman.System.supersize](../reference/atomman.System.supersize.ipynb) method."
   ]
  },
  {
   "cell_type": "markdown",
   "metadata": {
    "deletable": true,
    "editable": true
   },
   "source": [
    "Make system a 2x2x2 supercell of itself using [atomman.System.supersize](../reference/atomman.System.supersize.ipynb)"
   ]
  },
  {
   "cell_type": "code",
   "execution_count": 13,
   "metadata": {
    "collapsed": false,
    "deletable": true,
    "editable": true
   },
   "outputs": [
    {
     "name": "stdout",
     "output_type": "stream",
     "text": [
      "avect =  [ 8.100,  0.000,  0.000]\n",
      "bvect =  [ 0.000,  8.100,  0.000]\n",
      "cvect =  [ 0.000,  0.000,  8.100]\n",
      "origin = [ 0.000,  0.000,  0.000]\n",
      "natoms = 32\n",
      "natypes = 1\n",
      "     id |   atype |  pos[0] |  pos[1] |  pos[2]\n",
      "      0 |       1 |   0.000 |   0.000 |   0.000\n",
      "      1 |       1 |   2.025 |   2.025 |   0.000\n",
      "      2 |       1 |   2.025 |   0.000 |   2.025\n",
      "      3 |       1 |   0.000 |   2.025 |   2.025\n",
      "      4 |       1 |   4.050 |   0.000 |   0.000\n",
      "      5 |       1 |   6.075 |   2.025 |   0.000\n",
      "      6 |       1 |   6.075 |   0.000 |   2.025\n",
      "      7 |       1 |   4.050 |   2.025 |   2.025\n",
      "      8 |       1 |   0.000 |   4.050 |   0.000\n",
      "      9 |       1 |   2.025 |   6.075 |   0.000\n",
      "     10 |       1 |   2.025 |   4.050 |   2.025\n",
      "     11 |       1 |   0.000 |   6.075 |   2.025\n",
      "     12 |       1 |   4.050 |   4.050 |   0.000\n",
      "     13 |       1 |   6.075 |   6.075 |   0.000\n",
      "     14 |       1 |   6.075 |   4.050 |   2.025\n",
      "     15 |       1 |   4.050 |   6.075 |   2.025\n",
      "     16 |       1 |   0.000 |   0.000 |   4.050\n",
      "     17 |       1 |   2.025 |   2.025 |   4.050\n",
      "     18 |       1 |   2.025 |   0.000 |   6.075\n",
      "     19 |       1 |   0.000 |   2.025 |   6.075\n",
      "     20 |       1 |   4.050 |   0.000 |   4.050\n",
      "     21 |       1 |   6.075 |   2.025 |   4.050\n",
      "     22 |       1 |   6.075 |   0.000 |   6.075\n",
      "     23 |       1 |   4.050 |   2.025 |   6.075\n",
      "     24 |       1 |   0.000 |   4.050 |   4.050\n",
      "     25 |       1 |   2.025 |   6.075 |   4.050\n",
      "     26 |       1 |   2.025 |   4.050 |   6.075\n",
      "     27 |       1 |   0.000 |   6.075 |   6.075\n",
      "     28 |       1 |   4.050 |   4.050 |   4.050\n",
      "     29 |       1 |   6.075 |   6.075 |   4.050\n",
      "     30 |       1 |   6.075 |   4.050 |   6.075\n",
      "     31 |       1 |   4.050 |   6.075 |   6.075\n"
     ]
    }
   ],
   "source": [
    "system.supersize(2, 2, 2)\n",
    "print(system)"
   ]
  },
  {
   "cell_type": "markdown",
   "metadata": {
    "deletable": true,
    "editable": true
   },
   "source": [
    "### 2.3 System family conversions\n",
    "\n",
    "The [atomman.trig_to_hex](../reference/atomman.trig_to_hex.ipynb) and [atomman.hex_to_ortho](../reference/atomman.hex_to_ortho.ipynb) functions provide a means of converting standard trigonal cells to hexagonal cells and standard hexagonal cells to orthogonal cells. "
   ]
  },
  {
   "cell_type": "markdown",
   "metadata": {
    "deletable": true,
    "editable": true
   },
   "source": [
    "### 2.4 Defect generation\n",
    "\n",
    "The [atomman.defect](../reference/atomman.defect.ipynb) module provides tools for generating and analysing crystalline defects."
   ]
  },
  {
   "cell_type": "markdown",
   "metadata": {
    "deletable": true,
    "editable": true
   },
   "source": [
    "## 3. Basic Analysis Tools"
   ]
  },
  {
   "cell_type": "markdown",
   "metadata": {
    "deletable": true,
    "editable": true
   },
   "source": [
    "### 3.1 Calculating vectors between atoms\n",
    "\n",
    "The vector distances between atoms can be computed using the [atomman.dvect](../reference/atomman.dvect.ipynb) function, the [atomman.System.dvect](../reference/atomman.System.dvect.ipynb) method and the [atomman.displacement](../reference/atomman.displacement.ipynb) function."
   ]
  },
  {
   "cell_type": "markdown",
   "metadata": {
    "deletable": true,
    "editable": true
   },
   "source": [
    "[atomman.System.dvect](../reference/atomman.System.dvect.ipynb) identifies the shortest vector distance between two points/atom positions within a System."
   ]
  },
  {
   "cell_type": "markdown",
   "metadata": {
    "deletable": true,
    "editable": true
   },
   "source": [
    "Print the vector between atoms with ids 1 and 5"
   ]
  },
  {
   "cell_type": "code",
   "execution_count": 14,
   "metadata": {
    "collapsed": false,
    "deletable": true,
    "editable": true
   },
   "outputs": [
    {
     "name": "stdout",
     "output_type": "stream",
     "text": [
      "[ 4.05  0.    0.  ]\n"
     ]
    }
   ],
   "source": [
    "print(system.dvect(1,5))"
   ]
  },
  {
   "cell_type": "markdown",
   "metadata": {
    "deletable": true,
    "editable": true
   },
   "source": [
    "Print the vectors between all atoms and position [0.1, 0.1, 0.1]"
   ]
  },
  {
   "cell_type": "code",
   "execution_count": 15,
   "metadata": {
    "collapsed": false,
    "deletable": true,
    "editable": true
   },
   "outputs": [
    {
     "name": "stdout",
     "output_type": "stream",
     "text": [
      "[[-0.1   -0.1   -0.1  ]\n",
      " [ 1.925  1.925 -0.1  ]\n",
      " [ 1.925 -0.1    1.925]\n",
      " [-0.1    1.925  1.925]\n",
      " [ 3.95  -0.1   -0.1  ]\n",
      " [-2.125  1.925 -0.1  ]\n",
      " [-2.125 -0.1    1.925]\n",
      " [ 3.95   1.925  1.925]\n",
      " [-0.1    3.95  -0.1  ]\n",
      " [ 1.925 -2.125 -0.1  ]\n",
      " [ 1.925  3.95   1.925]\n",
      " [-0.1   -2.125  1.925]\n",
      " [ 3.95   3.95  -0.1  ]\n",
      " [-2.125 -2.125 -0.1  ]\n",
      " [-2.125  3.95   1.925]\n",
      " [ 3.95  -2.125  1.925]\n",
      " [-0.1   -0.1    3.95 ]\n",
      " [ 1.925  1.925  3.95 ]\n",
      " [ 1.925 -0.1   -2.125]\n",
      " [-0.1    1.925 -2.125]\n",
      " [ 3.95  -0.1    3.95 ]\n",
      " [-2.125  1.925  3.95 ]\n",
      " [-2.125 -0.1   -2.125]\n",
      " [ 3.95   1.925 -2.125]\n",
      " [-0.1    3.95   3.95 ]\n",
      " [ 1.925 -2.125  3.95 ]\n",
      " [ 1.925  3.95  -2.125]\n",
      " [-0.1   -2.125 -2.125]\n",
      " [ 3.95   3.95   3.95 ]\n",
      " [-2.125 -2.125  3.95 ]\n",
      " [-2.125  3.95  -2.125]\n",
      " [ 3.95  -2.125 -2.125]]\n"
     ]
    }
   ],
   "source": [
    "pos = np.array([0.1, 0.1, 0.1])\n",
    "a_ids = range(system.natoms)\n",
    "\n",
    "print(system.dvect(pos, a_ids))"
   ]
  },
  {
   "cell_type": "markdown",
   "metadata": {
    "deletable": true,
    "editable": true
   },
   "source": [
    "[atomman.displacement](../reference/atomman.displacement.ipynb) calculates the shortest vector distance between all corresponding atoms in two different Systems."
   ]
  },
  {
   "cell_type": "markdown",
   "metadata": {
    "deletable": true,
    "editable": true
   },
   "source": [
    "Define system_2 with positions shifted by [0.5, 0.5, 0.5] from system's positions"
   ]
  },
  {
   "cell_type": "code",
   "execution_count": 16,
   "metadata": {
    "collapsed": false,
    "deletable": true,
    "editable": true
   },
   "outputs": [],
   "source": [
    "system_2 = deepcopy(system)\n",
    "new_pos = system_2.atoms_prop(key='pos') + np.array([0.5,0.5,0.5])\n",
    "system_2.atoms_prop(key='pos', value=new_pos)"
   ]
  },
  {
   "cell_type": "markdown",
   "metadata": {
    "deletable": true,
    "editable": true
   },
   "source": [
    "Calculate the displacement of all atoms between the systems"
   ]
  },
  {
   "cell_type": "code",
   "execution_count": 17,
   "metadata": {
    "collapsed": false,
    "deletable": true,
    "editable": true
   },
   "outputs": [
    {
     "name": "stdout",
     "output_type": "stream",
     "text": [
      "[[ 0.5  0.5  0.5]\n",
      " [ 0.5  0.5  0.5]\n",
      " [ 0.5  0.5  0.5]\n",
      " [ 0.5  0.5  0.5]\n",
      " [ 0.5  0.5  0.5]\n",
      " [ 0.5  0.5  0.5]\n",
      " [ 0.5  0.5  0.5]\n",
      " [ 0.5  0.5  0.5]\n",
      " [ 0.5  0.5  0.5]\n",
      " [ 0.5  0.5  0.5]\n",
      " [ 0.5  0.5  0.5]\n",
      " [ 0.5  0.5  0.5]\n",
      " [ 0.5  0.5  0.5]\n",
      " [ 0.5  0.5  0.5]\n",
      " [ 0.5  0.5  0.5]\n",
      " [ 0.5  0.5  0.5]\n",
      " [ 0.5  0.5  0.5]\n",
      " [ 0.5  0.5  0.5]\n",
      " [ 0.5  0.5  0.5]\n",
      " [ 0.5  0.5  0.5]\n",
      " [ 0.5  0.5  0.5]\n",
      " [ 0.5  0.5  0.5]\n",
      " [ 0.5  0.5  0.5]\n",
      " [ 0.5  0.5  0.5]\n",
      " [ 0.5  0.5  0.5]\n",
      " [ 0.5  0.5  0.5]\n",
      " [ 0.5  0.5  0.5]\n",
      " [ 0.5  0.5  0.5]\n",
      " [ 0.5  0.5  0.5]\n",
      " [ 0.5  0.5  0.5]\n",
      " [ 0.5  0.5  0.5]\n",
      " [ 0.5  0.5  0.5]]\n"
     ]
    }
   ],
   "source": [
    "print(am.displacement(system, system_2))"
   ]
  },
  {
   "cell_type": "markdown",
   "metadata": {
    "deletable": true,
    "editable": true
   },
   "source": [
    "### 3.2 Neighbor lists"
   ]
  },
  {
   "cell_type": "markdown",
   "metadata": {
    "deletable": true,
    "editable": true
   },
   "source": [
    "The [atomman.NeighborList](../reference/atomman.NeighborList.ipynb) class and [atomman.System.neighbors](../reference/atomman.System.neighbors.ipynb) method compute neighbor lists for all of the atoms in the system within a specified cutoff. "
   ]
  },
  {
   "cell_type": "markdown",
   "metadata": {
    "deletable": true,
    "editable": true
   },
   "source": [
    "Build a neighbor list for all atoms in system"
   ]
  },
  {
   "cell_type": "code",
   "execution_count": 18,
   "metadata": {
    "collapsed": false,
    "deletable": true,
    "editable": true
   },
   "outputs": [],
   "source": [
    "neighbors = am.NeighborList(system, cutoff=3)"
   ]
  },
  {
   "cell_type": "markdown",
   "metadata": {
    "deletable": true,
    "editable": true
   },
   "source": [
    "The coordination number for each atom can be accessed with coord."
   ]
  },
  {
   "cell_type": "code",
   "execution_count": 19,
   "metadata": {
    "collapsed": false,
    "deletable": true,
    "editable": true
   },
   "outputs": [
    {
     "name": "stdout",
     "output_type": "stream",
     "text": [
      "Average coordination = 12.0\n"
     ]
    }
   ],
   "source": [
    "print('Average coordination =', neighbors.coord.mean())"
   ]
  },
  {
   "cell_type": "markdown",
   "metadata": {
    "deletable": true,
    "editable": true
   },
   "source": [
    "The list of neighbors for an atom can be retrieved by index"
   ]
  },
  {
   "cell_type": "code",
   "execution_count": 20,
   "metadata": {
    "collapsed": false,
    "deletable": true,
    "editable": true
   },
   "outputs": [
    {
     "name": "stdout",
     "output_type": "stream",
     "text": [
      "[ 1  2  3  5  6  9 11 13 18 19 22 27]\n"
     ]
    }
   ],
   "source": [
    "print(neighbors[0])"
   ]
  },
  {
   "cell_type": "markdown",
   "metadata": {
    "deletable": true,
    "editable": true
   },
   "source": [
    "or iterated over"
   ]
  },
  {
   "cell_type": "code",
   "execution_count": 21,
   "metadata": {
    "collapsed": false,
    "deletable": true,
    "editable": true
   },
   "outputs": [
    {
     "name": "stdout",
     "output_type": "stream",
     "text": [
      "[ 1  2  3  5  6  9 11 13 18 19 22 27]\n",
      "[ 0  2  3  4  7  8 10 12 18 19 23 26]\n",
      "[ 0  1  3  4  7  9 11 15 16 17 20 25]\n",
      "[ 0  1  2  5  6  8 10 14 16 17 21 24]\n",
      "[ 1  2  5  6  7  9 13 15 18 22 23 31]\n",
      "[ 0  3  4  6  7  8 12 14 19 22 23 30]\n",
      "[ 0  3  4  5  7 11 13 15 16 20 21 29]\n",
      "[ 1  2  4  5  6 10 12 14 17 20 21 28]\n",
      "[ 1  3  5  9 10 11 13 14 19 26 27 30]\n",
      "[ 0  2  4  8 10 11 12 15 18 26 27 31]\n",
      "[ 1  3  7  8  9 11 12 15 17 24 25 28]\n",
      "[ 0  2  6  8  9 10 13 14 16 24 25 29]\n",
      "[ 1  5  7  9 10 13 14 15 23 26 30 31]\n",
      "[ 0  4  6  8 11 12 14 15 22 27 30 31]\n",
      "[ 3  5  7  8 11 12 13 15 21 24 28 29]\n",
      "[ 2  4  6  9 10 12 13 14 20 25 28 29]\n",
      "[ 2  3  6 11 17 18 19 21 22 25 27 29]\n",
      "[ 2  3  7 10 16 18 19 20 23 24 26 28]\n",
      "[ 0  1  4  9 16 17 19 20 23 25 27 31]\n",
      "[ 0  1  5  8 16 17 18 21 22 24 26 30]\n",
      "[ 2  6  7 15 17 18 21 22 23 25 29 31]\n",
      "[ 3  6  7 14 16 19 20 22 23 24 28 30]\n",
      "[ 0  4  5 13 16 19 20 21 23 27 29 31]\n",
      "[ 1  4  5 12 17 18 20 21 22 26 28 30]\n",
      "[ 3 10 11 14 17 19 21 25 26 27 29 30]\n",
      "[ 2 10 11 15 16 18 20 24 26 27 28 31]\n",
      "[ 1  8  9 12 17 19 23 24 25 27 28 31]\n",
      "[ 0  8  9 13 16 18 22 24 25 26 29 30]\n",
      "[ 7 10 14 15 17 21 23 25 26 29 30 31]\n",
      "[ 6 11 14 15 16 20 22 24 27 28 30 31]\n",
      "[ 5  8 12 13 19 21 23 24 27 28 29 31]\n",
      "[ 4  9 12 13 18 20 22 25 26 28 29 30]\n"
     ]
    }
   ],
   "source": [
    "for nlist in neighbors:\n",
    "    print(nlist)"
   ]
  },
  {
   "cell_type": "markdown",
   "metadata": {
    "collapsed": true,
    "deletable": true,
    "editable": true
   },
   "source": [
    "File cleanup"
   ]
  },
  {
   "cell_type": "code",
   "execution_count": 22,
   "metadata": {
    "collapsed": true,
    "deletable": true,
    "editable": true
   },
   "outputs": [],
   "source": [
    "os.remove('fcc.dump')\n",
    "os.remove('fcc.dump.json')"
   ]
  },
  {
   "cell_type": "markdown",
   "metadata": {
    "collapsed": true,
    "deletable": true,
    "editable": true
   },
   "source": [
    "__Docs Navigation:__\n",
    "\n",
    "Tutorial:\n",
    "\n",
    "1. [Basics](../tutorial/1 Basics.ipynb)\n",
    "\n",
    "2. [LAMMPS Functionality](../tutorial/2 LAMMPS Functionality.ipynb)\n",
    "\n",
    "3. [Defect Generation and Evaluation](../tutorial/3 Defect Generation and Evaluation.ipynb)\n",
    "\n",
    "\n",
    "Reference:\n",
    "\n",
    "- [atomman](../reference/atomman.ipynb)\n",
    "\n",
    "- [atomman.convert](../reference/atomman.convert.ipynb)\n",
    "\n",
    "- [atomman.defect](../reference/atomman.defect.ipynb)\n",
    "\n",
    "- [atomman.lammps](../reference/atomman.lammps.ipynb)\n",
    "\n",
    "- [atomman.tools](../reference/atomman.tools.ipynb)\n",
    "\n",
    "- [atomman.unitconvert](../reference/atomman.unitconvert.ipynb)"
   ]
  }
 ],
 "metadata": {
  "anaconda-cloud": {},
  "kernelspec": {
   "display_name": "Python 2",
   "language": "python",
   "name": "python2"
  },
  "language_info": {
   "codemirror_mode": {
    "name": "ipython",
    "version": 2
   },
   "file_extension": ".py",
   "mimetype": "text/x-python",
   "name": "python",
   "nbconvert_exporter": "python",
   "pygments_lexer": "ipython2",
   "version": "2.7.13"
  }
 },
 "nbformat": 4,
 "nbformat_minor": 0
}
