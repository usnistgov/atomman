{
 "cells": [
  {
   "cell_type": "markdown",
   "metadata": {
    "deletable": true,
    "editable": true
   },
   "source": [
    "# Box class\n",
    "\n",
    "- - -\n",
    "\n",
    "__Lucas M. Hale__, [lucas.hale@nist.gov](mailto:lucas.hale@nist.gov?Subject=ipr-demo), _Materials Science and Engineering Division, NIST_.\n",
    "\n",
    "Notebook last updated: 2018-02-06\n",
    "    \n",
    "[Disclaimers](http://www.nist.gov/public_affairs/disclaimer.cfm) \n",
    " \n",
    "- - -"
   ]
  },
  {
   "cell_type": "markdown",
   "metadata": {
    "deletable": true,
    "editable": true
   },
   "source": [
    "## 1. Introduction\n",
    "\n",
    "The atomman.Box class represents a generic parallelepiped that can be used as a simulation box/cell allowing for translational symmetry in all three dimensions.  The underlying data structure consists of three 3D vectors:\n",
    "\n",
    "- **avect** is the Cartesian vector associated with the Box's a lattice vector.\n",
    "\n",
    "- **bvect** is the Cartesian vector associated with the Box's b lattice vector.\n",
    "\n",
    "- **cvect** is the Cartesian vector associated with the Box's c lattice vector.\n",
    "\n",
    "- **origin** is the Cartesian position vector for the Box's origin.  The positions of the Box's eight corners are given by adding combinations of avect, bvect and cvect to the origin."
   ]
  },
  {
   "cell_type": "markdown",
   "metadata": {
    "deletable": true,
    "editable": true
   },
   "source": [
    "#### Library Imports"
   ]
  },
  {
   "cell_type": "code",
   "execution_count": 1,
   "metadata": {
    "collapsed": false,
    "deletable": true,
    "editable": true
   },
   "outputs": [
    {
     "name": "stdout",
     "output_type": "stream",
     "text": [
      "atomman version = 1.2.alpha\n"
     ]
    }
   ],
   "source": [
    "# Standard Python libraries\n",
    "from __future__ import (absolute_import, print_function,\n",
    "                        division, unicode_literals)\n",
    "\n",
    "# http://www.numpy.org/\n",
    "import numpy as np\n",
    "\n",
    "# https://github.com/usnistgov/atomman\n",
    "import atomman as am\n",
    "import atomman.unitconvert as uc\n",
    "\n",
    "# Show atomman version\n",
    "print('atomman version =', am.__version__)"
   ]
  },
  {
   "cell_type": "markdown",
   "metadata": {
    "deletable": true,
    "editable": true
   },
   "source": [
    "#### Create a default box with vects that are normal unit vectors"
   ]
  },
  {
   "cell_type": "code",
   "execution_count": 2,
   "metadata": {
    "collapsed": false,
    "deletable": true,
    "editable": true
   },
   "outputs": [
    {
     "name": "stdout",
     "output_type": "stream",
     "text": [
      "avect =  [ 1.000,  0.000,  0.000]\n",
      "bvect =  [ 0.000,  1.000,  0.000]\n",
      "cvect =  [ 0.000,  0.000,  1.000]\n",
      "origin = [ 0.000,  0.000,  0.000]\n"
     ]
    }
   ],
   "source": [
    "box = am.Box()\n",
    "\n",
    "print(box)"
   ]
  },
  {
   "cell_type": "markdown",
   "metadata": {
    "deletable": true,
    "editable": true
   },
   "source": [
    "## 2. Box parameters\n",
    "\n",
    "The Box class supports a number of different parameters to represent the underlying box. All of these parameters can be fetched as class attributes.\n",
    "\n",
    "- **avect, bvect, cvect** are the Cartesian vectors associated with the Box's lattice vectors.\n",
    "\n",
    "- **origin** is the Cartesian position vector for the Box's origin.\n",
    "\n",
    "- **vects** is a 3x3 array containing [avect, bvect, cvect].\n",
    "\n",
    "- **a, b, c** are the Box's lattice parameters (magnitudes of avect, bvect, cvect, respectively).\n",
    "\n",
    "- **alpha, beta, gamma** are the Box's lattice angles in degrees.\n",
    "\n",
    "- **xlo, xhi, ylo, yhi, zlo, zhi** are the LAMMPS hi/lo box dimensions.\n",
    "\n",
    "- **lx, ly, lz** are the LAMMPS box dimensions (lx = xhi - xlo, etc.)\n",
    "\n",
    "- **xy, xz, yz** are the LAMMPS box tilt factors.\n"
   ]
  },
  {
   "cell_type": "code",
   "execution_count": 3,
   "metadata": {
    "collapsed": false,
    "deletable": true,
    "editable": true
   },
   "outputs": [
    {
     "name": "stdout",
     "output_type": "stream",
     "text": [
      "box.avect -> [ 1.  0.  0.]\n",
      "box.bvect -> [ 0.  1.  0.]\n",
      "box.cvect -> [ 0.  0.  1.]\n",
      "\n",
      "box.origin -> [ 0.  0.  0.]\n",
      "\n",
      "box.vects ->\n",
      "[[ 1.  0.  0.]\n",
      " [ 0.  1.  0.]\n",
      " [ 0.  0.  1.]]\n",
      "\n",
      "box.a -> 1.0\n",
      "box.b -> 1.0\n",
      "box.c -> 1.0\n",
      "box.alpha -> 90.0\n",
      "box.beta  -> 90.0\n",
      "box.gamma -> 90.0\n",
      "\n",
      "box.xlo -> 0.0\n",
      "box.xhi -> 1.0\n",
      "box.ylo -> 0.0\n",
      "box.yhi -> 1.0\n",
      "box.zlo -> 0.0\n",
      "box.zhi -> 1.0\n",
      "box.lx -> 1.0\n",
      "box.ly -> 1.0\n",
      "box.lz -> 1.0\n",
      "box.xy -> 0.0\n",
      "box.xz -> 0.0\n",
      "box.yz -> 0.0\n",
      "\n"
     ]
    }
   ],
   "source": [
    "# Individual box vectors\n",
    "print('box.avect ->', box.avect)\n",
    "print('box.bvect ->', box.bvect)\n",
    "print('box.cvect ->', box.cvect)\n",
    "print()\n",
    "\n",
    "# Box origin position\n",
    "print('box.origin ->', box.origin)\n",
    "print()\n",
    "\n",
    "# Array of box vectors\n",
    "print('box.vects ->')\n",
    "print(box.vects)\n",
    "print()\n",
    "\n",
    "# Crystal lattice parameters\n",
    "print('box.a ->', box.a)\n",
    "print('box.b ->', box.b)\n",
    "print('box.c ->', box.c)\n",
    "print('box.alpha ->', box.alpha)\n",
    "print('box.beta  ->', box.beta)\n",
    "print('box.gamma ->', box.gamma)\n",
    "print()\n",
    "\n",
    "# LAMMPS parameters\n",
    "print('box.xlo ->', box.xlo)\n",
    "print('box.xhi ->', box.xhi)\n",
    "print('box.ylo ->', box.ylo)\n",
    "print('box.yhi ->', box.yhi)\n",
    "print('box.zlo ->', box.zlo)\n",
    "print('box.zhi ->', box.zhi)\n",
    "print('box.lx ->', box.lx)\n",
    "print('box.ly ->', box.ly)\n",
    "print('box.lz ->', box.lz)\n",
    "print('box.xy ->', box.xy)\n",
    "print('box.xz ->', box.xz)\n",
    "print('box.yz ->', box.yz)\n",
    "print()"
   ]
  },
  {
   "cell_type": "markdown",
   "metadata": {
    "deletable": true,
    "editable": true
   },
   "source": [
    "## 3. Setting Box parameters\n",
    "\n",
    "Only a few of the parameters listed in Section #2 can be directly set.  This is done as setting some of the parameters independent of others can lead to ambiguous answers.  For better control, set() functions are defined that allow for the setting of complete parameter sets for defining the box."
   ]
  },
  {
   "cell_type": "markdown",
   "metadata": {
    "deletable": true,
    "editable": true
   },
   "source": [
    "### 3.1 Direct setting box vects and origin\n",
    "\n",
    "Only vects and origin can be directly set."
   ]
  },
  {
   "cell_type": "code",
   "execution_count": 4,
   "metadata": {
    "collapsed": false,
    "deletable": true,
    "editable": true
   },
   "outputs": [
    {
     "name": "stdout",
     "output_type": "stream",
     "text": [
      "avect =  [ 1.105,  2.164,  3.617]\n",
      "bvect =  [ 3.034,  1.889,  2.190]\n",
      "cvect =  [ 2.680,  2.860,  2.395]\n",
      "origin = [ 0.526,  0.589,  0.649]\n"
     ]
    }
   ],
   "source": [
    "# Set avect, bvect, cvect and origin with random vectors\n",
    "box.vects = 4 * np.random.rand(3,3)\n",
    "box.origin = np.random.rand(3)\n",
    "print(box)"
   ]
  },
  {
   "cell_type": "markdown",
   "metadata": {
    "deletable": true,
    "editable": true
   },
   "source": [
    "### 3.2 Box.set() method\n",
    "\n",
    "The Box.set() method can be used to define the Box using one of the following sets of parameters (optional terms in parenthesis):\n",
    "\n",
    "- vects (and origin)\n",
    "\n",
    "- avect, bvect, cvect (and origin)\n",
    "\n",
    "- a, b, c, (alpha, beta, gamma and origin)\n",
    "\n",
    "- xlo, xhi, ylo, yhi, zlo, zhi, (xy, xz and yz)\n",
    "\n",
    "- lx, ly, lz, (xy, xz, yz, and origin)"
   ]
  },
  {
   "cell_type": "code",
   "execution_count": 5,
   "metadata": {
    "collapsed": false,
    "deletable": true,
    "editable": true
   },
   "outputs": [
    {
     "name": "stdout",
     "output_type": "stream",
     "text": [
      "avect =  [ 1.000,  2.000,  3.000]\n",
      "bvect =  [ 2.000,  3.000,  1.000]\n",
      "cvect =  [ 3.000,  1.000,  2.000]\n",
      "origin = [ 0.000,  0.000,  0.000]\n"
     ]
    }
   ],
   "source": [
    "# Use set with vects (default origin is [0,0,0])\n",
    "box.set(vects=[[1,2,3], [2,3,1], [3,1,2]])\n",
    "print(box)"
   ]
  },
  {
   "cell_type": "code",
   "execution_count": 6,
   "metadata": {
    "collapsed": false,
    "deletable": true,
    "editable": true
   },
   "outputs": [
    {
     "name": "stdout",
     "output_type": "stream",
     "text": [
      "avect =  [ 3.200,  0.000,  0.000]\n",
      "bvect =  [ 0.000,  3.200,  0.000]\n",
      "cvect =  [ 0.000,  0.000,  3.200]\n",
      "origin = [ 0.000,  0.000,  0.000]\n"
     ]
    }
   ],
   "source": [
    "# Use set with avect, bvect, cvect (default origin is [0,0,0])\n",
    "box.set(avect=[3.2, 0.0, 0.0], bvect=[0.0, 3.2, 0.0], cvect=[0.0, 0.0, 3.2])\n",
    "print(box)"
   ]
  },
  {
   "cell_type": "code",
   "execution_count": 7,
   "metadata": {
    "collapsed": false,
    "deletable": true,
    "editable": true
   },
   "outputs": [
    {
     "name": "stdout",
     "output_type": "stream",
     "text": [
      "avect =  [ 4.300,  0.000,  0.000]\n",
      "bvect =  [ 0.000,  3.200,  0.000]\n",
      "cvect =  [ 0.000, -2.770,  7.612]\n",
      "origin = [ 0.000,  0.000,  0.000]\n",
      "\n",
      "box.a -> 4.3\n",
      "box.b -> 3.2\n",
      "box.c -> 8.1\n",
      "box.alpha -> 110.0\n",
      "box.beta  -> 90.0\n",
      "box.gamma -> 90.0\n"
     ]
    }
   ],
   "source": [
    "# Use set with a, b, c and alpha (default angles are 90, origin is [0,0,0])\n",
    "box.set(a=4.3, b=3.2, c=8.1, alpha=110)\n",
    "print(box)\n",
    "print()\n",
    "\n",
    "# Show that box definition coincides with parameters set\n",
    "print('box.a ->', box.a)\n",
    "print('box.b ->', box.b)\n",
    "print('box.c ->', box.c)\n",
    "print('box.alpha ->', box.alpha)\n",
    "print('box.beta  ->', box.beta)\n",
    "print('box.gamma ->', box.gamma)"
   ]
  },
  {
   "cell_type": "code",
   "execution_count": 8,
   "metadata": {
    "collapsed": false,
    "deletable": true,
    "editable": true
   },
   "outputs": [
    {
     "name": "stdout",
     "output_type": "stream",
     "text": [
      "avect =  [ 6.000,  0.000,  0.000]\n",
      "bvect =  [ 0.500,  7.100,  0.000]\n",
      "cvect =  [ 0.000,  0.000,  3.000]\n",
      "origin = [-1.000, -2.100,  0.100]\n",
      "\n",
      "box.xlo -> -1.0\n",
      "box.xhi -> 5.0\n",
      "box.ylo -> -2.1\n",
      "box.yhi -> 5.0\n",
      "box.zlo -> 0.1\n",
      "box.zhi -> 3.1\n",
      "box.xy -> 0.5\n",
      "box.xz -> 0.0\n",
      "box.yz -> 0.0\n"
     ]
    }
   ],
   "source": [
    "# Use set with xlo, xhi, ylo, yhi, zlo, zhi and xy (default tilts are 0)\n",
    "box.set(xlo=-1, xhi=5, ylo=-2.1, yhi=5, zlo=0.1, zhi=3.1, xy=0.5)\n",
    "print(box)\n",
    "print()\n",
    "\n",
    "# Show that box definition coincides with parameters set\n",
    "print('box.xlo ->', box.xlo)\n",
    "print('box.xhi ->', box.xhi)\n",
    "print('box.ylo ->', box.ylo)\n",
    "print('box.yhi ->', box.yhi)\n",
    "print('box.zlo ->', box.zlo)\n",
    "print('box.zhi ->', box.zhi)\n",
    "print('box.xy ->', box.xy)\n",
    "print('box.xz ->', box.xz)\n",
    "print('box.yz ->', box.yz)"
   ]
  },
  {
   "cell_type": "code",
   "execution_count": 9,
   "metadata": {
    "collapsed": false,
    "deletable": true,
    "editable": true
   },
   "outputs": [
    {
     "name": "stdout",
     "output_type": "stream",
     "text": [
      "avect =  [42.000,  0.000,  0.000]\n",
      "bvect =  [ 0.000, 57.000,  0.000]\n",
      "cvect =  [15.000,  0.000, 112.000]\n",
      "origin = [ 1.000,  2.000,  3.000]\n",
      "\n",
      "box.lx -> 1.0\n",
      "box.ly -> 43.0\n",
      "box.lz -> 2.0\n",
      "box.xy -> 0.0\n",
      "box.xz -> 15.0\n",
      "box.yz -> 0.0\n"
     ]
    }
   ],
   "source": [
    "# Use set with lx, ly, lz and xz (default tilts are 0, origin is [0,0,0])\n",
    "box.set(lx=42, ly=57, lz=112, xz=15, origin=[1,2,3])\n",
    "print(box)\n",
    "print()\n",
    "\n",
    "# Show that box definition coincides with parameters set\n",
    "print('box.lx ->', box.xlo)\n",
    "print('box.ly ->', box.xhi)\n",
    "print('box.lz ->', box.ylo)\n",
    "print('box.xy ->', box.xy)\n",
    "print('box.xz ->', box.xz)\n",
    "print('box.yz ->', box.yz)"
   ]
  },
  {
   "cell_type": "markdown",
   "metadata": {
    "deletable": true,
    "editable": true
   },
   "source": [
    "## 4. LAMMPS-compatible Boxes\n",
    "\n",
    "For boxes to be compatible with LAMMPS, they have to adhere to the following conditions:\n",
    "\n",
    "- avect, bvect, cvect are right-handed.\n",
    "\n",
    "- Only certain components of the lattice vectors are allowed to be non-zero:\n",
    "\n",
    "        avect = [lx, 0.0, 0.0]\n",
    "        bvect = [xy,  ly, 0.0]\n",
    "        cvect = [xz,  yz,  lz]\n",
    "        \n",
    "- The tilt factors are limited to being between -1/2 and 1/2 the corresponding length terms. \n",
    "\n",
    "The first two conditions are automatically adhered to if the box is set with LAMMPS terms or crystal lattice parameters, but may not be true if the box was set using the crystal vectors. The third condition is not checked by atomman. Large tilt factors are allowed by LAMMPS if the \"box tilt large\" command is used."
   ]
  },
  {
   "cell_type": "markdown",
   "metadata": {
    "deletable": true,
    "editable": true
   },
   "source": [
    "### 4.1 Box.is_lammps_norm()\n",
    "\n",
    "This function returns True if the Box is compatible with the first two LAMMPS condtions and False otherwise. "
   ]
  },
  {
   "cell_type": "code",
   "execution_count": 10,
   "metadata": {
    "collapsed": false,
    "deletable": true,
    "editable": true
   },
   "outputs": [
    {
     "name": "stdout",
     "output_type": "stream",
     "text": [
      "box.is_lammps_norm() -> True\n"
     ]
    }
   ],
   "source": [
    "# The current box was defined with LAMMPS parameters, therefore is compatible\n",
    "print('box.is_lammps_norm() ->', box.is_lammps_norm())"
   ]
  },
  {
   "cell_type": "code",
   "execution_count": 11,
   "metadata": {
    "collapsed": false,
    "deletable": true,
    "editable": true
   },
   "outputs": [
    {
     "name": "stdout",
     "output_type": "stream",
     "text": [
      "box.is_lammps_norm() -> False\n"
     ]
    }
   ],
   "source": [
    "# Define a non-lammps compatible box using set(avect, bvect, cvect)\n",
    "box.set(avect=[10, 0.1, 0.0], bvect=[0.2, 9.0, 0.0], cvect=[-0.2, 0.5, 14])\n",
    "\n",
    "print('box.is_lammps_norm() ->', box.is_lammps_norm())"
   ]
  },
  {
   "cell_type": "markdown",
   "metadata": {
    "deletable": true,
    "editable": true
   },
   "source": [
    "Trying to access LAMMPS box parameters for incompatible boxes will issue an error."
   ]
  },
  {
   "cell_type": "code",
   "execution_count": 12,
   "metadata": {
    "collapsed": false,
    "deletable": true,
    "editable": true
   },
   "outputs": [
    {
     "name": "stdout",
     "output_type": "stream",
     "text": [
      "AssertionError: Box is not normalized for LAMMPS style parameters\n"
     ]
    }
   ],
   "source": [
    "try:\n",
    "    box.lx\n",
    "except AssertionError as e:\n",
    "    print('AssertionError:', e)"
   ]
  }
 ],
 "metadata": {
  "kernelspec": {
   "display_name": "Python 3",
   "language": "python",
   "name": "python3"
  },
  "language_info": {
   "codemirror_mode": {
    "name": "ipython",
    "version": 3
   },
   "file_extension": ".py",
   "mimetype": "text/x-python",
   "name": "python",
   "nbconvert_exporter": "python",
   "pygments_lexer": "ipython3",
   "version": "3.6.3"
  }
 },
 "nbformat": 4,
 "nbformat_minor": 2
}
