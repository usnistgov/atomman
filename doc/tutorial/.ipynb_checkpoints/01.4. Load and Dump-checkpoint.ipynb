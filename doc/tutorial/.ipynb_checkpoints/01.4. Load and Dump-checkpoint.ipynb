{
 "cells": [
  {
   "cell_type": "markdown",
   "metadata": {
    "deletable": true,
    "editable": true
   },
   "source": [
    "# Introduction to atomman: Load and Dump\n",
    "\n",
    "__Lucas M. Hale__, [lucas.hale@nist.gov](mailto:lucas.hale@nist.gov?Subject=ipr-demo), _Materials Science and Engineering Division, NIST_.\n",
    "\n",
    "Notebook last updated: 2018-04-05\n",
    "    \n",
    "[Disclaimers](http://www.nist.gov/public_affairs/disclaimer.cfm) "
   ]
  },
  {
   "cell_type": "markdown",
   "metadata": {
    "deletable": true,
    "editable": true
   },
   "source": [
    "## 1. Introduction\n",
    "\n",
    "There are a number of built-in converters between the atomman.System class and other representations of atomic configurations.  \n",
    " \n",
    " - **load** creates a System object from another representation.\n",
    " \n",
    " - **dump** converts a System to another representation.\n",
    " \n",
    "### 1.1. Load details\n",
    "\n",
    "Content can be loaded using the atomman.load() function. \n",
    "\n",
    "Parameters\n",
    "\n",
    "- **style** (*str*) indicates the format of the content being loaded.\n",
    "\n",
    "- **content** (*any*) the content to be loaded.  For text formats, can be a str of the content, a file path or a file-like object.\n",
    "\n",
    "- **\\*\\*kwargs** (*any*) any extra style-specific keyword arguments.\n",
    "\n",
    "Alternatively, there is a load_STYLE() function for each style that takes the content and kwargs.  The underlying code is found in the atomman/load directory.\n",
    "\n",
    "### 1.2. Dump details\n",
    "\n",
    "A system can be dumped to another format using the system.dump() method. \n",
    "\n",
    "Parameters\n",
    "\n",
    "- **style** (*str*) indicates the format of the content to dump to.\n",
    "\n",
    "- **\\*\\*kwargs** (*any*) any extra style-specific keyword arguments.\n",
    "\n",
    "Alternatively, there are atomman.dump() and atomman.dump_style() functions that can be used to dump a system to the different style formats. The dump() function takes style, system and kwargs as parameters, while the dump_style() functions take system and kwargs. The underlying code is found in the atomman/dump directory.\n"
   ]
  },
  {
   "cell_type": "markdown",
   "metadata": {
    "deletable": true,
    "editable": true
   },
   "source": [
    "**Library Imports**"
   ]
  },
  {
   "cell_type": "code",
   "execution_count": 25,
   "metadata": {
    "collapsed": false,
    "deletable": true,
    "editable": true
   },
   "outputs": [],
   "source": [
    "# Standard Python libraries\n",
    "from __future__ import (absolute_import, print_function,\n",
    "                        division, unicode_literals)\n",
    "\n",
    "# http://www.numpy.org/\n",
    "import numpy as np\n",
    "\n",
    "import atomman as am\n",
    "import atomman.unitconvert as uc"
   ]
  },
  {
   "cell_type": "markdown",
   "metadata": {
    "deletable": true,
    "editable": true
   },
   "source": [
    "Generate test system information (CsCl)"
   ]
  },
  {
   "cell_type": "code",
   "execution_count": 26,
   "metadata": {
    "collapsed": false,
    "deletable": true,
    "editable": true
   },
   "outputs": [
    {
     "name": "stdout",
     "output_type": "stream",
     "text": [
      "avect =  [ 3.200,  0.000,  0.000]\n",
      "bvect =  [ 0.000,  3.200,  0.000]\n",
      "cvect =  [ 0.000,  0.000,  3.200]\n",
      "origin = [ 0.000,  0.000,  0.000]\n",
      "natoms = 2\n",
      "natypes = 2\n",
      "symbols = (u'Cs', u'Cl')\n",
      "pbc = [ True  True  True]\n",
      "     id |   atype |  pos[0] |  pos[1] |  pos[2]\n",
      "      0 |       1 |   0.000 |   0.000 |   0.000\n",
      "      1 |       2 |   1.600 |   1.600 |   1.600\n"
     ]
    },
    {
     "data": {
      "text/html": [
       "<div>\n",
       "<table border=\"1\" class=\"dataframe\">\n",
       "  <thead>\n",
       "    <tr style=\"text-align: right;\">\n",
       "      <th></th>\n",
       "      <th>atype</th>\n",
       "      <th>pos[0]</th>\n",
       "      <th>pos[1]</th>\n",
       "      <th>pos[2]</th>\n",
       "      <th>stress[0][0]</th>\n",
       "      <th>stress[0][1]</th>\n",
       "      <th>stress[0][2]</th>\n",
       "      <th>stress[1][0]</th>\n",
       "      <th>stress[1][1]</th>\n",
       "      <th>stress[1][2]</th>\n",
       "      <th>stress[2][0]</th>\n",
       "      <th>stress[2][1]</th>\n",
       "      <th>stress[2][2]</th>\n",
       "      <th>charge</th>\n",
       "    </tr>\n",
       "  </thead>\n",
       "  <tbody>\n",
       "    <tr>\n",
       "      <th>0</th>\n",
       "      <td>1</td>\n",
       "      <td>0.0</td>\n",
       "      <td>0.0</td>\n",
       "      <td>0.0</td>\n",
       "      <td>0.0</td>\n",
       "      <td>0.0</td>\n",
       "      <td>0.0</td>\n",
       "      <td>0.0</td>\n",
       "      <td>0.0</td>\n",
       "      <td>0.0</td>\n",
       "      <td>0.0</td>\n",
       "      <td>0.0</td>\n",
       "      <td>0.0</td>\n",
       "      <td>1.0</td>\n",
       "    </tr>\n",
       "    <tr>\n",
       "      <th>1</th>\n",
       "      <td>2</td>\n",
       "      <td>1.6</td>\n",
       "      <td>1.6</td>\n",
       "      <td>1.6</td>\n",
       "      <td>0.0</td>\n",
       "      <td>0.0</td>\n",
       "      <td>0.0</td>\n",
       "      <td>0.0</td>\n",
       "      <td>0.0</td>\n",
       "      <td>0.0</td>\n",
       "      <td>0.0</td>\n",
       "      <td>0.0</td>\n",
       "      <td>0.0</td>\n",
       "      <td>-1.0</td>\n",
       "    </tr>\n",
       "  </tbody>\n",
       "</table>\n",
       "</div>"
      ],
      "text/plain": [
       "   atype  pos[0]  pos[1]  pos[2]  stress[0][0]  stress[0][1]  stress[0][2]  \\\n",
       "0      1     0.0     0.0     0.0           0.0           0.0           0.0   \n",
       "1      2     1.6     1.6     1.6           0.0           0.0           0.0   \n",
       "\n",
       "   stress[1][0]  stress[1][1]  stress[1][2]  stress[2][0]  stress[2][1]  \\\n",
       "0           0.0           0.0           0.0           0.0           0.0   \n",
       "1           0.0           0.0           0.0           0.0           0.0   \n",
       "\n",
       "   stress[2][2]  charge  \n",
       "0           0.0     1.0  \n",
       "1           0.0    -1.0  "
      ]
     },
     "execution_count": 26,
     "metadata": {},
     "output_type": "execute_result"
    }
   ],
   "source": [
    "# Generate box\n",
    "alat = uc.set_in_units(3.2, 'angstrom')\n",
    "box = am.Box(a=alat, b=alat, c=alat)\n",
    "\n",
    "# Generate atoms with atype, pos, charge, and stress properties\n",
    "atype = [1, 2]\n",
    "pos = [[0,0,0], [0.5, 0.5, 0.5]]\n",
    "charge = uc.set_in_units([1, -1], 'e')\n",
    "stress = uc.set_in_units(np.zeros((2, 3, 3)), 'MPa')\n",
    "atoms = am.Atoms(pos=pos, atype=atype, charge=charge, stress=stress)\n",
    "\n",
    "# Build system from box and atoms, and scale atoms\n",
    "system = am.System(atoms=atoms, box=box, scale=True, symbols=['Cs', 'Cl'])\n",
    "\n",
    "# Print system information\n",
    "print(system)\n",
    "system.atoms_df()"
   ]
  },
  {
   "cell_type": "markdown",
   "metadata": {
    "deletable": true,
    "editable": true
   },
   "source": [
    "## 2. system_model style\n",
    "\n",
    "The system_model style provides a complete structured record of all values with proper units that is compatible with JSON or XML databases.  The downside is that the representation is not as efficient or convenient as tabular formats for large numbers of atoms and atomic properties. "
   ]
  },
  {
   "cell_type": "markdown",
   "metadata": {
    "deletable": true,
    "editable": true
   },
   "source": [
    "### 2.1. dump('system_model')\n",
    "\n",
    "Keyword Parameters\n",
    "\n",
    "- **box_unit** (*str, optional*) Length unit to use for the box. Default value is 'angstrom'.\n",
    "\n",
    "- **symbols** (*list, optional*) list of atom-model symbols corresponding to the atom types.  Will use system.symbols if not given.\n",
    "\n",
    "- **elements** (*list, optional*) list of element tags corresponding to the atom types.\n",
    "\n",
    "- **prop_units** (*dict, optional*) dictionary where the keys are the property keys to include, and the values are units to use. If not given, only the positions in scaled units are included.\n",
    "\n",
    "- **a_std** (*float, optional*) Standard deviation of a lattice constant to include if available.\n",
    "\n",
    "- **b_std** (*float, optional*) Standard deviation of b lattice constant to include if available.\n",
    "\n",
    "- **c_std** (*float, optional*) Standard deviation of c lattice constant to include if available.\n",
    "\n",
    "Returns\n",
    "\n",
    "- **model** (*DataModelDict*) A data model of the system."
   ]
  },
  {
   "cell_type": "code",
   "execution_count": 27,
   "metadata": {
    "collapsed": false,
    "deletable": true,
    "editable": true
   },
   "outputs": [
    {
     "name": "stdout",
     "output_type": "stream",
     "text": [
      "JSON system model:\n",
      "{\"atomic-system\": {\"cell\": {\"cubic\": {\"a\": {\"value\": 3.2000000000000006, \"unit\": \"angstrom\"}}}, \"atom\": [{\"component\": 1, \"symbol\": \"Cs\", \"position\": {\"value\": [0.0, 0.0, 0.0], \"unit\": \"scaled\"}, \"property\": [{\"name\": \"charge\", \"value\": 1.0, \"unit\": \"e\"}, {\"name\": \"stress\", \"value\": [0.0, 0.0, 0.0, 0.0, 0.0, 0.0, 0.0, 0.0, 0.0], \"shape\": [3, 3], \"unit\": \"GPa\"}]}, {\"component\": 2, \"symbol\": \"Cl\", \"position\": {\"value\": [0.5, 0.5, 0.5], \"unit\": \"scaled\"}, \"property\": [{\"name\": \"charge\", \"value\": -1.0, \"unit\": \"e\"}, {\"name\": \"stress\", \"value\": [0.0, 0.0, 0.0, 0.0, 0.0, 0.0, 0.0, 0.0, 0.0], \"shape\": [3, 3], \"unit\": \"GPa\"}]}]}}\n",
      "\n",
      "XML system model:\n",
      "<?xml version=\"1.0\" encoding=\"utf-8\"?>\n",
      "<atomic-system><cell><cubic><a><value>3.2000000000000006</value><unit>angstrom</unit></a></cubic></cell><atom><component>1</component><symbol>Cs</symbol><position><value>0.0</value><value>0.0</value><value>0.0</value><unit>scaled</unit></position><property><name>charge</name><value>1.0</value><unit>e</unit></property><property><name>stress</name><value>0.0</value><value>0.0</value><value>0.0</value><value>0.0</value><value>0.0</value><value>0.0</value><value>0.0</value><value>0.0</value><value>0.0</value><shape>3</shape><shape>3</shape><unit>GPa</unit></property></atom><atom><component>2</component><symbol>Cl</symbol><position><value>0.5</value><value>0.5</value><value>0.5</value><unit>scaled</unit></position><property><name>charge</name><value>-1.0</value><unit>e</unit></property><property><name>stress</name><value>0.0</value><value>0.0</value><value>0.0</value><value>0.0</value><value>0.0</value><value>0.0</value><value>0.0</value><value>0.0</value><value>0.0</value><shape>3</shape><shape>3</shape><unit>GPa</unit></property></atom></atomic-system>\n"
     ]
    }
   ],
   "source": [
    "model = system.dump('system_model',  box_unit='angstrom', prop_units={'charge': 'e', 'stress': 'GPa'})\n",
    "print('JSON system model:')\n",
    "print(model.json())\n",
    "print()\n",
    "\n",
    "print('XML system model:')\n",
    "print(model.xml())"
   ]
  },
  {
   "cell_type": "markdown",
   "metadata": {
    "deletable": true,
    "editable": true
   },
   "source": [
    "### 2.2. load('system_model')\n",
    "\n",
    "Parameters\n",
    "\n",
    "- **model** (*str, file-like object or DataModelDict*) The data model to read.\n",
    "\n",
    "- **key** (*str, optional*) The key identifying the root element for the system definition. Default value is 'atomic-system'.\n",
    "\n",
    "- **index** (*int, optional*) If the full model has multiple key entries, the index specifies which to access.  Default value is 0 (first, or only entry).\n",
    "\n",
    "Returns\n",
    "\n",
    "- **system** (*atomman.System*) The system object associated with the data model.\n"
   ]
  },
  {
   "cell_type": "code",
   "execution_count": 28,
   "metadata": {
    "collapsed": false,
    "deletable": true,
    "editable": true
   },
   "outputs": [
    {
     "name": "stdout",
     "output_type": "stream",
     "text": [
      "avect =  [ 3.200,  0.000,  0.000]\n",
      "bvect =  [ 0.000,  3.200,  0.000]\n",
      "cvect =  [ 0.000,  0.000,  3.200]\n",
      "origin = [ 0.000,  0.000,  0.000]\n",
      "natoms = 2\n",
      "natypes = 2\n",
      "symbols = (u'Cs', u'Cl')\n",
      "pbc = [ True  True  True]\n",
      "     id |   atype |  pos[0] |  pos[1] |  pos[2]\n",
      "      0 |       1 |   0.000 |   0.000 |   0.000\n",
      "      1 |       2 |   1.600 |   1.600 |   1.600\n"
     ]
    },
    {
     "data": {
      "text/html": [
       "<div>\n",
       "<table border=\"1\" class=\"dataframe\">\n",
       "  <thead>\n",
       "    <tr style=\"text-align: right;\">\n",
       "      <th></th>\n",
       "      <th>atype</th>\n",
       "      <th>pos[0]</th>\n",
       "      <th>pos[1]</th>\n",
       "      <th>pos[2]</th>\n",
       "      <th>stress[0][0]</th>\n",
       "      <th>stress[0][1]</th>\n",
       "      <th>stress[0][2]</th>\n",
       "      <th>stress[1][0]</th>\n",
       "      <th>stress[1][1]</th>\n",
       "      <th>stress[1][2]</th>\n",
       "      <th>stress[2][0]</th>\n",
       "      <th>stress[2][1]</th>\n",
       "      <th>stress[2][2]</th>\n",
       "      <th>charge</th>\n",
       "    </tr>\n",
       "  </thead>\n",
       "  <tbody>\n",
       "    <tr>\n",
       "      <th>0</th>\n",
       "      <td>1</td>\n",
       "      <td>0.0</td>\n",
       "      <td>0.0</td>\n",
       "      <td>0.0</td>\n",
       "      <td>0.0</td>\n",
       "      <td>0.0</td>\n",
       "      <td>0.0</td>\n",
       "      <td>0.0</td>\n",
       "      <td>0.0</td>\n",
       "      <td>0.0</td>\n",
       "      <td>0.0</td>\n",
       "      <td>0.0</td>\n",
       "      <td>0.0</td>\n",
       "      <td>1.0</td>\n",
       "    </tr>\n",
       "    <tr>\n",
       "      <th>1</th>\n",
       "      <td>2</td>\n",
       "      <td>1.6</td>\n",
       "      <td>1.6</td>\n",
       "      <td>1.6</td>\n",
       "      <td>0.0</td>\n",
       "      <td>0.0</td>\n",
       "      <td>0.0</td>\n",
       "      <td>0.0</td>\n",
       "      <td>0.0</td>\n",
       "      <td>0.0</td>\n",
       "      <td>0.0</td>\n",
       "      <td>0.0</td>\n",
       "      <td>0.0</td>\n",
       "      <td>-1.0</td>\n",
       "    </tr>\n",
       "  </tbody>\n",
       "</table>\n",
       "</div>"
      ],
      "text/plain": [
       "   atype  pos[0]  pos[1]  pos[2]  stress[0][0]  stress[0][1]  stress[0][2]  \\\n",
       "0      1     0.0     0.0     0.0           0.0           0.0           0.0   \n",
       "1      2     1.6     1.6     1.6           0.0           0.0           0.0   \n",
       "\n",
       "   stress[1][0]  stress[1][1]  stress[1][2]  stress[2][0]  stress[2][1]  \\\n",
       "0           0.0           0.0           0.0           0.0           0.0   \n",
       "1           0.0           0.0           0.0           0.0           0.0   \n",
       "\n",
       "   stress[2][2]  charge  \n",
       "0           0.0     1.0  \n",
       "1           0.0    -1.0  "
      ]
     },
     "execution_count": 28,
     "metadata": {},
     "output_type": "execute_result"
    }
   ],
   "source": [
    "model_system = am.load('system_model', model)\n",
    "print(model_system)\n",
    "model_system.atoms_df()"
   ]
  },
  {
   "cell_type": "markdown",
   "metadata": {
    "deletable": true,
    "editable": true
   },
   "source": [
    "## 3. poscar style\n",
    "\n",
    "The POSCAR format is a simple tabular format used by VASP that captures box, element types and position.  It is limited in that it cannot contain extra per-atom properties."
   ]
  },
  {
   "cell_type": "markdown",
   "metadata": {
    "deletable": true,
    "editable": true
   },
   "source": [
    "### 3.1. dump('poscar')\n",
    "\n",
    "Parameters\n",
    "\n",
    "- **fname** (*str, optional*) Path to file where POSCAR content is saved to.  If not given, a str of the content will be returned.\n",
    "\n",
    "- **header** (*str, optional*) The comment line to place at the top of the file. Default value is ''.\n",
    "\n",
    "- **symbols** (*list of str, optional*) List of the element symbols that correspond to the atom types.  If not given, will use system.symbols if set, otherwise no element content will be included.\n",
    "\n",
    "- **style** (*str, optional*) The poscar coordinate style.  Default value is 'direct'.\n",
    "\n",
    "- **box_scale** (*float, optional*) A universal scaling constant applied to the box vectors. Default value is 1.0.\n",
    "\n",
    "- **xf** (*str, optional*) c-style format for printing the floating point numbers. Default value is '%.13e'.\n",
    "        \n",
    "Returns\n",
    "\n",
    "- **poscar_str** (*str*) String of the poscar object (only returned if fname is not given)."
   ]
  },
  {
   "cell_type": "code",
   "execution_count": 29,
   "metadata": {
    "collapsed": false,
    "deletable": true,
    "editable": true
   },
   "outputs": [
    {
     "name": "stdout",
     "output_type": "stream",
     "text": [
      "Test POSCAR content for CsCl\n",
      "1.0000000000000e+00\n",
      "3.2000000000000e+00 0.0000000000000e+00 0.0000000000000e+00\n",
      "0.0000000000000e+00 3.2000000000000e+00 0.0000000000000e+00\n",
      "0.0000000000000e+00 0.0000000000000e+00 3.2000000000000e+00\n",
      "Cs Cl\n",
      "1 1 \n",
      "direct\n",
      "0.0000000000000e+00 0.0000000000000e+00 0.0000000000000e+00\n",
      "5.0000000000000e-01 5.0000000000000e-01 5.0000000000000e-01\n"
     ]
    }
   ],
   "source": [
    "poscar = system.dump('poscar', header='Test POSCAR content for CsCl')\n",
    "print(poscar)"
   ]
  },
  {
   "cell_type": "markdown",
   "metadata": {
    "deletable": true,
    "editable": true
   },
   "source": [
    "### 3.2. load('poscar')\n",
    "\n",
    "Parameters\n",
    "\n",
    "- **poscar** (*str or file-like object*) The POSCAR content to read.\n",
    "\n",
    "- **prop** (*dict, optional*) Dictionary containing any extra per-atom properties to include.\n",
    "    \n",
    "Returns\n",
    "\n",
    "- **system** (*atomman.System*) The system object associated with the data model."
   ]
  },
  {
   "cell_type": "code",
   "execution_count": 30,
   "metadata": {
    "collapsed": false,
    "deletable": true,
    "editable": true
   },
   "outputs": [
    {
     "name": "stdout",
     "output_type": "stream",
     "text": [
      "avect =  [ 3.200,  0.000,  0.000]\n",
      "bvect =  [ 0.000,  3.200,  0.000]\n",
      "cvect =  [ 0.000,  0.000,  3.200]\n",
      "origin = [ 0.000,  0.000,  0.000]\n",
      "natoms = 2\n",
      "natypes = 2\n",
      "symbols = (u'Cs', u'Cl')\n",
      "pbc = [ True  True  True]\n",
      "     id |   atype |  pos[0] |  pos[1] |  pos[2]\n",
      "      0 |       1 |   0.000 |   0.000 |   0.000\n",
      "      1 |       2 |   1.600 |   1.600 |   1.600\n"
     ]
    },
    {
     "data": {
      "text/html": [
       "<div>\n",
       "<table border=\"1\" class=\"dataframe\">\n",
       "  <thead>\n",
       "    <tr style=\"text-align: right;\">\n",
       "      <th></th>\n",
       "      <th>atype</th>\n",
       "      <th>pos[0]</th>\n",
       "      <th>pos[1]</th>\n",
       "      <th>pos[2]</th>\n",
       "      <th>stress[0][0]</th>\n",
       "      <th>stress[0][1]</th>\n",
       "      <th>stress[0][2]</th>\n",
       "      <th>stress[1][0]</th>\n",
       "      <th>stress[1][1]</th>\n",
       "      <th>stress[1][2]</th>\n",
       "      <th>stress[2][0]</th>\n",
       "      <th>stress[2][1]</th>\n",
       "      <th>stress[2][2]</th>\n",
       "      <th>charge</th>\n",
       "    </tr>\n",
       "  </thead>\n",
       "  <tbody>\n",
       "    <tr>\n",
       "      <th>0</th>\n",
       "      <td>1</td>\n",
       "      <td>0.0</td>\n",
       "      <td>0.0</td>\n",
       "      <td>0.0</td>\n",
       "      <td>0.0</td>\n",
       "      <td>0.0</td>\n",
       "      <td>0.0</td>\n",
       "      <td>0.0</td>\n",
       "      <td>0.0</td>\n",
       "      <td>0.0</td>\n",
       "      <td>0.0</td>\n",
       "      <td>0.0</td>\n",
       "      <td>0.0</td>\n",
       "      <td>1.0</td>\n",
       "    </tr>\n",
       "    <tr>\n",
       "      <th>1</th>\n",
       "      <td>2</td>\n",
       "      <td>1.6</td>\n",
       "      <td>1.6</td>\n",
       "      <td>1.6</td>\n",
       "      <td>0.0</td>\n",
       "      <td>0.0</td>\n",
       "      <td>0.0</td>\n",
       "      <td>0.0</td>\n",
       "      <td>0.0</td>\n",
       "      <td>0.0</td>\n",
       "      <td>0.0</td>\n",
       "      <td>0.0</td>\n",
       "      <td>0.0</td>\n",
       "      <td>-1.0</td>\n",
       "    </tr>\n",
       "  </tbody>\n",
       "</table>\n",
       "</div>"
      ],
      "text/plain": [
       "   atype  pos[0]  pos[1]  pos[2]  stress[0][0]  stress[0][1]  stress[0][2]  \\\n",
       "0      1     0.0     0.0     0.0           0.0           0.0           0.0   \n",
       "1      2     1.6     1.6     1.6           0.0           0.0           0.0   \n",
       "\n",
       "   stress[1][0]  stress[1][1]  stress[1][2]  stress[2][0]  stress[2][1]  \\\n",
       "0           0.0           0.0           0.0           0.0           0.0   \n",
       "1           0.0           0.0           0.0           0.0           0.0   \n",
       "\n",
       "   stress[2][2]  charge  \n",
       "0           0.0     1.0  \n",
       "1           0.0    -1.0  "
      ]
     },
     "execution_count": 30,
     "metadata": {},
     "output_type": "execute_result"
    }
   ],
   "source": [
    "# Extract extra per-atom properties from currently loaded system\n",
    "prop = {}\n",
    "for p in system.atoms_prop():\n",
    "    if p != 'atype' and p != 'pos':\n",
    "        prop[p] = system.atoms_prop(key=p)\n",
    "\n",
    "# Load poscar and pass in prop dictionary\n",
    "poscar_system = am.load('poscar', poscar, prop=prop)\n",
    "print(poscar_system)\n",
    "poscar_system.atoms_df()"
   ]
  },
  {
   "cell_type": "markdown",
   "metadata": {
    "deletable": true,
    "editable": true
   },
   "source": [
    "## 4. cif style\n",
    "\n",
    "The Crystallographic Information File (CIF) format is a standard for representing crystallographic information and is used by different crystal databases.  Loading CIF files requires that the [diffpy.Structure](https://github.com/diffpy) package be installed (Not yet Python3 compatible as of Feb 7 2018)."
   ]
  },
  {
   "cell_type": "markdown",
   "metadata": {
    "deletable": true,
    "editable": true
   },
   "source": [
    "### 4.1. load('cif')\n",
    "\n",
    "Parameters\n",
    "\n",
    "- **cif** (*str or file-like object*) The cif content to read.\n",
    "        \n",
    "Returns\n",
    "\n",
    "- **system** (*atomman.System*) An atomman representation of a system."
   ]
  },
  {
   "cell_type": "code",
   "execution_count": 31,
   "metadata": {
    "collapsed": true,
    "deletable": true,
    "editable": true
   },
   "outputs": [],
   "source": [
    "# CIF file taken from Crystallography Open Database (COD): http://www.crystallography.net/\n",
    "cif = \"\"\"#------------------------------------------------------------------------------\n",
    "#$Date: 2016-02-13 21:28:24 +0200 (Sat, 13 Feb 2016) $\n",
    "#$Revision: 176429 $\n",
    "#$URL: svn://www.crystallography.net/cod/cif/1/54/12/1541266.cif $\n",
    "#------------------------------------------------------------------------------\n",
    "#\n",
    "# This file is available in the Crystallography Open Database (COD),\n",
    "# http://www.crystallography.net/\n",
    "#\n",
    "# All data on this site have been placed in the public domain by the\n",
    "# contributors.\n",
    "#\n",
    "data_1541266\n",
    "loop_\n",
    "_publ_author_name\n",
    "'Mueller, M. H.'\n",
    "_publ_section_title\n",
    ";\n",
    " The lattice parameter of tantalum\n",
    ";\n",
    "_journal_issue                   8\n",
    "_journal_name_full               'Scripta Metallurgica'\n",
    "_journal_page_first              693\n",
    "_journal_page_last               693\n",
    "_journal_paper_doi               10.1016/0036-9748(77)90141-7\n",
    "_journal_volume                  11\n",
    "_journal_year                    1977\n",
    "_chemical_formula_sum            Ta\n",
    "_chemical_name_systematic        Ta\n",
    "_space_group_IT_number           229\n",
    "_symmetry_space_group_name_Hall  '-I 4 2 3'\n",
    "_symmetry_space_group_name_H-M   'I m -3 m'\n",
    "_cell_angle_alpha                90\n",
    "_cell_angle_beta                 90\n",
    "_cell_angle_gamma                90\n",
    "_cell_formula_units_Z            2\n",
    "_cell_length_a                   3.30256\n",
    "_cell_length_b                   3.30256\n",
    "_cell_length_c                   3.30256\n",
    "_cell_volume                     36.021\n",
    "_citation_journal_id_ASTM        SCRMBU\n",
    "_cod_data_source_file            Mueller_SCRMBU_1977_100.cif\n",
    "_cod_data_source_block           Ta1\n",
    "_cod_original_cell_volume        36.0207\n",
    "_cod_original_formula_sum        Ta1\n",
    "_cod_database_code               1541266\n",
    "loop_\n",
    "_symmetry_equiv_pos_as_xyz\n",
    "x,y,z\n",
    "-y,x,z\n",
    "-x,-y,z\n",
    "y,-x,z\n",
    "x,-y,-z\n",
    "y,x,-z\n",
    "-x,y,-z\n",
    "-y,-x,-z\n",
    "z,x,y\n",
    "-x,z,y\n",
    "-z,-x,y\n",
    "x,-z,y\n",
    "z,-x,-y\n",
    "x,z,-y\n",
    "-z,x,-y\n",
    "-x,-z,-y\n",
    "y,z,x\n",
    "y,-z,-x\n",
    "z,y,-x\n",
    "-y,z,-x\n",
    "-z,-y,-x\n",
    "-y,-z,x\n",
    "z,-y,x\n",
    "-z,y,x\n",
    "-x,-y,-z\n",
    "y,-x,-z\n",
    "x,y,-z\n",
    "-y,x,-z\n",
    "-x,y,z\n",
    "-y,-x,z\n",
    "x,-y,z\n",
    "y,x,z\n",
    "-z,-x,-y\n",
    "x,-z,-y\n",
    "z,x,-y\n",
    "-x,z,-y\n",
    "-z,x,y\n",
    "-x,-z,y\n",
    "z,-x,y\n",
    "x,z,y\n",
    "-y,-z,-x\n",
    "-y,z,x\n",
    "-z,-y,x\n",
    "y,-z,x\n",
    "z,y,x\n",
    "y,z,-x\n",
    "-z,y,-x\n",
    "z,-y,-x\n",
    "x+1/2,y+1/2,z+1/2\n",
    "-y+1/2,x+1/2,z+1/2\n",
    "-x+1/2,-y+1/2,z+1/2\n",
    "y+1/2,-x+1/2,z+1/2\n",
    "x+1/2,-y+1/2,-z+1/2\n",
    "y+1/2,x+1/2,-z+1/2\n",
    "-x+1/2,y+1/2,-z+1/2\n",
    "-y+1/2,-x+1/2,-z+1/2\n",
    "z+1/2,x+1/2,y+1/2\n",
    "-x+1/2,z+1/2,y+1/2\n",
    "-z+1/2,-x+1/2,y+1/2\n",
    "x+1/2,-z+1/2,y+1/2\n",
    "z+1/2,-x+1/2,-y+1/2\n",
    "x+1/2,z+1/2,-y+1/2\n",
    "-z+1/2,x+1/2,-y+1/2\n",
    "-x+1/2,-z+1/2,-y+1/2\n",
    "y+1/2,z+1/2,x+1/2\n",
    "y+1/2,-z+1/2,-x+1/2\n",
    "z+1/2,y+1/2,-x+1/2\n",
    "-y+1/2,z+1/2,-x+1/2\n",
    "-z+1/2,-y+1/2,-x+1/2\n",
    "-y+1/2,-z+1/2,x+1/2\n",
    "z+1/2,-y+1/2,x+1/2\n",
    "-z+1/2,y+1/2,x+1/2\n",
    "-x+1/2,-y+1/2,-z+1/2\n",
    "y+1/2,-x+1/2,-z+1/2\n",
    "x+1/2,y+1/2,-z+1/2\n",
    "-y+1/2,x+1/2,-z+1/2\n",
    "-x+1/2,y+1/2,z+1/2\n",
    "-y+1/2,-x+1/2,z+1/2\n",
    "x+1/2,-y+1/2,z+1/2\n",
    "y+1/2,x+1/2,z+1/2\n",
    "-z+1/2,-x+1/2,-y+1/2\n",
    "x+1/2,-z+1/2,-y+1/2\n",
    "z+1/2,x+1/2,-y+1/2\n",
    "-x+1/2,z+1/2,-y+1/2\n",
    "-z+1/2,x+1/2,y+1/2\n",
    "-x+1/2,-z+1/2,y+1/2\n",
    "z+1/2,-x+1/2,y+1/2\n",
    "x+1/2,z+1/2,y+1/2\n",
    "-y+1/2,-z+1/2,-x+1/2\n",
    "-y+1/2,z+1/2,x+1/2\n",
    "-z+1/2,-y+1/2,x+1/2\n",
    "y+1/2,-z+1/2,x+1/2\n",
    "z+1/2,y+1/2,x+1/2\n",
    "y+1/2,z+1/2,-x+1/2\n",
    "-z+1/2,y+1/2,-x+1/2\n",
    "z+1/2,-y+1/2,-x+1/2\n",
    "loop_\n",
    "_atom_site_label\n",
    "_atom_site_type_symbol\n",
    "_atom_site_fract_x\n",
    "_atom_site_fract_y\n",
    "_atom_site_fract_z\n",
    "_atom_site_occupancy\n",
    "_atom_site_U_iso_or_equiv\n",
    "Ta1 Ta 0 0 0 1 0.0\n",
    "\"\"\""
   ]
  },
  {
   "cell_type": "code",
   "execution_count": 32,
   "metadata": {
    "collapsed": false,
    "deletable": true,
    "editable": true
   },
   "outputs": [
    {
     "name": "stdout",
     "output_type": "stream",
     "text": [
      "avect =  [ 3.303,  0.000,  0.000]\n",
      "bvect =  [ 0.000,  3.303,  0.000]\n",
      "cvect =  [ 0.000,  0.000,  3.303]\n",
      "origin = [ 0.000,  0.000,  0.000]\n",
      "natoms = 2\n",
      "natypes = 1\n",
      "symbols = ('Ta',)\n",
      "pbc = [ True  True  True]\n",
      "     id |   atype |  pos[0] |  pos[1] |  pos[2]\n",
      "      0 |       1 |   0.000 |   0.000 |   0.000\n",
      "      1 |       1 |   1.651 |   1.651 |   1.651\n",
      "   atype   pos[0]   pos[1]   pos[2]\n",
      "0      1  0.00000  0.00000  0.00000\n",
      "1      1  1.65128  1.65128  1.65128\n"
     ]
    }
   ],
   "source": [
    "try:\n",
    "    cif_system = am.load('cif', cif)\n",
    "except AssertionError as e:\n",
    "    print('AssertionError:', e)\n",
    "else:\n",
    "    print(cif_system)\n",
    "    print(cif_system.atoms_df())"
   ]
  },
  {
   "cell_type": "markdown",
   "metadata": {
    "deletable": true,
    "editable": true
   },
   "source": [
    "## 5. table style\n",
    "\n",
    "The table style returns the atomic information in a generic table format."
   ]
  },
  {
   "cell_type": "markdown",
   "metadata": {
    "deletable": true,
    "editable": true
   },
   "source": [
    "### 5.1 dump('table')\n",
    "\n",
    "Parameters\n",
    "\n",
    "- **fp** (*str or file-like object, optional*) File path or file-like object to write the table to.  If not given, then the table is returned as a string.\n",
    "\n",
    "- **prop_name** (*list, optional*) The Atoms properties to include.  Must be given if prop_info is not.\n",
    "\n",
    "- **table_name** (*list, optional*) The table column name(s) that correspond to each prop_name.  If not given, the table_name values will be based on the prop_name values.\n",
    "\n",
    "- **shape** (*list, optional*) The shape of each per-atom property.  If not given, will be inferred from the length of each table_name value.\n",
    "\n",
    "- **unit** (*list, optional*) Lists the units for each prop_name as stored in the table.  For a value of None, no conversion will be performed for that property.  For a value of 'scaled', the corresponding table values will be taken in box-scaled units.  If not given, all unit values will be set to None (i.e. no conversions).\n",
    "\n",
    "- **dtype** (*list, optional*) Allows for the data type of each property to be explicitly given. Values of None will infer the data type from the corresponding property values.  If not given, all values will be None.\n",
    "\n",
    "- **prop_info** (*list of dict, optional*) Structured form of property conversion parameters, in which each dictionary in the list corresponds to a single atoms property.  Each dictionary must have a 'prop_name' field, and can optionally have 'table_name', 'shape', 'unit', and 'dtype' fields.\n",
    "\n",
    "- **header** (*bool, optional*) Flag indicating whether to include the column names in the outputted table.  Default value is False (no column names).\n",
    "\n",
    "- **float_format** (*str, optional*) c-style formatting string for floating point values.  Default value is '%.13f'.\n",
    "\n",
    "- **return_prop_info** (*bool, optional*) Flag indicating if the filled-in prop_info is to be returned.  Having this allows for 1:1 load/dump conversions.  Default value is False (prop_info is not returned).\n",
    "\n",
    "Returns\n",
    "\n",
    "- (*str*) The generated data table.  Only returned if fp is None."
   ]
  },
  {
   "cell_type": "code",
   "execution_count": 37,
   "metadata": {
    "collapsed": false,
    "deletable": true,
    "editable": true
   },
   "outputs": [
    {
     "name": "stdout",
     "output_type": "stream",
     "text": [
      "atype pos[0] pos[1] pos[2] stress[0][0] stress[0][1] stress[0][2] stress[1][0] stress[1][1] stress[1][2] stress[2][0] stress[2][1] stress[2][2] charge\n",
      "1 0.00000 0.00000 0.00000 0.00000 0.00000 0.00000 0.00000 0.00000 0.00000 0.00000 0.00000 0.00000 1.00000\n",
      "2 1.60000 1.60000 1.60000 0.00000 0.00000 0.00000 0.00000 0.00000 0.00000 0.00000 0.00000 0.00000 -1.00000\n",
      "\n"
     ]
    }
   ],
   "source": [
    "table, prop_info = system.dump('table', float_format='%.5f', header=True, return_prop_info=True)\n",
    "print(table)"
   ]
  },
  {
   "cell_type": "markdown",
   "metadata": {
    "deletable": true,
    "editable": true
   },
   "source": [
    "The prop_info returned is json describing the conversion between atoms property and table representations of the data."
   ]
  },
  {
   "cell_type": "code",
   "execution_count": 38,
   "metadata": {
    "collapsed": false,
    "deletable": true,
    "editable": true
   },
   "outputs": [
    {
     "name": "stdout",
     "output_type": "stream",
     "text": [
      "{u'dtype': None, u'prop_name': u'atype', u'table_name': [u'atype'], u'shape': (), u'unit': None}\n",
      "{u'dtype': None, u'prop_name': u'pos', u'table_name': [u'pos[0]', u'pos[1]', u'pos[2]'], u'shape': (3L,), u'unit': None}\n",
      "{u'dtype': None, u'prop_name': u'stress', u'table_name': [u'stress[0][0]', u'stress[0][1]', u'stress[0][2]', u'stress[1][0]', u'stress[1][1]', u'stress[1][2]', u'stress[2][0]', u'stress[2][1]', u'stress[2][2]'], u'shape': (3L, 3L), u'unit': None}\n",
      "{u'dtype': None, u'prop_name': u'charge', u'table_name': [u'charge'], u'shape': (), u'unit': None}\n"
     ]
    }
   ],
   "source": [
    "# Show the generated prop_info conversion info\n",
    "for pinfo in prop_info:\n",
    "    print(pinfo)"
   ]
  },
  {
   "cell_type": "markdown",
   "metadata": {
    "deletable": true,
    "editable": true
   },
   "source": [
    "### 5.2 load('table')\n",
    "\n",
    "Parameters\n",
    "\n",
    "- **table** (*str or file-like object*) The table content, file path or file-like object containing the content to read.\n",
    "\n",
    "- **box** (*atomman.Box*) The atomic box to use when generating a System around the data.\n",
    "\n",
    "- **symbols** (*tuple, optional*) Allows the list of element symbols to be assigned during loading.\n",
    "\n",
    "- **system** (*atomman.System, optional*) The atomic system to load the values to.  If not given, a new system will be constructed.\n",
    "\n",
    "- **prop_name** (*list, optional*) The Atoms properties to generate.  Must be given if prop_info is not.\n",
    "\n",
    "- **table_name** (*list, optional*) The table column name(s) that correspond to each prop_name.  If not given, the table_name values will be based on the prop_name values.\n",
    "\n",
    "- **shape** (*list, optional*) The shape of each per-atom property.  If not given, will be inferred from the length of each table_name value.\n",
    "\n",
    "- **unit** (*list, optional*) Lists the units for each prop_name as stored in the table.  For a value of None, no conversion will be performed for that property.  For a value of 'scaled', the corresponding table values will be taken in box-scaled units.  If not given, all unit values will be set to None (i.e. no conversions).\n",
    "\n",
    "- **dtype** (*list, optional*) Allows for the data type of each property to be explicitly given.  Values of None will infer the data type from the corresponding property values.  If not given, all values will be None.\n",
    "\n",
    "- **prop_info** (*list of dict, optional*) Structured form of property conversion parameters, in which each dictionary in the list corresponds to a single atoms property.  Each dictionary must have a 'prop_name' field, and can optionally have 'table_name', 'shape', 'unit', and 'dtype' fields.\n",
    "\n",
    "- **skiprows** (*int*) Number of rows to skip before reading the data.\n",
    "\n",
    "- **nrows** (*int*) Number of rows of data to read.\n",
    "\n",
    "Returns\n",
    "\n",
    "- (*atomman.System*) The generated system."
   ]
  },
  {
   "cell_type": "code",
   "execution_count": 39,
   "metadata": {
    "collapsed": false,
    "deletable": true,
    "editable": true
   },
   "outputs": [
    {
     "name": "stdout",
     "output_type": "stream",
     "text": [
      "avect =  [ 3.200,  0.000,  0.000]\n",
      "bvect =  [ 0.000,  3.200,  0.000]\n",
      "cvect =  [ 0.000,  0.000,  3.200]\n",
      "origin = [ 0.000,  0.000,  0.000]\n",
      "natoms = 2\n",
      "natypes = 2\n",
      "symbols = (u'Cs', u'Cl')\n",
      "pbc = [ True  True  True]\n",
      "     id |   atype |  pos[0] |  pos[1] |  pos[2]\n",
      "      0 |       1 |   0.000 |   0.000 |   0.000\n",
      "      1 |       2 |   1.600 |   1.600 |   1.600\n"
     ]
    },
    {
     "data": {
      "text/html": [
       "<div>\n",
       "<table border=\"1\" class=\"dataframe\">\n",
       "  <thead>\n",
       "    <tr style=\"text-align: right;\">\n",
       "      <th></th>\n",
       "      <th>atype</th>\n",
       "      <th>pos[0]</th>\n",
       "      <th>pos[1]</th>\n",
       "      <th>pos[2]</th>\n",
       "      <th>stress[0][0]</th>\n",
       "      <th>stress[0][1]</th>\n",
       "      <th>stress[0][2]</th>\n",
       "      <th>stress[1][0]</th>\n",
       "      <th>stress[1][1]</th>\n",
       "      <th>stress[1][2]</th>\n",
       "      <th>stress[2][0]</th>\n",
       "      <th>stress[2][1]</th>\n",
       "      <th>stress[2][2]</th>\n",
       "      <th>charge</th>\n",
       "    </tr>\n",
       "  </thead>\n",
       "  <tbody>\n",
       "    <tr>\n",
       "      <th>0</th>\n",
       "      <td>1</td>\n",
       "      <td>0.0</td>\n",
       "      <td>0.0</td>\n",
       "      <td>0.0</td>\n",
       "      <td>0.0</td>\n",
       "      <td>0.0</td>\n",
       "      <td>0.0</td>\n",
       "      <td>0.0</td>\n",
       "      <td>0.0</td>\n",
       "      <td>0.0</td>\n",
       "      <td>0.0</td>\n",
       "      <td>0.0</td>\n",
       "      <td>0.0</td>\n",
       "      <td>1.0</td>\n",
       "    </tr>\n",
       "    <tr>\n",
       "      <th>1</th>\n",
       "      <td>2</td>\n",
       "      <td>1.6</td>\n",
       "      <td>1.6</td>\n",
       "      <td>1.6</td>\n",
       "      <td>0.0</td>\n",
       "      <td>0.0</td>\n",
       "      <td>0.0</td>\n",
       "      <td>0.0</td>\n",
       "      <td>0.0</td>\n",
       "      <td>0.0</td>\n",
       "      <td>0.0</td>\n",
       "      <td>0.0</td>\n",
       "      <td>0.0</td>\n",
       "      <td>-1.0</td>\n",
       "    </tr>\n",
       "  </tbody>\n",
       "</table>\n",
       "</div>"
      ],
      "text/plain": [
       "   atype  pos[0]  pos[1]  pos[2]  stress[0][0]  stress[0][1]  stress[0][2]  \\\n",
       "0      1     0.0     0.0     0.0           0.0           0.0           0.0   \n",
       "1      2     1.6     1.6     1.6           0.0           0.0           0.0   \n",
       "\n",
       "   stress[1][0]  stress[1][1]  stress[1][2]  stress[2][0]  stress[2][1]  \\\n",
       "0           0.0           0.0           0.0           0.0           0.0   \n",
       "1           0.0           0.0           0.0           0.0           0.0   \n",
       "\n",
       "   stress[2][2]  charge  \n",
       "0           0.0     1.0  \n",
       "1           0.0    -1.0  "
      ]
     },
     "execution_count": 39,
     "metadata": {},
     "output_type": "execute_result"
    }
   ],
   "source": [
    "# Pass table with box and prop_info\n",
    "table_system = am.load('table', table, box=system.box, symbols=['Cs', 'Cl'],\n",
    "                       skiprows=1, prop_info=prop_info)\n",
    "\n",
    "print(table_system)\n",
    "table_system.atoms_df()"
   ]
  },
  {
   "cell_type": "code",
   "execution_count": 40,
   "metadata": {
    "collapsed": false,
    "deletable": true,
    "editable": true
   },
   "outputs": [
    {
     "name": "stdout",
     "output_type": "stream",
     "text": [
      "[[0. 0. 0.]\n",
      " [0. 0. 0.]\n",
      " [0. 0. 0.]]\n"
     ]
    }
   ],
   "source": [
    "# Using the generated prop_info from dump makes the resulting properties have the right shape.\n",
    "print(table_system.atoms.stress[0])"
   ]
  },
  {
   "cell_type": "markdown",
   "metadata": {
    "deletable": true,
    "editable": true
   },
   "source": [
    "## 6. atom_data style\n",
    "\n",
    "The atom_data format is the atomic data files used by LAMMPS for importing initial configurations. "
   ]
  },
  {
   "cell_type": "markdown",
   "metadata": {
    "deletable": true,
    "editable": true
   },
   "source": [
    "### 6.1. dump('atom_data')\n",
    "\n",
    "Parameters\n",
    "        \n",
    "- **f** (*str or file-like object, optional*) File path or file-like object to write the content to.  If not given, then the content is returned as a str.\n",
    "        \n",
    "- **atom_style** (*str, optional*) The LAMMPS atom_style option associated with the data file.  Default value is 'atomic'.\n",
    "        \n",
    "- **units** (*str, optional*) The LAMMPS units option associated with the data file. Default value is 'metal'.\n",
    "        \n",
    "- **float_format** (*str, optional*) c-style formatting string for floating point values.  Default value is '%.13f'.\n",
    "\n",
    "- **return_info** (*bool, optional*) Indicates if the LAMMPS command lines associated with reading in the file are to be returned as a str.  Default value is True.\n",
    "      \n",
    "Returns\n",
    "\n",
    "- **content** (*str*) The data file contents (returned if f is not given).\n",
    "\n",
    "- **read_info** (*str*) The LAMMPS input command lines to read the created data file in (returned if return_info is True)."
   ]
  },
  {
   "cell_type": "code",
   "execution_count": 41,
   "metadata": {
    "collapsed": false,
    "deletable": true,
    "editable": true
   },
   "outputs": [
    {
     "name": "stdout",
     "output_type": "stream",
     "text": [
      "\n",
      "2 atoms\n",
      "2 atom types\n",
      "0.0000000000000 3.2000000000000 xlo xhi\n",
      "0.0000000000000 3.2000000000000 ylo yhi\n",
      "0.0000000000000 3.2000000000000 zlo zhi\n",
      "\n",
      "Atoms\n",
      "\n",
      "1 1 0.0000000000000 0.0000000000000 0.0000000000000\n",
      "2 2 1.6000000000000 1.6000000000000 1.6000000000000\n",
      "\n"
     ]
    }
   ],
   "source": [
    "data, read_info = system.dump('atom_data')\n",
    "print(data)"
   ]
  },
  {
   "cell_type": "code",
   "execution_count": 42,
   "metadata": {
    "collapsed": false,
    "deletable": true,
    "editable": true
   },
   "outputs": [
    {
     "name": "stdout",
     "output_type": "stream",
     "text": [
      "# Script and atom data file prepared by atomman package\n",
      "\n",
      "units metal\n",
      "atom_style atomic\n",
      "boundary p p p \n",
      "\n"
     ]
    }
   ],
   "source": [
    "# read_info contains the LAMMPS command lines for reading the data content\n",
    "print(read_info)"
   ]
  },
  {
   "cell_type": "markdown",
   "metadata": {
    "deletable": true,
    "editable": true
   },
   "source": [
    "### 6.2. load('atom_data')\n",
    "\n",
    "Parameters\n",
    "\n",
    "- **data** (*str or file-like object*) The atom data content to read.  Can be str content, path name, or open file-like object.\n",
    "\n",
    "- **pbc** (*list of bool*) Three boolean values indicating which System directions are periodic.  Default value is (True, True, True).\n",
    "    \n",
    "- **symbols** (*tuple, optional*) Allows the list of element symbols to be assigned during loading.        \n",
    "- **atom_style** (*str, optional*) The LAMMPS atom_style option associated with the data file.  Default value is 'atomic'.\n",
    "        \n",
    "- **units** (*str, optional*) The LAMMPS units option associated with the data file. Default value is 'metal'.\n",
    "      \n",
    "Returns\n",
    "\n",
    "- (*atomman.System*) The corresponding system.  Note all property values will be automatically converted to atomman.unitconvert's set working units."
   ]
  },
  {
   "cell_type": "code",
   "execution_count": 15,
   "metadata": {
    "collapsed": false,
    "deletable": true,
    "editable": true
   },
   "outputs": [
    {
     "name": "stdout",
     "output_type": "stream",
     "text": [
      "avect =  [ 3.200,  0.000,  0.000]\n",
      "bvect =  [ 0.000,  3.200,  0.000]\n",
      "cvect =  [ 0.000,  0.000,  3.200]\n",
      "origin = [ 0.000,  0.000,  0.000]\n",
      "natoms = 2\n",
      "natypes = 2\n",
      "symbols = (u'Cs', u'Cl')\n",
      "pbc = [ True  True  True]\n",
      "     id |   atype |  pos[0] |  pos[1] |  pos[2]\n",
      "      0 |       1 |   0.000 |   0.000 |   0.000\n",
      "      1 |       2 |   1.600 |   1.600 |   1.600\n"
     ]
    },
    {
     "data": {
      "text/html": [
       "<div>\n",
       "<table border=\"1\" class=\"dataframe\">\n",
       "  <thead>\n",
       "    <tr style=\"text-align: right;\">\n",
       "      <th></th>\n",
       "      <th>atype</th>\n",
       "      <th>pos[0]</th>\n",
       "      <th>pos[1]</th>\n",
       "      <th>pos[2]</th>\n",
       "    </tr>\n",
       "  </thead>\n",
       "  <tbody>\n",
       "    <tr>\n",
       "      <th>0</th>\n",
       "      <td>1</td>\n",
       "      <td>0.0</td>\n",
       "      <td>0.0</td>\n",
       "      <td>0.0</td>\n",
       "    </tr>\n",
       "    <tr>\n",
       "      <th>1</th>\n",
       "      <td>2</td>\n",
       "      <td>1.6</td>\n",
       "      <td>1.6</td>\n",
       "      <td>1.6</td>\n",
       "    </tr>\n",
       "  </tbody>\n",
       "</table>\n",
       "</div>"
      ],
      "text/plain": [
       "   atype  pos[0]  pos[1]  pos[2]\n",
       "0      1     0.0     0.0     0.0\n",
       "1      2     1.6     1.6     1.6"
      ]
     },
     "execution_count": 15,
     "metadata": {},
     "output_type": "execute_result"
    }
   ],
   "source": [
    "# Read in data file\n",
    "data_system = am.load('atom_data', data, symbols=['Cs', 'Cl'])\n",
    "\n",
    "# Note that only atype and pos are retrieved as that is all the data file format held\n",
    "print(data_system)\n",
    "data_system.atoms_df()"
   ]
  },
  {
   "cell_type": "markdown",
   "metadata": {
    "deletable": true,
    "editable": true
   },
   "source": [
    "## 7. atom_dump style\n",
    "\n",
    "The atom_dump format is the LAMMPS dump files containing atomic coordinates and other per-atom properties."
   ]
  },
  {
   "cell_type": "markdown",
   "metadata": {
    "deletable": true,
    "editable": true
   },
   "source": [
    "### 7.1 dump('atom_dump')\n",
    "\n",
    "Parameters\n",
    "\n",
    "- **f** (*str or file-like object, optional*) File path or file-like object to write the table to.  If not given, then the table is returned as a string.\n",
    "\n",
    "- **lammps_units** (*str, optional*) The LAMMPS units option associated with the table values.  This is used for the box dimensions and default units for standard dump properties (not compute/fix definitions). \n",
    "\n",
    "- **scale** (*bool, optional*) Flag indicating if atom positions are to be scaled relative to the box (True) or given in absolute Cartesian values (False, default).\n",
    "\n",
    "- **prop_name** (*list, optional*) The Atoms properties to include.  If neither prop_name or prop_info are given, all system properties will be included.\n",
    "\n",
    "- **table_name** (*list, optional*) The dump table column name(s) that correspond to each prop_name.  If not given, the table_name values will be based on the prop_name and shape values.\n",
    "\n",
    "- **shape** (*list, optional*) The shape of each per-atom property.  If not given, will be inferred from the length of each table_name value.\n",
    "\n",
    "- **unit** (*list, optional*) Lists the units for each prop_name as stored in the table.  For a value of None, no conversion will be performed for that property.  For a value of 'scaled', the corresponding table values will be taken in box-scaled units.  If not given, all unit values will be set to None (i.e. no conversions).\n",
    "\n",
    "- **dtype** (*list, optional*) Allows for the data type of each property to be explicitly given. Values of None will infer the data type from the corresponding property values.  If not given, all values will be None.\n",
    "\n",
    "- **prop_info** (*list of dict, optional*) Structured form of property conversion parameters, in which each dictionary in the list corresponds to a single atoms property.  Each dictionary must have a 'prop_name' field, and can optionally have 'table_name', 'shape', 'unit', and 'dtype' fields.\n",
    "\n",
    "- **header** (*bool, optional*) Flag indicating whether to include the column names in the outputted table.  Default value is False (no column names).\n",
    "\n",
    "- **float_format** (*str, optional*) c-style formatting string for floating point values.  Default value is '%.13f'.\n",
    "\n",
    "- **return_prop_info** (*bool, optional*) Flag indicating if the filled-in prop_info is to be returned.  Having this allows for 1:1 load/dump conversions.  Default value is False (prop_info is not returned).\n",
    "\n",
    "Returns\n",
    "\n",
    "- **content** (*str*) The generated atom_data content.  Only returned if f is None.\n",
    "\n",
    "- **prop_info** (*list of dict*) The full prop_info detailing the property-table conversion."
   ]
  },
  {
   "cell_type": "code",
   "execution_count": 43,
   "metadata": {
    "collapsed": false,
    "deletable": true,
    "editable": true
   },
   "outputs": [
    {
     "name": "stdout",
     "output_type": "stream",
     "text": [
      "ITEM: TIMESTEP\n",
      "0\n",
      "ITEM: NUMBER OF ATOMS\n",
      "2\n",
      "ITEM: BOX BOUNDS pp pp pp\n",
      "0.0000000000000 3.2000000000000\n",
      "0.0000000000000 3.2000000000000\n",
      "0.0000000000000 3.2000000000000\n",
      "ITEM: ATOMS id type x y z stress[0][0] stress[0][1] stress[0][2] stress[1][0] stress[1][1] stress[1][2] stress[2][0] stress[2][1] stress[2][2] q\n",
      "1 1 0.0000000000000 0.0000000000000 0.0000000000000 0.0000000000000 0.0000000000000 0.0000000000000 0.0000000000000 0.0000000000000 0.0000000000000 0.0000000000000 0.0000000000000 0.0000000000000 1.0000000000000\n",
      "2 2 1.6000000000000 1.6000000000000 1.6000000000000 0.0000000000000 0.0000000000000 0.0000000000000 0.0000000000000 0.0000000000000 0.0000000000000 0.0000000000000 0.0000000000000 0.0000000000000 -1.0000000000000\n",
      "\n"
     ]
    }
   ],
   "source": [
    "atom_dump, prop_info = system.dump('atom_dump', return_prop_info=True)\n",
    "\n",
    "print(atom_dump)"
   ]
  },
  {
   "cell_type": "code",
   "execution_count": 44,
   "metadata": {
    "collapsed": false,
    "deletable": true,
    "editable": true
   },
   "outputs": [
    {
     "name": "stdout",
     "output_type": "stream",
     "text": [
      "{u'dtype': None, u'prop_name': u'a_id', u'table_name': [u'id'], u'shape': (), u'unit': None}\n",
      "{u'dtype': None, u'prop_name': u'atype', u'table_name': [u'type'], u'shape': (), u'unit': None}\n",
      "{u'dtype': None, u'prop_name': u'pos', u'table_name': [u'x', u'y', u'z'], u'shape': (3L,), u'unit': u'angstrom'}\n",
      "{u'dtype': None, u'prop_name': u'stress', u'table_name': [u'stress[0][0]', u'stress[0][1]', u'stress[0][2]', u'stress[1][0]', u'stress[1][1]', u'stress[1][2]', u'stress[2][0]', u'stress[2][1]', u'stress[2][2]'], u'shape': (3L, 3L), u'unit': None}\n",
      "{u'dtype': None, u'prop_name': u'charge', u'table_name': [u'q'], u'shape': (), u'unit': u'e'}\n"
     ]
    }
   ],
   "source": [
    "# Show the generated prop_info conversion info\n",
    "for pinfo in prop_info:\n",
    "    print(pinfo)"
   ]
  },
  {
   "cell_type": "markdown",
   "metadata": {
    "deletable": true,
    "editable": true
   },
   "source": [
    "### 7.2 load('atom_dump')\n",
    "\n",
    "Parameters\n",
    "\n",
    "- **data** (*str or file-like object*) The content, file path or file-like object containing the content to read.\n",
    "\n",
    "- **symbols** (*tuple, optional*) Allows the list of element symbols to be assigned during loading.\n",
    "\n",
    "- **lammps_units** (*str*) The LAMMPS units option associated with the parameters.  Default value is 'metal'.\n",
    "\n",
    "- **prop_name** (*list, optional*) The Atoms properties to generate.\n",
    "         \n",
    "- **table_name** (*list, optional*) The table column name(s) that correspond to each prop_name.  If prop_name, table_name and prop_info are not given, prop_name and table_name will be read in from data.\n",
    "        \n",
    "- **shape** (*list, optional*) The shape of each per-atom property.  If not given, will be taken from standard LAMMPS parameter names, or left at () for direct property-table conversion.\n",
    "        \n",
    "- **unit** (*list, optional*) Lists the units for each prop_name as stored in the table.  For a value of None, no conversion will be performed for that property.  For a value of 'scaled', the corresponding table values will be taken in box-scaled units.  If not given, all unit values will be set to None (i.e. no conversions).\n",
    "        \n",
    "- **dtype** (*list, optional*) Allows for the data type of each property to be explicitly given.  Values of None will infer the data type from the corresponding property values.  If not given, all values will be None.\n",
    "        \n",
    "- **prop_info** (*list of dict, optional*) Structured form of property conversion parameters, in which each dictionary in the list corresponds to a single atoms property.  Each dictionary must have a 'prop_name' field, and can optionally have 'table_name', 'shape', 'unit', and 'dtype' fields.\n",
    "        \n",
    "- **return_prop_info** (*bool, optional*) Flag indicating if the full prop_info is to be returned.  Default value is False.\n",
    "        \n",
    "Returns\n",
    "\n",
    "- **system** (*atomman.System*) The generated system.\n",
    "\n",
    "- **prop_info** (*list of dict*) The full prop_info detailing the property-table conversion. Returned if return_prop_info is True."
   ]
  },
  {
   "cell_type": "code",
   "execution_count": 45,
   "metadata": {
    "collapsed": false,
    "deletable": true,
    "editable": true
   },
   "outputs": [
    {
     "name": "stdout",
     "output_type": "stream",
     "text": [
      "avect =  [ 3.200,  0.000,  0.000]\n",
      "bvect =  [ 0.000,  3.200,  0.000]\n",
      "cvect =  [ 0.000,  0.000,  3.200]\n",
      "origin = [ 0.000,  0.000,  0.000]\n",
      "natoms = 2\n",
      "natypes = 2\n",
      "symbols = (u'Cs', u'Cl')\n",
      "pbc = [ True  True  True]\n",
      "     id |   atype |  pos[0] |  pos[1] |  pos[2]\n",
      "      0 |       1 |   0.000 |   0.000 |   0.000\n",
      "      1 |       2 |   1.600 |   1.600 |   1.600\n"
     ]
    },
    {
     "data": {
      "text/html": [
       "<div>\n",
       "<table border=\"1\" class=\"dataframe\">\n",
       "  <thead>\n",
       "    <tr style=\"text-align: right;\">\n",
       "      <th></th>\n",
       "      <th>atype</th>\n",
       "      <th>pos[0]</th>\n",
       "      <th>pos[1]</th>\n",
       "      <th>pos[2]</th>\n",
       "      <th>stress[0][0]</th>\n",
       "      <th>stress[0][1]</th>\n",
       "      <th>stress[0][2]</th>\n",
       "      <th>stress[1][0]</th>\n",
       "      <th>stress[1][1]</th>\n",
       "      <th>stress[1][2]</th>\n",
       "      <th>stress[2][0]</th>\n",
       "      <th>stress[2][1]</th>\n",
       "      <th>stress[2][2]</th>\n",
       "      <th>charge</th>\n",
       "    </tr>\n",
       "  </thead>\n",
       "  <tbody>\n",
       "    <tr>\n",
       "      <th>0</th>\n",
       "      <td>1</td>\n",
       "      <td>0.0</td>\n",
       "      <td>0.0</td>\n",
       "      <td>0.0</td>\n",
       "      <td>0.0</td>\n",
       "      <td>0.0</td>\n",
       "      <td>0.0</td>\n",
       "      <td>0.0</td>\n",
       "      <td>0.0</td>\n",
       "      <td>0.0</td>\n",
       "      <td>0.0</td>\n",
       "      <td>0.0</td>\n",
       "      <td>0.0</td>\n",
       "      <td>1.0</td>\n",
       "    </tr>\n",
       "    <tr>\n",
       "      <th>1</th>\n",
       "      <td>2</td>\n",
       "      <td>1.6</td>\n",
       "      <td>1.6</td>\n",
       "      <td>1.6</td>\n",
       "      <td>0.0</td>\n",
       "      <td>0.0</td>\n",
       "      <td>0.0</td>\n",
       "      <td>0.0</td>\n",
       "      <td>0.0</td>\n",
       "      <td>0.0</td>\n",
       "      <td>0.0</td>\n",
       "      <td>0.0</td>\n",
       "      <td>0.0</td>\n",
       "      <td>-1.0</td>\n",
       "    </tr>\n",
       "  </tbody>\n",
       "</table>\n",
       "</div>"
      ],
      "text/plain": [
       "   atype  pos[0]  pos[1]  pos[2]  stress[0][0]  stress[0][1]  stress[0][2]  \\\n",
       "0      1     0.0     0.0     0.0           0.0           0.0           0.0   \n",
       "1      2     1.6     1.6     1.6           0.0           0.0           0.0   \n",
       "\n",
       "   stress[1][0]  stress[1][1]  stress[1][2]  stress[2][0]  stress[2][1]  \\\n",
       "0           0.0           0.0           0.0           0.0           0.0   \n",
       "1           0.0           0.0           0.0           0.0           0.0   \n",
       "\n",
       "   stress[2][2]  charge  \n",
       "0           0.0     1.0  \n",
       "1           0.0    -1.0  "
      ]
     },
     "execution_count": 45,
     "metadata": {},
     "output_type": "execute_result"
    }
   ],
   "source": [
    "# Read in dump file\n",
    "atom_dump_system = am.load('atom_dump', atom_dump, symbols=['Cs', 'Cl'])\n",
    "\n",
    "print(atom_dump_system)\n",
    "atom_dump_system.atoms_df()"
   ]
  },
  {
   "cell_type": "markdown",
   "metadata": {
    "deletable": true,
    "editable": true
   },
   "source": [
    "## 8. ase_Atoms style\n",
    "\n",
    "There is also built-in converters between the alternate Python atomistic package of [ase](https://wiki.fysik.dtu.dk/ase/).  Requires that ase be installed."
   ]
  },
  {
   "cell_type": "code",
   "execution_count": 46,
   "metadata": {
    "collapsed": true,
    "deletable": true,
    "editable": true
   },
   "outputs": [],
   "source": [
    "try:\n",
    "    import ase\n",
    "    has_ase = True\n",
    "except:\n",
    "    print('ase not installed')\n",
    "    has_ase = False"
   ]
  },
  {
   "cell_type": "markdown",
   "metadata": {
    "deletable": true,
    "editable": true
   },
   "source": [
    "### 8.1. dump('ase_Atoms')\n",
    "\n",
    "Parameters\n",
    "\n",
    "- **symbols** (*list*) A list of unique elemental symbols to pair with system's atypes.  If not given, will try to use system.symbols.\n",
    "    \n",
    "Returns\n",
    "\n",
    "- **aseatoms** (*ase.Atoms*) An ase representation of a collection of atoms.\n",
    "\n",
    "- **prop** (*dict*) Dictionary containing any extra per-atom properties to include."
   ]
  },
  {
   "cell_type": "code",
   "execution_count": 47,
   "metadata": {
    "collapsed": false,
    "deletable": true,
    "editable": true
   },
   "outputs": [
    {
     "name": "stdout",
     "output_type": "stream",
     "text": [
      "Atoms(symbols='CsCl', pbc=True, cell=[3.2, 3.2, 3.2])\n",
      "{u'stress': array([[[0., 0., 0.],\n",
      "        [0., 0., 0.],\n",
      "        [0., 0., 0.]],\n",
      "\n",
      "       [[0., 0., 0.],\n",
      "        [0., 0., 0.],\n",
      "        [0., 0., 0.]]]), u'charge': array([ 1., -1.])}\n"
     ]
    }
   ],
   "source": [
    "if has_ase:\n",
    "    aseatoms, prop = system.dump('ase_Atoms', return_prop=True)\n",
    "else:\n",
    "    print('ase not installed')\n",
    "    aseatoms, prop = None\n",
    "print(aseatoms)\n",
    "print(prop)"
   ]
  },
  {
   "cell_type": "markdown",
   "metadata": {
    "deletable": true,
    "editable": true
   },
   "source": [
    "### 8.2. load('ase_Atoms')\n",
    "\n",
    "Parameters\n",
    "\n",
    "- **aseatoms** (*ase.Atoms*) An ase representation of a collection of atoms.\n",
    "\n",
    "- **prop** (*dict, optional*) Dictionary containing any extra per-atom properties to include.\n",
    "        \n",
    "Returns\n",
    "\n",
    "- **system** (*atomman.System*) A atomman representation of a system.\n"
   ]
  },
  {
   "cell_type": "code",
   "execution_count": 48,
   "metadata": {
    "collapsed": false,
    "deletable": true,
    "editable": true
   },
   "outputs": [
    {
     "name": "stdout",
     "output_type": "stream",
     "text": [
      "avect =  [ 3.200,  0.000,  0.000]\n",
      "bvect =  [ 0.000,  3.200,  0.000]\n",
      "cvect =  [ 0.000,  0.000,  3.200]\n",
      "origin = [ 0.000,  0.000,  0.000]\n",
      "natoms = 2\n",
      "natypes = 2\n",
      "symbols = ('Cl', 'Cs')\n",
      "pbc = [ True  True  True]\n",
      "     id |   atype |  pos[0] |  pos[1] |  pos[2]\n",
      "      0 |       2 |   0.000 |   0.000 |   0.000\n",
      "      1 |       1 |   1.600 |   1.600 |   1.600\n"
     ]
    },
    {
     "data": {
      "text/html": [
       "<div>\n",
       "<table border=\"1\" class=\"dataframe\">\n",
       "  <thead>\n",
       "    <tr style=\"text-align: right;\">\n",
       "      <th></th>\n",
       "      <th>atype</th>\n",
       "      <th>pos[0]</th>\n",
       "      <th>pos[1]</th>\n",
       "      <th>pos[2]</th>\n",
       "      <th>stress[0][0]</th>\n",
       "      <th>stress[0][1]</th>\n",
       "      <th>stress[0][2]</th>\n",
       "      <th>stress[1][0]</th>\n",
       "      <th>stress[1][1]</th>\n",
       "      <th>stress[1][2]</th>\n",
       "      <th>stress[2][0]</th>\n",
       "      <th>stress[2][1]</th>\n",
       "      <th>stress[2][2]</th>\n",
       "      <th>charge</th>\n",
       "    </tr>\n",
       "  </thead>\n",
       "  <tbody>\n",
       "    <tr>\n",
       "      <th>0</th>\n",
       "      <td>2</td>\n",
       "      <td>0.0</td>\n",
       "      <td>0.0</td>\n",
       "      <td>0.0</td>\n",
       "      <td>0.0</td>\n",
       "      <td>0.0</td>\n",
       "      <td>0.0</td>\n",
       "      <td>0.0</td>\n",
       "      <td>0.0</td>\n",
       "      <td>0.0</td>\n",
       "      <td>0.0</td>\n",
       "      <td>0.0</td>\n",
       "      <td>0.0</td>\n",
       "      <td>1.0</td>\n",
       "    </tr>\n",
       "    <tr>\n",
       "      <th>1</th>\n",
       "      <td>1</td>\n",
       "      <td>1.6</td>\n",
       "      <td>1.6</td>\n",
       "      <td>1.6</td>\n",
       "      <td>0.0</td>\n",
       "      <td>0.0</td>\n",
       "      <td>0.0</td>\n",
       "      <td>0.0</td>\n",
       "      <td>0.0</td>\n",
       "      <td>0.0</td>\n",
       "      <td>0.0</td>\n",
       "      <td>0.0</td>\n",
       "      <td>0.0</td>\n",
       "      <td>-1.0</td>\n",
       "    </tr>\n",
       "  </tbody>\n",
       "</table>\n",
       "</div>"
      ],
      "text/plain": [
       "   atype  pos[0]  pos[1]  pos[2]  stress[0][0]  stress[0][1]  stress[0][2]  \\\n",
       "0      2     0.0     0.0     0.0           0.0           0.0           0.0   \n",
       "1      1     1.6     1.6     1.6           0.0           0.0           0.0   \n",
       "\n",
       "   stress[1][0]  stress[1][1]  stress[1][2]  stress[2][0]  stress[2][1]  \\\n",
       "0           0.0           0.0           0.0           0.0           0.0   \n",
       "1           0.0           0.0           0.0           0.0           0.0   \n",
       "\n",
       "   stress[2][2]  charge  \n",
       "0           0.0     1.0  \n",
       "1           0.0    -1.0  "
      ]
     },
     "execution_count": 48,
     "metadata": {},
     "output_type": "execute_result"
    }
   ],
   "source": [
    "if has_ase:\n",
    "    system = am.load('ase_Atoms', aseatoms, prop=prop)\n",
    "\n",
    "else:\n",
    "    print('ase not installed (elements and system unchanged from above)')\n",
    "    \n",
    "print(system)\n",
    "system.atoms_df()"
   ]
  },
  {
   "cell_type": "markdown",
   "metadata": {
    "deletable": true,
    "editable": true
   },
   "source": [
    "## 9. pymatgen_Structure style\n",
    "\n",
    "There is also built-in converters between the alternate Python atomistic package of [pymatgen](http://pymatgen.org/).  Requires that pymatgen be installed. (No longer supports Python 2)."
   ]
  },
  {
   "cell_type": "code",
   "execution_count": 49,
   "metadata": {
    "collapsed": false,
    "deletable": true,
    "editable": true
   },
   "outputs": [
    {
     "name": "stdout",
     "output_type": "stream",
     "text": [
      "pymatgen not installed\n"
     ]
    }
   ],
   "source": [
    "try:\n",
    "    import pymatgen as pmg\n",
    "    has_pmg = True\n",
    "except:\n",
    "    print('pymatgen not installed')\n",
    "    has_pmg = False"
   ]
  },
  {
   "cell_type": "markdown",
   "metadata": {
    "deletable": true,
    "editable": true
   },
   "source": [
    "### 9.1. dump('pymatgen_Structure')\n",
    "\n",
    "Parameters\n",
    "\n",
    "- **symbols** (*list*) A list of unique elemental symbols to pair with system's atypes.  Will try to use system.symbols if not given.\n",
    "    \n",
    "Returns\n",
    "\n",
    "- **structure** (*pymatgen.Structure*) A pymatgen representation of a structure."
   ]
  },
  {
   "cell_type": "code",
   "execution_count": 50,
   "metadata": {
    "collapsed": false,
    "deletable": true,
    "editable": true
   },
   "outputs": [
    {
     "name": "stdout",
     "output_type": "stream",
     "text": [
      "pymatgen not installed\n",
      "None\n"
     ]
    }
   ],
   "source": [
    "if has_pmg:\n",
    "    structure = system.dump('pymatgen_Structure')\n",
    "else:\n",
    "    print('pymatgen not installed')\n",
    "    structure = None\n",
    "    \n",
    "print(structure)"
   ]
  },
  {
   "cell_type": "markdown",
   "metadata": {
    "deletable": true,
    "editable": true
   },
   "source": [
    "### 9.2. load('pymatgen_Structure')\n",
    "\n",
    "Parameters\n",
    "\n",
    "- **structure** (*pymatgen.Structure*) A pymatgen representation of a structure.\n",
    "        \n",
    "Returns\n",
    "\n",
    "- **system** (*atomman.System*) A atomman representation of a system."
   ]
  },
  {
   "cell_type": "code",
   "execution_count": 51,
   "metadata": {
    "collapsed": false,
    "deletable": true,
    "editable": true
   },
   "outputs": [
    {
     "name": "stdout",
     "output_type": "stream",
     "text": [
      "pymatgen not installed (elements and system unchanged from above)\n",
      "avect =  [ 3.200,  0.000,  0.000]\n",
      "bvect =  [ 0.000,  3.200,  0.000]\n",
      "cvect =  [ 0.000,  0.000,  3.200]\n",
      "origin = [ 0.000,  0.000,  0.000]\n",
      "natoms = 2\n",
      "natypes = 2\n",
      "symbols = ('Cl', 'Cs')\n",
      "pbc = [ True  True  True]\n",
      "     id |   atype |  pos[0] |  pos[1] |  pos[2]\n",
      "      0 |       2 |   0.000 |   0.000 |   0.000\n",
      "      1 |       1 |   1.600 |   1.600 |   1.600\n"
     ]
    },
    {
     "data": {
      "text/html": [
       "<div>\n",
       "<table border=\"1\" class=\"dataframe\">\n",
       "  <thead>\n",
       "    <tr style=\"text-align: right;\">\n",
       "      <th></th>\n",
       "      <th>atype</th>\n",
       "      <th>pos[0]</th>\n",
       "      <th>pos[1]</th>\n",
       "      <th>pos[2]</th>\n",
       "      <th>stress[0][0]</th>\n",
       "      <th>stress[0][1]</th>\n",
       "      <th>stress[0][2]</th>\n",
       "      <th>stress[1][0]</th>\n",
       "      <th>stress[1][1]</th>\n",
       "      <th>stress[1][2]</th>\n",
       "      <th>stress[2][0]</th>\n",
       "      <th>stress[2][1]</th>\n",
       "      <th>stress[2][2]</th>\n",
       "      <th>charge</th>\n",
       "    </tr>\n",
       "  </thead>\n",
       "  <tbody>\n",
       "    <tr>\n",
       "      <th>0</th>\n",
       "      <td>2</td>\n",
       "      <td>0.0</td>\n",
       "      <td>0.0</td>\n",
       "      <td>0.0</td>\n",
       "      <td>0.0</td>\n",
       "      <td>0.0</td>\n",
       "      <td>0.0</td>\n",
       "      <td>0.0</td>\n",
       "      <td>0.0</td>\n",
       "      <td>0.0</td>\n",
       "      <td>0.0</td>\n",
       "      <td>0.0</td>\n",
       "      <td>0.0</td>\n",
       "      <td>1.0</td>\n",
       "    </tr>\n",
       "    <tr>\n",
       "      <th>1</th>\n",
       "      <td>1</td>\n",
       "      <td>1.6</td>\n",
       "      <td>1.6</td>\n",
       "      <td>1.6</td>\n",
       "      <td>0.0</td>\n",
       "      <td>0.0</td>\n",
       "      <td>0.0</td>\n",
       "      <td>0.0</td>\n",
       "      <td>0.0</td>\n",
       "      <td>0.0</td>\n",
       "      <td>0.0</td>\n",
       "      <td>0.0</td>\n",
       "      <td>0.0</td>\n",
       "      <td>-1.0</td>\n",
       "    </tr>\n",
       "  </tbody>\n",
       "</table>\n",
       "</div>"
      ],
      "text/plain": [
       "   atype  pos[0]  pos[1]  pos[2]  stress[0][0]  stress[0][1]  stress[0][2]  \\\n",
       "0      2     0.0     0.0     0.0           0.0           0.0           0.0   \n",
       "1      1     1.6     1.6     1.6           0.0           0.0           0.0   \n",
       "\n",
       "   stress[1][0]  stress[1][1]  stress[1][2]  stress[2][0]  stress[2][1]  \\\n",
       "0           0.0           0.0           0.0           0.0           0.0   \n",
       "1           0.0           0.0           0.0           0.0           0.0   \n",
       "\n",
       "   stress[2][2]  charge  \n",
       "0           0.0     1.0  \n",
       "1           0.0    -1.0  "
      ]
     },
     "execution_count": 51,
     "metadata": {},
     "output_type": "execute_result"
    }
   ],
   "source": [
    "if has_pmg:\n",
    "    system = am.load('pymatgen_Structure', structure)\n",
    "else:\n",
    "    print('pymatgen not installed (elements and system unchanged from above)')\n",
    "    \n",
    "print(system)\n",
    "system.atoms_df()"
   ]
  }
 ],
 "metadata": {
  "kernelspec": {
   "display_name": "Python 2",
   "language": "python",
   "name": "python2"
  },
  "language_info": {
   "codemirror_mode": {
    "name": "ipython",
    "version": 2
   },
   "file_extension": ".py",
   "mimetype": "text/x-python",
   "name": "python",
   "nbconvert_exporter": "python",
   "pygments_lexer": "ipython2",
   "version": "2.7.13"
  }
 },
 "nbformat": 4,
 "nbformat_minor": 2
}
