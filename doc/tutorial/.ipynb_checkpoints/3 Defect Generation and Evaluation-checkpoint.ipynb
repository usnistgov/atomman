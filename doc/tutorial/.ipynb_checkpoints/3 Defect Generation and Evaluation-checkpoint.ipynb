{
 "cells": [
  {
   "cell_type": "markdown",
   "metadata": {
    "collapsed": true,
    "deletable": true,
    "editable": true
   },
   "source": [
    "# Introduction to atomman.defect\n",
    "\n",
    "- - -"
   ]
  },
  {
   "cell_type": "markdown",
   "metadata": {
    "deletable": true,
    "editable": true
   },
   "source": [
    "__Lucas M. Hale__, [lucas.hale@nist.gov](mailto:lucas.hale@nist.gov?Subject=ipr-demo), _Materials Science and Engineering Division, NIST_.\n",
    "\n",
    "__Chandler A. Becker__, [chandler.becker@nist.gov](mailto:chandler.becker@nist.gov?Subject=ipr-demo), _Office of Data and Informatics, NIST_.\n",
    "\n",
    "__Zachary T. Trautt__, [zachary.trautt@nist.gov](mailto:zachary.trautt@nist.gov?Subject=ipr-demo), _Materials Measurement Science Division, NIST_.\n",
    "\n",
    "Version: 2017-04-19\n",
    "\n",
    "[Disclaimers](http://www.nist.gov/public_affairs/disclaimer.cfm) \n",
    " \n",
    "- - -"
   ]
  },
  {
   "cell_type": "markdown",
   "metadata": {
    "deletable": true,
    "editable": true
   },
   "source": [
    "## Introduction\n",
    "\n",
    "This Notebook provides an introduction to the defect creation and analysis tools contained in the atomman.defect submodule.  It provides a working demonstration of how the code works. Links are also given to the in-depth Notebooks related to the specific actions mentioned here.\n",
    "\n",
    "- - -"
   ]
  },
  {
   "cell_type": "markdown",
   "metadata": {
    "deletable": true,
    "editable": true
   },
   "source": [
    "Library Imports"
   ]
  },
  {
   "cell_type": "code",
   "execution_count": 1,
   "metadata": {
    "collapsed": true,
    "deletable": true,
    "editable": true
   },
   "outputs": [],
   "source": [
    "#Standard libraries\n",
    "from __future__ import print_function\n",
    "import os\n",
    "\n",
    "#http://www.numpy.org/\n",
    "import numpy as np             \n",
    "\n",
    "#http://matplotlib.org/\n",
    "%matplotlib inline\n",
    "\n",
    "#https://github.com/usnistgov/atomman\n",
    "import atomman as am            "
   ]
  },
  {
   "cell_type": "markdown",
   "metadata": {
    "deletable": true,
    "editable": true
   },
   "source": [
    "## 1. Point defect generation\n",
    "\n",
    "The [point](../reference/atomman.defect.point.ipynb) function allows for a specified point defect to be added to an atomman.System. It returns a new System with the defect added, and creates a new per-atom property that tracks each atom's original id. The function supports four styles of point defects:\n",
    "\n",
    "- vacancy\n",
    "\n",
    "- substitutional\n",
    "\n",
    "- lattice site interstitial\n",
    "\n",
    "- dumbbell interstitial"
   ]
  },
  {
   "cell_type": "markdown",
   "metadata": {
    "deletable": true,
    "editable": true
   },
   "source": [
    "Create a 2x2x2 bcc supercell"
   ]
  },
  {
   "cell_type": "code",
   "execution_count": 2,
   "metadata": {
    "collapsed": false,
    "deletable": true,
    "editable": true
   },
   "outputs": [
    {
     "name": "stdout",
     "output_type": "stream",
     "text": [
      "avect =  [ 5.740,  0.000,  0.000]\n",
      "bvect =  [ 0.000,  5.740,  0.000]\n",
      "cvect =  [ 0.000,  0.000,  5.740]\n",
      "origin = [ 0.000,  0.000,  0.000]\n",
      "natoms = 16\n",
      "natypes = 1\n",
      "     id |   atype |  pos[0] |  pos[1] |  pos[2]\n",
      "      0 |       1 |   0.000 |   0.000 |   0.000\n",
      "      1 |       1 |   1.435 |   1.435 |   1.435\n",
      "      2 |       1 |   2.870 |   0.000 |   0.000\n",
      "      3 |       1 |   4.305 |   1.435 |   1.435\n",
      "      4 |       1 |   0.000 |   2.870 |   0.000\n",
      "      5 |       1 |   1.435 |   4.305 |   1.435\n",
      "      6 |       1 |   2.870 |   2.870 |   0.000\n",
      "      7 |       1 |   4.305 |   4.305 |   1.435\n",
      "      8 |       1 |   0.000 |   0.000 |   2.870\n",
      "      9 |       1 |   1.435 |   1.435 |   4.305\n",
      "     10 |       1 |   2.870 |   0.000 |   2.870\n",
      "     11 |       1 |   4.305 |   1.435 |   4.305\n",
      "     12 |       1 |   0.000 |   2.870 |   2.870\n",
      "     13 |       1 |   1.435 |   4.305 |   4.305\n",
      "     14 |       1 |   2.870 |   2.870 |   2.870\n",
      "     15 |       1 |   4.305 |   4.305 |   4.305\n"
     ]
    }
   ],
   "source": [
    "prop = {'atype':1, 'pos':[[0.0,0.0,0.0], [0.5,0.5,0.5]]}\n",
    "atoms = am.Atoms(natoms=2, prop=prop)\n",
    "box = am.Box(a=2.87, b=2.87, c=2.87)\n",
    "\n",
    "system = am.System(box=box, atoms=atoms, scale=True)\n",
    "system.supersize(2,2,2)\n",
    "print(system)"
   ]
  },
  {
   "cell_type": "markdown",
   "metadata": {
    "deletable": true,
    "editable": true
   },
   "source": [
    "Add a [111] dumbbell interstitial by offsetting the atom with id = 7. The two atoms forming the dumbbell are placed at the end of the system's atoms list."
   ]
  },
  {
   "cell_type": "code",
   "execution_count": 3,
   "metadata": {
    "collapsed": false,
    "deletable": true,
    "editable": true
   },
   "outputs": [
    {
     "name": "stdout",
     "output_type": "stream",
     "text": [
      "avect =  [ 5.740,  0.000,  0.000]\n",
      "bvect =  [ 0.000,  5.740,  0.000]\n",
      "cvect =  [ 0.000,  0.000,  5.740]\n",
      "origin = [ 0.000,  0.000,  0.000]\n",
      "natoms = 17\n",
      "natypes = 1\n",
      "     id |   atype |  pos[0] |  pos[1] |  pos[2]\n",
      "      0 |       1 |   0.000 |   0.000 |   0.000\n",
      "      1 |       1 |   1.435 |   1.435 |   1.435\n",
      "      2 |       1 |   2.870 |   0.000 |   0.000\n",
      "      3 |       1 |   4.305 |   1.435 |   1.435\n",
      "      4 |       1 |   0.000 |   2.870 |   0.000\n",
      "      5 |       1 |   1.435 |   4.305 |   1.435\n",
      "      6 |       1 |   2.870 |   2.870 |   0.000\n",
      "      7 |       1 |   0.000 |   0.000 |   2.870\n",
      "      8 |       1 |   1.435 |   1.435 |   4.305\n",
      "      9 |       1 |   2.870 |   0.000 |   2.870\n",
      "     10 |       1 |   4.305 |   1.435 |   4.305\n",
      "     11 |       1 |   0.000 |   2.870 |   2.870\n",
      "     12 |       1 |   1.435 |   4.305 |   4.305\n",
      "     13 |       1 |   2.870 |   2.870 |   2.870\n",
      "     14 |       1 |   4.305 |   4.305 |   4.305\n",
      "     15 |       1 |   4.205 |   4.205 |   1.335\n",
      "     16 |       1 |   4.405 |   4.405 |   1.535\n"
     ]
    }
   ],
   "source": [
    "system = am.defect.point(system, 'db', atype=1, ptd_id=7, db_vect=[0.1, 0.1, 0.1])\n",
    "print(system)"
   ]
  },
  {
   "cell_type": "markdown",
   "metadata": {
    "deletable": true,
    "editable": true
   },
   "source": [
    "Show that the atoms' original ids are retained by the old_id property"
   ]
  },
  {
   "cell_type": "code",
   "execution_count": 4,
   "metadata": {
    "collapsed": false,
    "deletable": true,
    "editable": true
   },
   "outputs": [
    {
     "name": "stdout",
     "output_type": "stream",
     "text": [
      "[ 0  1  2  3  4  5  6  7  8  9 10 11 12 13 14 15]\n",
      "[ 0  1  2  3  4  5  6  8  9 10 11 12 13 14 15  7 16]\n"
     ]
    }
   ],
   "source": [
    "print(np.arange(16,dtype=int))\n",
    "print(system.atoms_prop(key='old_id'))"
   ]
  },
  {
   "cell_type": "markdown",
   "metadata": {
    "deletable": true,
    "editable": true
   },
   "source": [
    "## 2. Dislocation tools"
   ]
  },
  {
   "cell_type": "markdown",
   "metadata": {
    "deletable": true,
    "editable": true
   },
   "source": [
    "The atomman.defect module contains a number of tools associated with the creation and manipulation of dislocations. \n",
    "\n",
    "In-depth explanations are left to the respective code documentation pages as properly using these tools requires a proper understanding of the methods and the parameters that are used.\n",
    "\n",
    "1. The [Stroh](../reference/atomman.defect.Stroh.ipynb) class solves the anisotropic linear elastic solution for a perfectly straight dislocation. This can be used for analysis purposes, or for generating a dislocation monopole atomic system.\n",
    "\n",
    "2. The [slip_vector](../reference/atomman.defect.slip_vector.ipynb) function computes the slip vector for the atoms in a system. This analysis parameter is useful for tracking and characterizing plasticity mechanisms active between two states of a system.\n",
    "\n",
    "3. The [differential_displacement](../reference/atomman.defect.differential_displacement.ipynb) function calculates and plots a differential displacement map. This helps in characterizing the relaxed atomic structure of dislocation cores.\n",
    "\n",
    "4. The [nye_tensor](../reference/atomman.defect.nye_tensor.ipynb) function evaluates the strain in a system by comparing the local atomic neighborhood around each atom to an idealized reference neighborhood. The gradient of the strain is then used to estimate the Nye tensor on a per-atom basis, which can be used to characterize dislocations."
   ]
  },
  {
   "cell_type": "markdown",
   "metadata": {
    "deletable": true,
    "editable": true
   },
   "source": [
    "- - -\n",
    "__Docs Navigation:__\n",
    "\n",
    "Tutorial:\n",
    "\n",
    "1. [Basics](../tutorial/1 Basics.ipynb)\n",
    "\n",
    "2. [LAMMPS Functionality](../tutorial/2 LAMMPS Functionality.ipynb)\n",
    "\n",
    "3. [Defect Generation and Evaluation](../tutorial/3 Defect Generation and Evaluation.ipynb)\n",
    "\n",
    "\n",
    "Reference:\n",
    "\n",
    "- [atomman](../reference/atomman.ipynb)\n",
    "\n",
    "- [atomman.convert](../reference/atomman.convert.ipynb)\n",
    "\n",
    "- [atomman.defect](../reference/atomman.defect.ipynb)\n",
    "\n",
    "- [atomman.lammps](../reference/atomman.lammps.ipynb)\n",
    "\n",
    "- [atomman.tools](../reference/atomman.tools.ipynb)\n",
    "\n",
    "- [atomman.unitconvert](../reference/atomman.unitconvert.ipynb)"
   ]
  }
 ],
 "metadata": {
  "kernelspec": {
   "display_name": "Python 2",
   "language": "python",
   "name": "python2"
  },
  "language_info": {
   "codemirror_mode": {
    "name": "ipython",
    "version": 2
   },
   "file_extension": ".py",
   "mimetype": "text/x-python",
   "name": "python",
   "nbconvert_exporter": "python",
   "pygments_lexer": "ipython2",
   "version": "2.7.13"
  }
 },
 "nbformat": 4,
 "nbformat_minor": 0
}
