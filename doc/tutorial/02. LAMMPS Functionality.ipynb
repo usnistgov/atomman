{
 "cells": [
  {
   "cell_type": "markdown",
   "metadata": {},
   "source": [
    "# Introduction to atomman: LAMMPS functionality\n",
    "\n",
    "__Lucas M. Hale__, [lucas.hale@nist.gov](mailto:lucas.hale@nist.gov?Subject=ipr-demo), _Materials Science and Engineering Division, NIST_.\n",
    "\n",
    "Notebook last updated: 2018-04-05\n",
    "    \n",
    "[Disclaimers](http://www.nist.gov/public_affairs/disclaimer.cfm)"
   ]
  },
  {
   "cell_type": "markdown",
   "metadata": {},
   "source": [
    "## 1. Introduction\n",
    "\n",
    "This Notebook provides an introduction to interacting with LAMMPS using atomman by working through a demonstration simulation."
   ]
  },
  {
   "cell_type": "markdown",
   "metadata": {},
   "source": [
    "**Library Imports**"
   ]
  },
  {
   "cell_type": "code",
   "execution_count": 1,
   "metadata": {},
   "outputs": [
    {
     "name": "stdout",
     "output_type": "stream",
     "text": [
      "atomman version = 1.2.0\n"
     ]
    }
   ],
   "source": [
    "# Standard libraries\n",
    "from __future__ import (absolute_import, print_function,\n",
    "                        division, unicode_literals)\n",
    "import os\n",
    "\n",
    "# http://www.numpy.org/\n",
    "import numpy as np             \n",
    "\n",
    "# http://matplotlib.org/\n",
    "import matplotlib.pyplot as plt \n",
    "%matplotlib inline\n",
    "\n",
    "# https://github.com/usnistgov/atomman\n",
    "import atomman as am            \n",
    "import atomman.lammps as lmp\n",
    "import atomman.unitconvert as uc\n",
    "\n",
    "# Show atomman version\n",
    "print('atomman version =', am.__version__)"
   ]
  },
  {
   "cell_type": "markdown",
   "metadata": {},
   "source": [
    "## 2. Interatomic Potential Control\n",
    "\n",
    "LAMMPS is capable of using a wide array of interatomic potential styles, which are defined through a combination of LAMMPS commands and potential parameter files.  In atomman, the LAMMPS commands can be automatically generated using the Potentials class and structured data model files (Section 2.2)."
   ]
  },
  {
   "cell_type": "markdown",
   "metadata": {},
   "source": [
    "### 2.1 MEAM parameter files\n",
    "\n",
    "This generates the library and parameter files for the 2015--Pascuet-M-I--Al potential. It serves as a nice demonstration as the parameter files are short compared to other potentials allowing them to be embedded in this Notebook."
   ]
  },
  {
   "cell_type": "code",
   "execution_count": 2,
   "metadata": {},
   "outputs": [],
   "source": [
    "# Generate Al.meam parameter file\n",
    "with open('Al.meam', 'w') as f:\n",
    "    f.write(\"\"\"re(1,1) =   2.86378\n",
    "attrac(1,1) = 0.39558\n",
    "repuls(1,1) = 0.09806\n",
    "Cmin(1,1,1) = 1.00769\n",
    "Cmax(1,1,1) = 2.31407\n",
    "#\n",
    "rc = 5.0\n",
    "delr = 0.1\n",
    "augt1 = 1\"\"\")"
   ]
  },
  {
   "cell_type": "code",
   "execution_count": 3,
   "metadata": {},
   "outputs": [],
   "source": [
    "# Generate library-Al.meam parameter file\n",
    "with open('library-Al.meam', 'w') as f:\n",
    "    f.write(\"\"\"# References:\n",
    "# elt        lat     z       ielement     atwt\n",
    "# alpha      b0      b1      b2           b3    alat    esub    asub\n",
    "# t0         t1              t2           t3            rozero  ibar\n",
    "#\n",
    "'Al'        'fcc'   12.     13           26.9815\n",
    "  4.68604   1.56205   5.39270   5.29601  -1.00047   4.05000   3.35999   1.06859\n",
    "1.0  -1.54917  -1.28508  10.01041 1.0 0 \"\"\")"
   ]
  },
  {
   "cell_type": "markdown",
   "metadata": {},
   "source": [
    "### 2.2 potential-LAMMPS data model file\n",
    "\n",
    "This generates the data model associated with the potential above. The different fields of the model depict values that are used to generate the LAMMPS command lines associated with the potential.\n",
    "\n",
    "See [03.1 Potential class Jupyter Notebook](03.1 Potential class.ipynb) for more details on the data model format."
   ]
  },
  {
   "cell_type": "code",
   "execution_count": 4,
   "metadata": {},
   "outputs": [],
   "source": [
    "# Data model corresponding to the potential parameter files above \n",
    "with open('2015--Pascuet-M-I--Al--LAMMPS--ipr1.json', 'w') as f:\n",
    "    f.write(\"\"\"{\n",
    "    \"potential-LAMMPS\": {\n",
    "        \"key\": \"83ca7343-12d3-4644-b85b-2b3a839f884e\", \n",
    "        \"id\": \"2015--Pascuet-M-I--Al--LAMMPS--ipr1\", \n",
    "        \"potential\": {\n",
    "            \"key\": \"b5fb2f1f-a582-4f81-9445-f002ce31e66e\", \n",
    "            \"id\": \"2015--Pascuet-M-I--Al\"\n",
    "        }, \n",
    "        \"units\": \"metal\", \n",
    "        \"atom_style\": \"atomic\", \n",
    "        \"atom\": [\n",
    "            {\n",
    "                \"element\": \"Al\", \n",
    "                \"mass\": 26.9815\n",
    "            }\n",
    "        ], \n",
    "        \"pair_style\": {\n",
    "            \"type\": \"meam\"\n",
    "        }, \n",
    "        \"pair_coeff\": {\n",
    "            \"term\": [\n",
    "                {\n",
    "                    \"file\": \"library-Al.meam\"\n",
    "                }, \n",
    "                {\n",
    "                    \"option\": \"Al\"\n",
    "                }, \n",
    "                {\n",
    "                    \"file\": \"Al.meam\"\n",
    "                }, \n",
    "                {\n",
    "                    \"symbols\": \"True\"\n",
    "                }\n",
    "            ]\n",
    "        }\n",
    "    }\n",
    "}\"\"\")"
   ]
  },
  {
   "cell_type": "markdown",
   "metadata": {},
   "source": [
    "### 2.3 lammps.Potential Class\n",
    "\n",
    "The data model can then be read in and interpreted using a lammps.Potential object.  This allows for the generation of dynamic LAMMPS command lines for the potential."
   ]
  },
  {
   "cell_type": "code",
   "execution_count": 5,
   "metadata": {},
   "outputs": [],
   "source": [
    "# Read in potential data model during initialization\n",
    "potential = lmp.Potential('2015--Pascuet-M-I--Al--LAMMPS--ipr1.json')"
   ]
  },
  {
   "cell_type": "markdown",
   "metadata": {},
   "source": [
    "Basic properties can be directly obtained."
   ]
  },
  {
   "cell_type": "code",
   "execution_count": 6,
   "metadata": {},
   "outputs": [
    {
     "name": "stdout",
     "output_type": "stream",
     "text": [
      "str(potential) ->        2015--Pascuet-M-I--Al--LAMMPS--ipr1\n",
      "potential.units ->       metal\n",
      "potential.atom_style ->  atomic\n",
      "potential.pair_style ->  meam\n",
      "potential.symbols ->     ['Al']\n",
      "potential.elements() ->  ['Al']\n",
      "potential.masses() ->    [26.9815]\n"
     ]
    }
   ],
   "source": [
    "# Show that basic properties can be directly obtained\n",
    "print('str(potential) ->       ', potential)\n",
    "print('potential.units ->      ', potential.units)\n",
    "print('potential.atom_style -> ', potential.atom_style)\n",
    "print('potential.pair_style -> ', potential.pair_style)\n",
    "print('potential.symbols ->    ', potential.symbols)\n",
    "print('potential.elements() -> ', potential.elements())\n",
    "print('potential.masses() ->   ', potential.masses())"
   ]
  },
  {
   "cell_type": "markdown",
   "metadata": {},
   "source": [
    "The LAMMPS command lines for the potential are auto-generated based on a list of symbols corresponding to LAMMPS atom types. This fully works for all LAMMPS pair_styles, with only the hybrid and hybrid/overlay styles having limitations."
   ]
  },
  {
   "cell_type": "code",
   "execution_count": 7,
   "metadata": {},
   "outputs": [
    {
     "name": "stdout",
     "output_type": "stream",
     "text": [
      "potential.pair_info() ->\n",
      "mass 1 26.981500\n",
      "\n",
      "pair_style meam\n",
      "pair_coeff * * library-Al.meam Al Al.meam Al\n",
      "\n",
      "\n",
      "potential.pair_info(['Al', 'Al', 'Al']) ->\n",
      "mass 1 26.981500\n",
      "mass 2 26.981500\n",
      "mass 3 26.981500\n",
      "\n",
      "pair_style meam\n",
      "pair_coeff * * library-Al.meam Al Al.meam Al Al Al\n",
      "\n"
     ]
    }
   ],
   "source": [
    "print('potential.pair_info() ->')\n",
    "print(potential.pair_info())\n",
    "print()\n",
    "\n",
    "print(\"potential.pair_info(['Al', 'Al', 'Al']) ->\")\n",
    "print(potential.pair_info(['Al', 'Al', 'Al']))"
   ]
  },
  {
   "cell_type": "markdown",
   "metadata": {},
   "source": [
    "## 3. Generate initial system"
   ]
  },
  {
   "cell_type": "markdown",
   "metadata": {},
   "source": [
    "### 3.1 Load poscar Al fcc unit cell\n",
    "\n",
    "A crystalline system can be easily generated using a unit cell system either defined in atomman or imported from another format.  For simplicity, here we will load a unit cell from a poscar file."
   ]
  },
  {
   "cell_type": "code",
   "execution_count": 8,
   "metadata": {},
   "outputs": [],
   "source": [
    "# Generate poscar file\n",
    "with open('Al-fcc.poscar', 'w') as f:\n",
    "    f.write(\"\"\"POSCAR for fcc Al standard unit cell\n",
    "1.0\n",
    "4.05 0.00 0.00\n",
    "0.00 4.05 0.00\n",
    "0.00 0.00 4.05\n",
    "Al\n",
    "4 \n",
    "direct\n",
    "0.00 0.00 0.00\n",
    "0.50 0.50 0.00\n",
    "0.50 0.00 0.50\n",
    "0.00 0.50 0.50\"\"\")"
   ]
  },
  {
   "cell_type": "markdown",
   "metadata": {},
   "source": [
    "Load poscar file to an atomman.System"
   ]
  },
  {
   "cell_type": "code",
   "execution_count": 9,
   "metadata": {},
   "outputs": [
    {
     "name": "stdout",
     "output_type": "stream",
     "text": [
      "avect =  [ 4.050,  0.000,  0.000]\n",
      "bvect =  [ 0.000,  4.050,  0.000]\n",
      "cvect =  [ 0.000,  0.000,  4.050]\n",
      "origin = [ 0.000,  0.000,  0.000]\n",
      "natoms = 4\n",
      "natypes = 1\n",
      "symbols = ('Al',)\n",
      "pbc = [ True  True  True]\n",
      "     id |   atype |  pos[0] |  pos[1] |  pos[2]\n",
      "      0 |       1 |   0.000 |   0.000 |   0.000\n",
      "      1 |       1 |   2.025 |   2.025 |   0.000\n",
      "      2 |       1 |   2.025 |   0.000 |   2.025\n",
      "      3 |       1 |   0.000 |   2.025 |   2.025\n"
     ]
    }
   ],
   "source": [
    "system = am.load('poscar', 'Al-fcc.poscar')\n",
    "print(system)"
   ]
  },
  {
   "cell_type": "markdown",
   "metadata": {},
   "source": [
    "### 3.2 Manipulate system\n",
    "\n",
    "More complicated atomic configurations can then be generated by manipulating the seed system and the atoms contained within. Here, we'll limit the manipulations to making the system a 3x3x3 supercell of itself."
   ]
  },
  {
   "cell_type": "code",
   "execution_count": 10,
   "metadata": {},
   "outputs": [
    {
     "name": "stdout",
     "output_type": "stream",
     "text": [
      "avect =  [12.150,  0.000,  0.000]\n",
      "bvect =  [ 0.000, 12.150,  0.000]\n",
      "cvect =  [ 0.000,  0.000, 12.150]\n",
      "origin = [ 0.000,  0.000,  0.000]\n",
      "natoms = 108\n",
      "natypes = 1\n",
      "symbols = ('Al',)\n",
      "pbc = [ True  True  True]\n",
      "     id |   atype |  pos[0] |  pos[1] |  pos[2]\n",
      "      0 |       1 |   0.000 |   0.000 |   0.000\n",
      "      1 |       1 |   2.025 |   2.025 |   0.000\n",
      "      2 |       1 |   2.025 |   0.000 |   2.025\n",
      "      3 |       1 |   0.000 |   2.025 |   2.025\n",
      "      4 |       1 |   4.050 |   0.000 |   0.000\n",
      "      5 |       1 |   6.075 |   2.025 |   0.000\n",
      "      6 |       1 |   6.075 |   0.000 |   2.025\n",
      "      7 |       1 |   4.050 |   2.025 |   2.025\n",
      "      8 |       1 |   8.100 |   0.000 |   0.000\n",
      "      9 |       1 |  10.125 |   2.025 |   0.000\n",
      "     10 |       1 |  10.125 |   0.000 |   2.025\n",
      "     11 |       1 |   8.100 |   2.025 |   2.025\n",
      "     12 |       1 |   0.000 |   4.050 |   0.000\n",
      "     13 |       1 |   2.025 |   6.075 |   0.000\n",
      "     14 |       1 |   2.025 |   4.050 |   2.025\n",
      "     15 |       1 |   0.000 |   6.075 |   2.025\n",
      "     16 |       1 |   4.050 |   4.050 |   0.000\n",
      "     17 |       1 |   6.075 |   6.075 |   0.000\n",
      "     18 |       1 |   6.075 |   4.050 |   2.025\n",
      "     19 |       1 |   4.050 |   6.075 |   2.025\n",
      "     20 |       1 |   8.100 |   4.050 |   0.000\n",
      "     21 |       1 |  10.125 |   6.075 |   0.000\n",
      "     22 |       1 |  10.125 |   4.050 |   2.025\n",
      "     23 |       1 |   8.100 |   6.075 |   2.025\n",
      "     24 |       1 |   0.000 |   8.100 |   0.000\n",
      "     25 |       1 |   2.025 |  10.125 |   0.000\n",
      "     26 |       1 |   2.025 |   8.100 |   2.025\n",
      "     27 |       1 |   0.000 |  10.125 |   2.025\n",
      "     28 |       1 |   4.050 |   8.100 |   0.000\n",
      "     29 |       1 |   6.075 |  10.125 |   0.000\n",
      "     30 |       1 |   6.075 |   8.100 |   2.025\n",
      "     31 |       1 |   4.050 |  10.125 |   2.025\n",
      "     32 |       1 |   8.100 |   8.100 |   0.000\n",
      "     33 |       1 |  10.125 |  10.125 |   0.000\n",
      "     34 |       1 |  10.125 |   8.100 |   2.025\n",
      "     35 |       1 |   8.100 |  10.125 |   2.025\n",
      "     36 |       1 |   0.000 |   0.000 |   4.050\n",
      "     37 |       1 |   2.025 |   2.025 |   4.050\n",
      "     38 |       1 |   2.025 |   0.000 |   6.075\n",
      "     39 |       1 |   0.000 |   2.025 |   6.075\n",
      "     40 |       1 |   4.050 |   0.000 |   4.050\n",
      "     41 |       1 |   6.075 |   2.025 |   4.050\n",
      "     42 |       1 |   6.075 |   0.000 |   6.075\n",
      "     43 |       1 |   4.050 |   2.025 |   6.075\n",
      "     44 |       1 |   8.100 |   0.000 |   4.050\n",
      "     45 |       1 |  10.125 |   2.025 |   4.050\n",
      "     46 |       1 |  10.125 |   0.000 |   6.075\n",
      "     47 |       1 |   8.100 |   2.025 |   6.075\n",
      "     48 |       1 |   0.000 |   4.050 |   4.050\n",
      "     49 |       1 |   2.025 |   6.075 |   4.050\n",
      "     50 |       1 |   2.025 |   4.050 |   6.075\n",
      "     51 |       1 |   0.000 |   6.075 |   6.075\n",
      "     52 |       1 |   4.050 |   4.050 |   4.050\n",
      "     53 |       1 |   6.075 |   6.075 |   4.050\n",
      "     54 |       1 |   6.075 |   4.050 |   6.075\n",
      "     55 |       1 |   4.050 |   6.075 |   6.075\n",
      "     56 |       1 |   8.100 |   4.050 |   4.050\n",
      "     57 |       1 |  10.125 |   6.075 |   4.050\n",
      "     58 |       1 |  10.125 |   4.050 |   6.075\n",
      "     59 |       1 |   8.100 |   6.075 |   6.075\n",
      "     60 |       1 |   0.000 |   8.100 |   4.050\n",
      "     61 |       1 |   2.025 |  10.125 |   4.050\n",
      "     62 |       1 |   2.025 |   8.100 |   6.075\n",
      "     63 |       1 |   0.000 |  10.125 |   6.075\n",
      "     64 |       1 |   4.050 |   8.100 |   4.050\n",
      "     65 |       1 |   6.075 |  10.125 |   4.050\n",
      "     66 |       1 |   6.075 |   8.100 |   6.075\n",
      "     67 |       1 |   4.050 |  10.125 |   6.075\n",
      "     68 |       1 |   8.100 |   8.100 |   4.050\n",
      "     69 |       1 |  10.125 |  10.125 |   4.050\n",
      "     70 |       1 |  10.125 |   8.100 |   6.075\n",
      "     71 |       1 |   8.100 |  10.125 |   6.075\n",
      "     72 |       1 |   0.000 |   0.000 |   8.100\n",
      "     73 |       1 |   2.025 |   2.025 |   8.100\n",
      "     74 |       1 |   2.025 |   0.000 |  10.125\n",
      "     75 |       1 |   0.000 |   2.025 |  10.125\n",
      "     76 |       1 |   4.050 |   0.000 |   8.100\n",
      "     77 |       1 |   6.075 |   2.025 |   8.100\n",
      "     78 |       1 |   6.075 |   0.000 |  10.125\n",
      "     79 |       1 |   4.050 |   2.025 |  10.125\n",
      "     80 |       1 |   8.100 |   0.000 |   8.100\n",
      "     81 |       1 |  10.125 |   2.025 |   8.100\n",
      "     82 |       1 |  10.125 |   0.000 |  10.125\n",
      "     83 |       1 |   8.100 |   2.025 |  10.125\n",
      "     84 |       1 |   0.000 |   4.050 |   8.100\n",
      "     85 |       1 |   2.025 |   6.075 |   8.100\n",
      "     86 |       1 |   2.025 |   4.050 |  10.125\n",
      "     87 |       1 |   0.000 |   6.075 |  10.125\n",
      "     88 |       1 |   4.050 |   4.050 |   8.100\n",
      "     89 |       1 |   6.075 |   6.075 |   8.100\n",
      "     90 |       1 |   6.075 |   4.050 |  10.125\n",
      "     91 |       1 |   4.050 |   6.075 |  10.125\n",
      "     92 |       1 |   8.100 |   4.050 |   8.100\n",
      "     93 |       1 |  10.125 |   6.075 |   8.100\n",
      "     94 |       1 |  10.125 |   4.050 |  10.125\n",
      "     95 |       1 |   8.100 |   6.075 |  10.125\n",
      "     96 |       1 |   0.000 |   8.100 |   8.100\n",
      "     97 |       1 |   2.025 |  10.125 |   8.100\n",
      "     98 |       1 |   2.025 |   8.100 |  10.125\n",
      "     99 |       1 |   0.000 |  10.125 |  10.125\n",
      "    100 |       1 |   4.050 |   8.100 |   8.100\n",
      "    101 |       1 |   6.075 |  10.125 |   8.100\n",
      "    102 |       1 |   6.075 |   8.100 |  10.125\n",
      "    103 |       1 |   4.050 |  10.125 |  10.125\n",
      "    104 |       1 |   8.100 |   8.100 |   8.100\n",
      "    105 |       1 |  10.125 |  10.125 |   8.100\n",
      "    106 |       1 |  10.125 |   8.100 |  10.125\n",
      "    107 |       1 |   8.100 |  10.125 |  10.125\n"
     ]
    }
   ],
   "source": [
    "system = system.supersize(3,3,3)\n",
    "print(system)"
   ]
  },
  {
   "cell_type": "markdown",
   "metadata": {},
   "source": [
    "### 3.3 Save to atom data file\n",
    "\n",
    "System.dump('atom_data') outputs the system to a LAMMPS atom data file. The parameters of the method with this style:\n",
    "\n",
    "- **style** is the output format to use ('atom_data' here).\n",
    "\n",
    "- **f** is a file path or file-like object to write to. If not given, the generated content is returned.\n",
    "\n",
    "- **units** is the LAMMPS units option to use for values. Default value is 'metal'.\n",
    "\n",
    "- **atom_style** is the LAMMPS atom_style option to use for the file. Default value is 'atomic'.\n",
    "\n",
    "- **float_format** allows the c-style format of floating point values to be specified. Default value is '%.13f'.\n",
    "\n",
    "- **return_info** is a bool indicating if the LAMMPS command lines for reading in the generated file are to be returned.  Default value is True. "
   ]
  },
  {
   "cell_type": "code",
   "execution_count": 11,
   "metadata": {},
   "outputs": [],
   "source": [
    "# Save System to 'atom.dat' atom data file \n",
    "system_info = system.dump('atom_data', f='atom.dat',\n",
    "                          units=potential.units, \n",
    "                          atom_style=potential.atom_style,\n",
    "                          float_format='%.4f')"
   ]
  },
  {
   "cell_type": "markdown",
   "metadata": {},
   "source": [
    "Show the returned LAMMPS command lines"
   ]
  },
  {
   "cell_type": "code",
   "execution_count": 12,
   "metadata": {},
   "outputs": [
    {
     "name": "stdout",
     "output_type": "stream",
     "text": [
      "# Script and atom data file prepared by atomman package\n",
      "\n",
      "units metal\n",
      "atom_style atomic\n",
      "boundary p p p \n",
      "read_data atom.dat\n"
     ]
    }
   ],
   "source": [
    "print(system_info)"
   ]
  },
  {
   "cell_type": "markdown",
   "metadata": {},
   "source": [
    "Show the contents of the data file"
   ]
  },
  {
   "cell_type": "code",
   "execution_count": 13,
   "metadata": {},
   "outputs": [
    {
     "name": "stdout",
     "output_type": "stream",
     "text": [
      "\n",
      "108 atoms\n",
      "1 atom types\n",
      "0.0000 12.1500 xlo xhi\n",
      "0.0000 12.1500 ylo yhi\n",
      "0.0000 12.1500 zlo zhi\n",
      "\n",
      "Atoms\n",
      "\n",
      "1 1 0.0000 0.0000 0.0000\n",
      "2 1 2.0250 2.0250 0.0000\n",
      "3 1 2.0250 0.0000 2.0250\n",
      "4 1 0.0000 2.0250 2.0250\n",
      "5 1 4.0500 0.0000 0.0000\n",
      "6 1 6.0750 2.0250 0.0000\n",
      "7 1 6.0750 0.0000 2.0250\n",
      "8 1 4.0500 2.0250 2.0250\n",
      "9 1 8.1000 0.0000 0.0000\n",
      "10 1 10.1250 2.0250 0.0000\n",
      "11 1 10.1250 0.0000 2.0250\n",
      "12 1 8.1000 2.0250 2.0250\n",
      "13 1 0.0000 4.0500 0.0000\n",
      "14 1 2.0250 6.0750 0.0000\n",
      "15 1 2.0250 4.0500 2.0250\n",
      "16 1 0.0000 6.0750 2.0250\n",
      "17 1 4.0500 4.0500 0.0000\n",
      "18 1 6.0750 6.0750 0.0000\n",
      "19 1 6.0750 4.0500 2.0250\n",
      "20 1 4.0500 6.0750 2.0250\n",
      "21 1 8.1000 4.0500 0.0000\n",
      "22 1 10.1250 6.0750 0.0000\n",
      "23 1 10.1250 4.0500 2.0250\n",
      "24 1 8.1000 6.0750 2.0250\n",
      "25 1 0.0000 8.1000 0.0000\n",
      "26 1 2.0250 10.1250 0.0000\n",
      "27 1 2.0250 8.1000 2.0250\n",
      "28 1 0.0000 10.1250 2.0250\n",
      "29 1 4.0500 8.1000 0.0000\n",
      "30 1 6.0750 10.1250 0.0000\n",
      "31 1 6.0750 8.1000 2.0250\n",
      "32 1 4.0500 10.1250 2.0250\n",
      "33 1 8.1000 8.1000 0.0000\n",
      "34 1 10.1250 10.1250 0.0000\n",
      "35 1 10.1250 8.1000 2.0250\n",
      "36 1 8.1000 10.1250 2.0250\n",
      "37 1 0.0000 0.0000 4.0500\n",
      "38 1 2.0250 2.0250 4.0500\n",
      "39 1 2.0250 0.0000 6.0750\n",
      "40 1 0.0000 2.0250 6.0750\n",
      "41 1 4.0500 0.0000 4.0500\n",
      "42 1 6.0750 2.0250 4.0500\n",
      "43 1 6.0750 0.0000 6.0750\n",
      "44 1 4.0500 2.0250 6.0750\n",
      "45 1 8.1000 0.0000 4.0500\n",
      "46 1 10.1250 2.0250 4.0500\n",
      "47 1 10.1250 0.0000 6.0750\n",
      "48 1 8.1000 2.0250 6.0750\n",
      "49 1 0.0000 4.0500 4.0500\n",
      "50 1 2.0250 6.0750 4.0500\n",
      "51 1 2.0250 4.0500 6.0750\n",
      "52 1 0.0000 6.0750 6.0750\n",
      "53 1 4.0500 4.0500 4.0500\n",
      "54 1 6.0750 6.0750 4.0500\n",
      "55 1 6.0750 4.0500 6.0750\n",
      "56 1 4.0500 6.0750 6.0750\n",
      "57 1 8.1000 4.0500 4.0500\n",
      "58 1 10.1250 6.0750 4.0500\n",
      "59 1 10.1250 4.0500 6.0750\n",
      "60 1 8.1000 6.0750 6.0750\n",
      "61 1 0.0000 8.1000 4.0500\n",
      "62 1 2.0250 10.1250 4.0500\n",
      "63 1 2.0250 8.1000 6.0750\n",
      "64 1 0.0000 10.1250 6.0750\n",
      "65 1 4.0500 8.1000 4.0500\n",
      "66 1 6.0750 10.1250 4.0500\n",
      "67 1 6.0750 8.1000 6.0750\n",
      "68 1 4.0500 10.1250 6.0750\n",
      "69 1 8.1000 8.1000 4.0500\n",
      "70 1 10.1250 10.1250 4.0500\n",
      "71 1 10.1250 8.1000 6.0750\n",
      "72 1 8.1000 10.1250 6.0750\n",
      "73 1 0.0000 0.0000 8.1000\n",
      "74 1 2.0250 2.0250 8.1000\n",
      "75 1 2.0250 0.0000 10.1250\n",
      "76 1 0.0000 2.0250 10.1250\n",
      "77 1 4.0500 0.0000 8.1000\n",
      "78 1 6.0750 2.0250 8.1000\n",
      "79 1 6.0750 0.0000 10.1250\n",
      "80 1 4.0500 2.0250 10.1250\n",
      "81 1 8.1000 0.0000 8.1000\n",
      "82 1 10.1250 2.0250 8.1000\n",
      "83 1 10.1250 0.0000 10.1250\n",
      "84 1 8.1000 2.0250 10.1250\n",
      "85 1 0.0000 4.0500 8.1000\n",
      "86 1 2.0250 6.0750 8.1000\n",
      "87 1 2.0250 4.0500 10.1250\n",
      "88 1 0.0000 6.0750 10.1250\n",
      "89 1 4.0500 4.0500 8.1000\n",
      "90 1 6.0750 6.0750 8.1000\n",
      "91 1 6.0750 4.0500 10.1250\n",
      "92 1 4.0500 6.0750 10.1250\n",
      "93 1 8.1000 4.0500 8.1000\n",
      "94 1 10.1250 6.0750 8.1000\n",
      "95 1 10.1250 4.0500 10.1250\n",
      "96 1 8.1000 6.0750 10.1250\n",
      "97 1 0.0000 8.1000 8.1000\n",
      "98 1 2.0250 10.1250 8.1000\n",
      "99 1 2.0250 8.1000 10.1250\n",
      "100 1 0.0000 10.1250 10.1250\n",
      "101 1 4.0500 8.1000 8.1000\n",
      "102 1 6.0750 10.1250 8.1000\n",
      "103 1 6.0750 8.1000 10.1250\n",
      "104 1 4.0500 10.1250 10.1250\n",
      "105 1 8.1000 8.1000 8.1000\n",
      "106 1 10.1250 10.1250 8.1000\n",
      "107 1 10.1250 8.1000 10.1250\n",
      "108 1 8.1000 10.1250 10.1250\n",
      "\n"
     ]
    }
   ],
   "source": [
    "with open('atom.dat') as f:\n",
    "    print(f.read())"
   ]
  },
  {
   "cell_type": "markdown",
   "metadata": {},
   "source": [
    "## 4. Converting to/from LAMMPS units\n",
    "\n",
    "LAMMPS performs its calculations with values in one of multiple sets of pre-defined units.  The atomman.lammps.style submodule has some useful functions when working with different units options.\n",
    "\n",
    "**atomman.lammps.style.timestep()**\n",
    "\n",
    "The lammps.style.timestep() function returns the default timestep value for a given LAMMPS units option.\n",
    "\n",
    "Parameters\n",
    "\n",
    "- **units** (*str*) the LAMMPS units option being used.\n",
    "\n",
    "**atomman.lammps.style.unit()**\n",
    "\n",
    "The lammps.style.unit() function returns a dictionary giving the units associated with physical quantities as used by LAMMPS with a given units option.\n",
    "\n",
    "Parameters\n",
    "\n",
    "- **units** (*str*) the LAMMPS units option being used."
   ]
  },
  {
   "cell_type": "code",
   "execution_count": 14,
   "metadata": {},
   "outputs": [
    {
     "name": "stdout",
     "output_type": "stream",
     "text": [
      "0.001\n"
     ]
    }
   ],
   "source": [
    "timestep = lmp.style.timestep(potential.units)\n",
    "print(timestep)"
   ]
  },
  {
   "cell_type": "code",
   "execution_count": 15,
   "metadata": {},
   "outputs": [
    {
     "name": "stdout",
     "output_type": "stream",
     "text": [
      "OrderedDict([('mass', 'g/mol'), ('length', 'angstrom'), ('time', 'ps'), ('energy', 'eV'), ('velocity', 'angstrom/ps'), ('force', 'eV/angstrom'), ('torque', 'eV'), ('temperature', 'K'), ('pressure', 'bar'), ('dynamic viscosity', 'Pa*s/10'), ('charge', 'e'), ('dipole', 'e*angstrom'), ('electric field', 'V/angstrom'), ('density', 'g/cm^3'), ('ang-mom', 'angstrom*angstrom/ps*g/mol'), ('ang-vel', '1/ps')])\n"
     ]
    }
   ],
   "source": [
    "lammps_unit = lmp.style.unit(potential.units)\n",
    "print(lammps_unit)"
   ]
  },
  {
   "cell_type": "markdown",
   "metadata": {},
   "source": [
    "## 5. Composing LAMMPS Input Scripts\n",
    "\n",
    "LAMMPS scripts can easily be constructed by combining the system_info generated from System.dump('atom_data'), the pair_info from Potential.pair_info(), and any user-defined input lines.  This allows for specific simulation actions to easily be perfored across different potentials or initial configurations."
   ]
  },
  {
   "cell_type": "markdown",
   "metadata": {},
   "source": [
    "### 5.1 Show content generated in previous sections"
   ]
  },
  {
   "cell_type": "markdown",
   "metadata": {},
   "source": [
    "Show system_info generated in Section 3.3."
   ]
  },
  {
   "cell_type": "code",
   "execution_count": 16,
   "metadata": {},
   "outputs": [
    {
     "name": "stdout",
     "output_type": "stream",
     "text": [
      "# Script and atom data file prepared by atomman package\n",
      "\n",
      "units metal\n",
      "atom_style atomic\n",
      "boundary p p p \n",
      "read_data atom.dat\n"
     ]
    }
   ],
   "source": [
    "print(system_info)"
   ]
  },
  {
   "cell_type": "markdown",
   "metadata": {},
   "source": [
    "Generate pair_info using potential object created in Section 2.3 with the list of symbols from Section 3.1"
   ]
  },
  {
   "cell_type": "code",
   "execution_count": 17,
   "metadata": {},
   "outputs": [
    {
     "name": "stdout",
     "output_type": "stream",
     "text": [
      "mass 1 26.981500\n",
      "\n",
      "pair_style meam\n",
      "pair_coeff * * library-Al.meam Al Al.meam Al\n",
      "\n"
     ]
    }
   ],
   "source": [
    "pair_info = potential.pair_info(system.symbols)\n",
    "print(pair_info)"
   ]
  },
  {
   "cell_type": "markdown",
   "metadata": {},
   "source": [
    "### 5.2 Write LAMMPS input script template\n",
    "\n",
    "LAMMPS scripts can be dynamically generated using Python functions or templates that take the above info lines and other values as parameters. Here, we demonstrate a LAMMPS input template script where all fields to be filled in in Python are delimited with <> brackets."
   ]
  },
  {
   "cell_type": "code",
   "execution_count": 18,
   "metadata": {},
   "outputs": [],
   "source": [
    "template = \"\"\"\n",
    "<system_info>\n",
    "\n",
    "<pair_info>\n",
    "\n",
    "# Define temperature and dependent variables\n",
    "variable T equal <temperature>\n",
    "variable twoT equal 2*$T\n",
    "\n",
    "# Define equilibrium pressure\n",
    "variable P equal <pressure>\n",
    "\n",
    "# Define timestep and dependent variables\n",
    "variable deltat equal <timestep>\n",
    "variable Trelax equal 100*${deltat}\n",
    "variable Prelax equal 1000*${deltat}\n",
    "\n",
    "# Initialize atomic velocities with twoT\n",
    "velocity all create ${twoT} 124352\n",
    "\n",
    "# Define thermo steps and properties\n",
    "thermo 100\n",
    "thermo_style custom step temp press lx ly lz\n",
    "\n",
    "# Define dump \n",
    "dump mydump all atom 100000 *.dump\n",
    "\n",
    "# Specify timestep\n",
    "timestep ${deltat}\n",
    "\n",
    "# Apply npt conditions\n",
    "fix 1 all npt temp $T $T ${Trelax} iso $P $P ${Prelax}\n",
    "\n",
    "# Run simulation\n",
    "run 100000\n",
    "\"\"\"           "
   ]
  },
  {
   "cell_type": "markdown",
   "metadata": {},
   "source": [
    "### 5.3 Fill in the template with atomman.tools.filltemplate()\n",
    "\n",
    "The template can then be easily filled in with the atomman.tools.filltemplate() function. \n",
    "\n",
    "Parameters\n",
    "\n",
    "- **template** (*str or file-like object*) is the template to fill in.\n",
    "\n",
    "- **variable** (*dict*) gives the delimited keys and corresponding values to insert into the template.\n",
    "\n",
    "- **s_delimiter** (*str*) the starting delimiter for identifying variable names.\n",
    "\n",
    "- **e_delimiter** (*str*) the ending delimiter for identifying variable names."
   ]
  },
  {
   "cell_type": "markdown",
   "metadata": {},
   "source": [
    "Build dictionary of template variables"
   ]
  },
  {
   "cell_type": "code",
   "execution_count": 19,
   "metadata": {},
   "outputs": [
    {
     "name": "stdout",
     "output_type": "stream",
     "text": [
      "{'system_info': '# Script and atom data file prepared by atomman package\\n\\nunits metal\\natom_style atomic\\nboundary p p p \\nread_data atom.dat', 'pair_info': 'mass 1 26.981500\\n\\npair_style meam\\npair_coeff * * library-Al.meam Al Al.meam Al\\n', 'timestep': 0.001, 'temperature': 100, 'pressure': 0.0}\n"
     ]
    }
   ],
   "source": [
    "lammps_variable = {}\n",
    "\n",
    "# Generated above\n",
    "lammps_variable['system_info'] = system_info\n",
    "lammps_variable['pair_info'] = pair_info\n",
    "\n",
    "# Set timestep to default value for LAMMPS units\n",
    "lammps_variable['timestep'] = lmp.style.timestep(units=potential.units)\n",
    "\n",
    "# Specify temperature to equilibriate at (always in Kelvin)\n",
    "lammps_variable['temperature'] = 100\n",
    "\n",
    "# Specify pressure to equilibriate at\n",
    "pressure = uc.set_in_units(0.0, 'MPa')\n",
    "lammps_variable['pressure'] = uc.get_in_units(pressure, lammps_unit['pressure'])\n",
    "\n",
    "print(lammps_variable)"
   ]
  },
  {
   "cell_type": "markdown",
   "metadata": {},
   "source": [
    "Fill in template"
   ]
  },
  {
   "cell_type": "code",
   "execution_count": 20,
   "metadata": {},
   "outputs": [
    {
     "name": "stdout",
     "output_type": "stream",
     "text": [
      "\n",
      "# Script and atom data file prepared by atomman package\n",
      "\n",
      "units metal\n",
      "atom_style atomic\n",
      "boundary p p p \n",
      "read_data atom.dat\n",
      "\n",
      "mass 1 26.981500\n",
      "\n",
      "pair_style meam\n",
      "pair_coeff * * library-Al.meam Al Al.meam Al\n",
      "\n",
      "\n",
      "# Define temperature and dependent variables\n",
      "variable T equal 100\n",
      "variable twoT equal 2*$T\n",
      "\n",
      "# Define equilibrium pressure\n",
      "variable P equal 0.0\n",
      "\n",
      "# Define timestep and dependent variables\n",
      "variable deltat equal 0.001\n",
      "variable Trelax equal 100*${deltat}\n",
      "variable Prelax equal 1000*${deltat}\n",
      "\n",
      "# Initialize atomic velocities with twoT\n",
      "velocity all create ${twoT} 124352\n",
      "\n",
      "# Define thermo steps and properties\n",
      "thermo 100\n",
      "thermo_style custom step temp press lx ly lz\n",
      "\n",
      "# Define dump \n",
      "dump mydump all atom 100000 *.dump\n",
      "\n",
      "# Specify timestep\n",
      "timestep ${deltat}\n",
      "\n",
      "# Apply npt conditions\n",
      "fix 1 all npt temp $T $T ${Trelax} iso $P $P ${Prelax}\n",
      "\n",
      "# Run simulation\n",
      "run 100000\n",
      "\n"
     ]
    }
   ],
   "source": [
    "# Generate script from template and lammps_variable\n",
    "script = am.tools.filltemplate(template, lammps_variable, '<', '>')\n",
    "\n",
    "# Save script to 'nvt.in'\n",
    "with open('nvt.in', 'w') as f:\n",
    "    f.write(script)\n",
    "\n",
    "# Show contents of 'nvt.in'    \n",
    "with open('nvt.in') as f:\n",
    "    print(f.read())"
   ]
  },
  {
   "cell_type": "markdown",
   "metadata": {},
   "source": [
    "## 6. Run LAMMPS\n",
    "\n",
    "The LAMMPS simulation can be ran from within Python using the run() function."
   ]
  },
  {
   "cell_type": "markdown",
   "metadata": {},
   "source": [
    "Specify your lammps executable"
   ]
  },
  {
   "cell_type": "code",
   "execution_count": 21,
   "metadata": {},
   "outputs": [],
   "source": [
    "lammps_exe = 'lmp_serial'"
   ]
  },
  {
   "cell_type": "markdown",
   "metadata": {},
   "source": [
    "Run the simulation "
   ]
  },
  {
   "cell_type": "code",
   "execution_count": 22,
   "metadata": {},
   "outputs": [],
   "source": [
    "output = lmp.run(lammps_exe, 'nvt.in', return_style='object')"
   ]
  },
  {
   "cell_type": "markdown",
   "metadata": {},
   "source": [
    "The resulting simulation data is returned as a Log object, which containes the thermo data from the log.lammps files. "
   ]
  },
  {
   "cell_type": "markdown",
   "metadata": {},
   "source": [
    "## 7. Analyzing Thermo Results\n",
    "\n",
    "Data for each run/minimization is stored in in a list of dictionaries called simulations in the returned Log file.  In each dictionary, there is a thermo key that represents a pandas.DataFrame of the thermo data."
   ]
  },
  {
   "cell_type": "markdown",
   "metadata": {},
   "source": [
    "Show thermo data column names for the first (and only) simulation run."
   ]
  },
  {
   "cell_type": "code",
   "execution_count": 23,
   "metadata": {},
   "outputs": [
    {
     "name": "stdout",
     "output_type": "stream",
     "text": [
      "['Step', 'Temp', 'Press', 'Lx', 'Ly', 'Lz']\n"
     ]
    }
   ],
   "source": [
    "print(list(output.simulations[0]['thermo'].keys()))"
   ]
  },
  {
   "cell_type": "markdown",
   "metadata": {},
   "source": [
    "Plot temperature vs. run step"
   ]
  },
  {
   "cell_type": "code",
   "execution_count": 24,
   "metadata": {},
   "outputs": [
    {
     "data": {
      "image/png": "[encoded data removed]",
      "text/plain": [
       "<matplotlib.figure.Figure at 0x1c144780>"
      ]
     },
     "metadata": {},
     "output_type": "display_data"
    }
   ],
   "source": [
    "# Pull out data\n",
    "steps = output.simulations[0]['thermo'].Step\n",
    "temps = output.simulations[0]['thermo'].Temp\n",
    "\n",
    "# Plot\n",
    "plt.plot(steps, temps)\n",
    "plt.xlabel('Step')\n",
    "plt.ylabel('Temperature (K)')\n",
    "plt.show()"
   ]
  },
  {
   "cell_type": "markdown",
   "metadata": {},
   "source": [
    "Plot pressure vs. run step (note unit conversions)"
   ]
  },
  {
   "cell_type": "code",
   "execution_count": 25,
   "metadata": {},
   "outputs": [
    {
     "data": {
      "image/png": "[encoded data removed]",
      "text/plain": [
       "<matplotlib.figure.Figure at 0x7f33b00>"
      ]
     },
     "metadata": {},
     "output_type": "display_data"
    }
   ],
   "source": [
    "# Convert steps to time in atomman working units\n",
    "steps = output.simulations[0]['thermo'].Step\n",
    "time = uc.set_in_units(timestep, lammps_unit['time']) * steps\n",
    "\n",
    "# Convert press to atomman working units\n",
    "press = uc.set_in_units(output.simulations[0]['thermo'].Press, lammps_unit['pressure'])\n",
    "\n",
    "# Plot in ps and GPa\n",
    "plt.plot(uc.get_in_units(steps, 'ps'), uc.get_in_units(press, 'GPa'))\n",
    "plt.xlabel('Time (ps)')\n",
    "plt.ylabel('Pressure (GPa)')\n",
    "plt.show()"
   ]
  },
  {
   "cell_type": "markdown",
   "metadata": {},
   "source": [
    "## 8 Reading in dump files \n",
    "\n",
    "Finally, any dump files generated by the LAMMPS simulation can be loaded into atomman as Systems.  "
   ]
  },
  {
   "cell_type": "code",
   "execution_count": 26,
   "metadata": {},
   "outputs": [
    {
     "name": "stdout",
     "output_type": "stream",
     "text": [
      "avect =  [12.186,  0.000,  0.000]\n",
      "bvect =  [ 0.000, 12.186,  0.000]\n",
      "cvect =  [ 0.000,  0.000, 12.186]\n",
      "origin = [-0.018, -0.018, -0.018]\n",
      "natoms = 108\n",
      "natypes = 1\n",
      "symbols = (None,)\n",
      "pbc = [ True  True  True]\n",
      "     id |   atype |  pos[0] |  pos[1] |  pos[2]\n",
      "      0 |       1 |   0.022 |  -0.053 |  -0.047\n",
      "      1 |       1 |   1.992 |   2.058 |  -0.041\n",
      "      2 |       1 |   2.004 |  -0.019 |   2.049\n",
      "      3 |       1 |   0.005 |   1.932 |   2.000\n",
      "      4 |       1 |   3.971 |   0.050 |   0.024\n",
      "      5 |       1 |   6.026 |   2.034 |  -0.062\n",
      "      6 |       1 |   6.117 |  -0.064 |   1.992\n",
      "      7 |       1 |   4.074 |   2.039 |   2.003\n",
      "      8 |       1 |   8.029 |  -0.055 |  -0.037\n",
      "      9 |       1 |  10.143 |   2.022 |   0.009\n",
      "     10 |       1 |  10.168 |  -0.083 |   1.929\n",
      "     11 |       1 |   8.088 |   2.029 |   1.996\n",
      "     12 |       1 |  -0.088 |   4.019 |  -0.035\n",
      "     13 |       1 |   2.024 |   6.024 |   0.049\n",
      "     14 |       1 |   2.011 |   3.989 |   2.007\n",
      "     15 |       1 |   0.012 |   6.139 |   2.004\n",
      "     16 |       1 |   4.080 |   4.106 |  -0.102\n",
      "     17 |       1 |   6.129 |   6.056 |   0.035\n",
      "     18 |       1 |   6.082 |   4.069 |   2.067\n",
      "     19 |       1 |   4.091 |   6.075 |   2.026\n",
      "     20 |       1 |   8.065 |   3.996 |  -0.012\n",
      "     21 |       1 |  10.114 |   6.078 |  -0.048\n",
      "     22 |       1 |  10.126 |   4.122 |   1.983\n",
      "     23 |       1 |   8.117 |   6.099 |   2.006\n",
      "     24 |       1 |  -0.025 |   8.137 |  -0.057\n",
      "     25 |       1 |   2.032 |  10.170 |  -0.011\n",
      "     26 |       1 |   2.051 |   8.147 |   2.130\n",
      "     27 |       1 |  -0.010 |  10.128 |   2.000\n",
      "     28 |       1 |   4.058 |   8.110 |   0.065\n",
      "     29 |       1 |   6.032 |  10.099 |  -0.028\n",
      "     30 |       1 |   6.088 |   8.115 |   2.032\n",
      "     31 |       1 |   3.980 |  10.202 |   2.055\n",
      "     32 |       1 |   8.097 |   8.096 |  -0.013\n",
      "     33 |       1 |  10.148 |  10.143 |  -0.086\n",
      "     34 |       1 |  10.159 |   8.100 |   1.959\n",
      "     35 |       1 |   8.145 |  10.082 |   2.009\n",
      "     36 |       1 |  -0.082 |  -0.000 |   4.029\n",
      "     37 |       1 |   1.994 |   1.951 |   4.018\n",
      "     38 |       1 |   2.013 |  -0.051 |   6.079\n",
      "     39 |       1 |  -0.040 |   1.978 |   6.066\n",
      "     40 |       1 |   4.027 |   0.045 |   4.041\n",
      "     41 |       1 |   6.116 |   2.013 |   4.044\n",
      "     42 |       1 |   6.089 |   0.013 |   6.072\n",
      "     43 |       1 |   4.058 |   2.003 |   6.141\n",
      "     44 |       1 |   8.080 |   0.008 |   3.993\n",
      "     45 |       1 |  10.083 |   1.983 |   3.991\n",
      "     46 |       1 |  10.209 |  -0.055 |   6.054\n",
      "     47 |       1 |   8.205 |   1.974 |   6.068\n",
      "     48 |       1 |  -0.101 |   3.942 |   3.999\n",
      "     49 |       1 |   1.993 |   5.971 |   3.984\n",
      "     50 |       1 |   2.008 |   3.973 |   6.089\n",
      "     51 |       1 |   0.058 |   6.030 |   6.084\n",
      "     52 |       1 |   4.049 |   4.017 |   4.035\n",
      "     53 |       1 |   6.045 |   6.093 |   4.144\n",
      "     54 |       1 |   6.123 |   4.041 |   6.080\n",
      "     55 |       1 |   4.093 |   6.048 |   6.086\n",
      "     56 |       1 |   8.115 |   4.043 |   4.041\n",
      "     57 |       1 |  10.166 |   6.135 |   4.054\n",
      "     58 |       1 |  10.161 |   4.094 |   6.078\n",
      "     59 |       1 |   8.106 |   6.057 |   6.083\n",
      "     60 |       1 |  -0.059 |   8.146 |   4.036\n",
      "     61 |       1 |   1.975 |  10.164 |   4.093\n",
      "     62 |       1 |   2.003 |   8.024 |   6.093\n",
      "     63 |       1 |   0.071 |  10.103 |   6.093\n",
      "     64 |       1 |   4.124 |   8.204 |   4.102\n",
      "     65 |       1 |   6.090 |  10.127 |   4.035\n",
      "     66 |       1 |   6.115 |   8.176 |   6.059\n",
      "     67 |       1 |   3.997 |  10.182 |   6.093\n",
      "     68 |       1 |   8.131 |   8.076 |   4.046\n",
      "     69 |       1 |  10.101 |  10.150 |   4.057\n",
      "     70 |       1 |  10.205 |   8.121 |   6.098\n",
      "     71 |       1 |   8.092 |  10.189 |   6.033\n",
      "     72 |       1 |  -0.018 |   0.005 |   8.071\n",
      "     73 |       1 |   1.975 |   2.035 |   8.075\n",
      "     74 |       1 |   1.987 |  -0.003 |  10.100\n",
      "     75 |       1 |  -0.005 |   1.912 |  10.115\n",
      "     76 |       1 |   4.019 |  -0.032 |   8.167\n",
      "     77 |       1 |   6.095 |   2.057 |   8.083\n",
      "     78 |       1 |   6.022 |   0.029 |  10.109\n",
      "     79 |       1 |   3.939 |   2.031 |  10.120\n",
      "     80 |       1 |   8.076 |  -0.012 |   8.072\n",
      "     81 |       1 |  10.121 |   1.998 |   8.118\n",
      "     82 |       1 |  10.082 |  -0.004 |  10.034\n",
      "     83 |       1 |   8.056 |   2.045 |  10.159\n",
      "     84 |       1 |  -0.102 |   4.011 |   8.084\n",
      "     85 |       1 |   2.031 |   6.113 |   8.085\n",
      "     86 |       1 |   1.994 |   4.075 |  10.084\n",
      "     87 |       1 |   0.095 |   6.060 |  10.184\n",
      "     88 |       1 |   4.018 |   4.131 |   8.188\n",
      "     89 |       1 |   6.066 |   6.089 |   8.076\n",
      "     90 |       1 |   6.063 |   4.083 |  10.134\n",
      "     91 |       1 |   4.068 |   6.133 |  10.162\n",
      "     92 |       1 |   8.145 |   4.096 |   8.161\n",
      "     93 |       1 |  10.214 |   6.049 |   8.109\n",
      "     94 |       1 |  10.136 |   3.980 |  10.080\n",
      "     95 |       1 |   8.092 |   6.049 |  10.179\n",
      "     96 |       1 |  -0.027 |   8.050 |   8.242\n",
      "     97 |       1 |   1.990 |  10.101 |   8.165\n",
      "     98 |       1 |   2.114 |   8.083 |  10.128\n",
      "     99 |       1 |  -0.082 |  10.130 |  10.086\n",
      "    100 |       1 |   4.097 |   8.142 |   8.104\n",
      "    101 |       1 |   6.106 |  10.145 |   8.063\n",
      "    102 |       1 |   6.086 |   8.138 |  10.113\n",
      "    103 |       1 |   4.012 |  10.157 |  10.230\n",
      "    104 |       1 |   8.135 |   8.059 |   8.125\n",
      "    105 |       1 |  10.111 |  10.092 |   8.088\n",
      "    106 |       1 |  10.121 |   8.090 |  10.174\n",
      "    107 |       1 |   8.021 |  10.151 |  10.118\n"
     ]
    }
   ],
   "source": [
    "system = am.load('atom_dump', '100000.dump')\n",
    "print(system)"
   ]
  },
  {
   "cell_type": "markdown",
   "metadata": {},
   "source": [
    "**File Cleanup**"
   ]
  },
  {
   "cell_type": "code",
   "execution_count": 27,
   "metadata": {},
   "outputs": [],
   "source": [
    "os.remove('Al.meam')\n",
    "os.remove('library-Al.meam')\n",
    "os.remove('2015--Pascuet-M-I--Al--LAMMPS--ipr1.json')\n",
    "os.remove('Al-fcc.poscar')\n",
    "os.remove('atom.dat')\n",
    "os.remove('nvt.in')\n",
    "os.remove('log.lammps')\n",
    "\n",
    "# Remove dump files\n",
    "flist = os.listdir(os.getcwd())\n",
    "for fname in flist:\n",
    "    if fname[-5:] == '.dump':\n",
    "        os.remove(fname)       "
   ]
  }
 ],
 "metadata": {
  "anaconda-cloud": {},
  "kernelspec": {
   "display_name": "Python 3",
   "language": "python",
   "name": "python3"
  },
  "language_info": {
   "codemirror_mode": {
    "name": "ipython",
    "version": 3
   },
   "file_extension": ".py",
   "mimetype": "text/x-python",
   "name": "python",
   "nbconvert_exporter": "python",
   "pygments_lexer": "ipython3",
   "version": "3.6.4"
  }
 },
 "nbformat": 4,
 "nbformat_minor": 1
}
