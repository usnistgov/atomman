{
 "cells": [
  {
   "cell_type": "markdown",
   "metadata": {
    "collapsed": true
   },
   "source": [
    "# Introduction to atomman: Defect Creation and Analysis\n",
    "\n",
    "__Lucas M. Hale__, [lucas.hale@nist.gov](mailto:lucas.hale@nist.gov?Subject=ipr-demo), _Materials Science and Engineering Division, NIST_.\n",
    "\n",
    "Notebook last updated: 2018-04-05\n",
    "    \n",
    "[Disclaimers](http://www.nist.gov/public_affairs/disclaimer.cfm) "
   ]
  },
  {
   "cell_type": "markdown",
   "metadata": {},
   "source": [
    "## 1. Introduction\n",
    "\n",
    "One of the focuses of the atomman package is to provide tools for generating and analyzing atomic systems containing defects.  Many of these tools are more complex than the basic tools outlined in the previous section. This Notebook provides an overview of the various defect capabilities in atomman."
   ]
  },
  {
   "cell_type": "markdown",
   "metadata": {},
   "source": [
    "**Library Imports**"
   ]
  },
  {
   "cell_type": "code",
   "execution_count": 1,
   "metadata": {},
   "outputs": [
    {
     "name": "stdout",
     "output_type": "stream",
     "text": [
      "atomman version = 1.2.0\n"
     ]
    }
   ],
   "source": [
    "# Standard Python libraries\n",
    "from __future__ import (absolute_import, print_function,\n",
    "                        division, unicode_literals)\n",
    "\n",
    "# http://www.numpy.org/\n",
    "import numpy as np\n",
    "\n",
    "# https://github.com/usnistgov/atomman\n",
    "import atomman as am\n",
    "import atomman.unitconvert as uc\n",
    "\n",
    "# https://matplotlib.org/\n",
    "import matplotlib.pyplot as plt\n",
    "%matplotlib inline\n",
    "\n",
    "# Show atomman version\n",
    "print('atomman version =', am.__version__)"
   ]
  },
  {
   "cell_type": "markdown",
   "metadata": {},
   "source": [
    "## 2. Point defects\n",
    "\n",
    "The atomman.defect.point() function inserts a point defect into a System and helps with tracking the defect by (1) moving any new/modified atoms to the end of the Atoms list and (2) adding per-atom property old_id that retains each atom's original index.\n",
    "\n",
    "See [04.1. Point defects Jupyter Notebook](04.1. Point defects.ipynb) for more examples.\n",
    "\n",
    "Parameters:\n",
    "\n",
    "- __system__ (*atomman.System*) the system to add the defect to.\n",
    "\n",
    "- __ptd_type__ (*str*) indicates which type of point defect to add.\n",
    "    \n",
    "    - ='v' -- vacancy\n",
    "    \n",
    "    - ='s' -- substitutional\n",
    "    \n",
    "    - ='i' -- positional interstitial\n",
    "    \n",
    "    - ='db' -- dumbbell interstitial\n",
    "\n",
    "- __atype__ (*int, optional*) atom type for defect atom ('i', 's', 'db' styles).\n",
    "\n",
    "- __pos__ (*array-like object, optional*) position for adding the defect atom (all styles).\n",
    "\n",
    "- __ptd_id__ (*int, optional*) atom id where defect is added.  Alternative to using pos ('v', 's', 'db' styles).\n",
    "\n",
    "- __db_vect__ (*array-like object, optional*) vector associated with the dumbbell interstitial ('db' style).\n",
    "\n",
    "- __scale__ (*bool, optional*) indicates if pos and db_vect are absolute (False) or box-relative (True). Default is False.\n",
    "\n",
    "- __atol__ (*float, optional*) absolute tolerance for position-based searching. Default is 1e-3 angstroms."
   ]
  },
  {
   "cell_type": "code",
   "execution_count": 2,
   "metadata": {},
   "outputs": [
    {
     "name": "stdout",
     "output_type": "stream",
     "text": [
      "    atype   pos[0]   pos[1]   pos[2]\n",
      "0       1  0.00000  0.00000  0.00000\n",
      "1       1  1.43325  1.43325  1.43325\n",
      "2       1  2.86650  0.00000  0.00000\n",
      "3       1  4.29975  1.43325  1.43325\n",
      "4       1  0.00000  2.86650  0.00000\n",
      "5       1  1.43325  4.29975  1.43325\n",
      "6       1  2.86650  2.86650  0.00000\n",
      "7       1  4.29975  4.29975  1.43325\n",
      "8       1  0.00000  0.00000  2.86650\n",
      "9       1  1.43325  1.43325  4.29975\n",
      "10      1  2.86650  0.00000  2.86650\n",
      "11      1  4.29975  1.43325  4.29975\n",
      "12      1  0.00000  2.86650  2.86650\n",
      "13      1  1.43325  4.29975  4.29975\n",
      "14      1  2.86650  2.86650  2.86650\n",
      "15      1  4.29975  4.29975  4.29975\n"
     ]
    }
   ],
   "source": [
    "# Define 2x2x2 bcc demonstration supercell\n",
    "a = uc.set_in_units(2.8665, 'angstrom')\n",
    "box = am.Box(a=a, b=a, c=a)\n",
    "atoms = am.Atoms(atype=1, pos=[[0.0,0.0,0.0], [0.5,0.5,0.5]])\n",
    "ucell = am.System(atoms=atoms, box=box, scale=True)\n",
    "system = ucell.supersize(2,2,2)\n",
    "print(system.atoms_df())"
   ]
  },
  {
   "cell_type": "code",
   "execution_count": 3,
   "metadata": {},
   "outputs": [
    {
     "name": "stdout",
     "output_type": "stream",
     "text": [
      "    atype   pos[0]   pos[1]   pos[2]  old_id\n",
      "0       1  0.00000  0.00000  0.00000       0\n",
      "1       1  1.43325  1.43325  1.43325       1\n",
      "2       1  2.86650  0.00000  0.00000       2\n",
      "3       1  4.29975  1.43325  1.43325       3\n",
      "4       1  0.00000  2.86650  0.00000       4\n",
      "5       1  2.86650  2.86650  0.00000       6\n",
      "6       1  4.29975  4.29975  1.43325       7\n",
      "7       1  0.00000  0.00000  2.86650       8\n",
      "8       1  1.43325  1.43325  4.29975       9\n",
      "9       1  2.86650  0.00000  2.86650      10\n",
      "10      1  4.29975  1.43325  4.29975      11\n",
      "11      1  0.00000  2.86650  2.86650      12\n",
      "12      1  1.43325  4.29975  4.29975      13\n",
      "13      1  2.86650  2.86650  2.86650      14\n",
      "14      1  4.29975  4.29975  4.29975      15\n",
      "15      1  1.13325  3.99975  1.13325       5\n",
      "16      1  1.73325  4.59975  1.73325      16\n"
     ]
    }
   ],
   "source": [
    "# Change atom 5 into <111> dumbbell interstitial pair\n",
    "defect_system = am.defect.point(system, 'db', ptd_id=5, db_vect=[0.3, 0.3, 0.3])\n",
    "print(defect_system.atoms_df())"
   ]
  },
  {
   "cell_type": "markdown",
   "metadata": {},
   "source": [
    "## 3. Stroh method for dislocations\n",
    "\n",
    "The atomman.Stroh class obtains a solution for the Eshelby anisotropic elasticity model of a perfectly straight dislocation using the Stroh method. \n",
    "\n",
    "See the [04.2. Stroh class Jupyter Notebook](04.2. Stroh class.ipynb) for more details on the methods and theory.\n",
    "\n",
    "Parameters to initialize Stroh object\n",
    "\n",
    "- **C** (*atomman.ElasticConstants*) The medium's elastic constants.\n",
    "\n",
    "- **burgers** (*array-like object*) The dislocation's Cartesian Burgers vector.\n",
    "\n",
    "- **axes** (*array-like object, optional*) 3x3 set of rotational axes for the system. If given, C and burgers will be transformed using axes.\n",
    "\n",
    "- **m** (*array-like object, optional*) The m unit vector for the solution.  m, n, and u (dislocation line) should be right-hand orthogonal.  Default value is [1,0,0] (x-axis).\n",
    "\n",
    "- **n** (*array-like object, optional*) The n unit vector for the solution.  m, n, and u (dislocation line) should be right-hand orthogonal.  Default value is [0,1,0] (y-axis).\n",
    "\n",
    "- **tol** (*float*) Tolerance parameter used to round off near-zero values.  Default value is 1e-8."
   ]
  },
  {
   "cell_type": "markdown",
   "metadata": {},
   "source": [
    "### 3.1. Solve Stroh method for bcc iron a/2&lt;111&gt;{-101} edge dislocation. "
   ]
  },
  {
   "cell_type": "code",
   "execution_count": 4,
   "metadata": {},
   "outputs": [],
   "source": [
    "# Burgers vector\n",
    "burgers = a * np.array([0.5, 0.5, 0.5])\n",
    "\n",
    "# Elastic constants \n",
    "C11 = uc.set_in_units(240, 'GPa')\n",
    "C12 = uc.set_in_units(145, 'GPa')\n",
    "C44 = uc.set_in_units(115, 'GPa')\n",
    "C = am.ElasticConstants(C11=C11, C12=C12, C44=C44)\n",
    "\n",
    "# System orientation (using default m and n vectors)\n",
    "x_axis = np.array([ 1, 1, 1]) # parallel to burgers (edge dislocation)\n",
    "y_axis = np.array([-1, 0, 1]) # perpendicular to slip plane\n",
    "z_axis = np.array([ 1,-2, 1]) # parallel to line direction\n",
    "axes = np.array([x_axis, y_axis, z_axis])\n",
    "\n",
    "# Get Stroh solution\n",
    "stroh = am.defect.Stroh(C=C, burgers=burgers, axes=axes)"
   ]
  },
  {
   "cell_type": "markdown",
   "metadata": {},
   "source": [
    "### 3.2. Use Stroh solution to insert dislocation into atomic system."
   ]
  },
  {
   "cell_type": "code",
   "execution_count": 5,
   "metadata": {},
   "outputs": [
    {
     "data": {
      "image/png": "[encoded data removed]",
      "text/plain": [
       "<matplotlib.figure.Figure at 0x1bf54748>"
      ]
     },
     "metadata": {},
     "output_type": "display_data"
    }
   ],
   "source": [
    "# Create bulk bcc system in proper orientation\n",
    "disl_system = ucell.rotate(axes)\n",
    "disl_system = disl_system.supersize((-3, 3), (-3, 3), 1)\n",
    "disl_system.atoms.pos += a * np.array([0.00, 0.25, 0.00]) # shift pos so no y=0 coordinates\n",
    "\n",
    "# Displace atomic positions by Stroh.displacement()\n",
    "displacement = stroh.displacement(disl_system.atoms.pos)\n",
    "disl_system.atoms.pos += displacement\n",
    "\n",
    "# Plot x and y atomic coordinates to show dislocation\n",
    "x = disl_system.atoms.pos[:, 0]\n",
    "y = disl_system.atoms.pos[:, 1]\n",
    "\n",
    "fig = plt.figure(figsize=(4,4))\n",
    "plt.plot(x, y, 'o')\n",
    "plt.xlim(-10, 10)\n",
    "plt.ylim(-10, 10)\n",
    "plt.show()"
   ]
  },
  {
   "cell_type": "markdown",
   "metadata": {},
   "source": [
    "## 4. Dislocation anaylsis tools\n",
    "\n",
    "There are also a number of analysis tools for characterizing dislocations and other crystalline defects.\n",
    "\n",
    "- **atomman.defect.slip_vector()** calculates the slip vector for all atoms in a system.  This is a good tool for characterizing plastic deformation within a system that occurs between two points in time. \n",
    "\n",
    "- **atomman.defect.disregistry()** characterizes a dislocation's planar spreading by calculating the relative displacement of atoms between the atomic planes above and below the dislocation's slip plane. \n",
    "\n",
    "- **atomman.defect.nye_tensor()** allows for dislocation cores to be characterized using the gradient of the deformation tensor.  Also calculates the strain state for all atoms in the system relative to a perfect crystal configuration.\n",
    "\n",
    "- **atomman.defect.differential_displacement()** allows for dislocation cores to be characterized using the difference in the displacements between all pairs of neighbor atoms relative to a perfect crystal configuration.\n",
    "\n",
    "See the [04.3. Dislocation analysis tools Jupyter Notebook](04.3. Dislocation analysis tools.ipynb) for the underlying theory and examples of the tools being used."
   ]
  },
  {
   "cell_type": "markdown",
   "metadata": {},
   "source": [
    "## 5. Semidiscrete variational Peierls-Nabarro dislocations\n",
    "\n",
    "Classes and functions are included that allow for semidiscrete variational Peierls-Nabarro models of dislocations to be solved. \n",
    "\n",
    "See the [04.4. Semidiscrete Variational Peierls-Nabarro Jupyter Notebook](04.04 Semidiscrete Variational Peierls-Nabarro.ipynb) for a description of the method and examples. "
   ]
  }
 ],
 "metadata": {
  "kernelspec": {
   "display_name": "Python 3",
   "language": "python",
   "name": "python3"
  },
  "language_info": {
   "codemirror_mode": {
    "name": "ipython",
    "version": 3
   },
   "file_extension": ".py",
   "mimetype": "text/x-python",
   "name": "python",
   "nbconvert_exporter": "python",
   "pygments_lexer": "ipython3",
   "version": "3.6.4"
  }
 },
 "nbformat": 4,
 "nbformat_minor": 2
}
